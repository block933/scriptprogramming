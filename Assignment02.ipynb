{
 "cells": [
  {
   "cell_type": "markdown",
   "metadata": {},
   "source": [
    "# Assignment 2\n",
    "\n",
    "## 2011136057 서창윤"
   ]
  },
  {
   "cell_type": "markdown",
   "metadata": {},
   "source": [
    "### 1. 다음 6 개의 Expression에 대해 Evaluation 결과 값을 출력하고, 해당 결과가 나온 이유에 대해 설명하시오\n",
    "- 1 and 2 and 3 and 4"
   ]
  },
  {
   "cell_type": "code",
   "execution_count": 2,
   "metadata": {
    "collapsed": false
   },
   "outputs": [
    {
     "name": "stdout",
     "output_type": "stream",
     "text": [
      "4\n"
     ]
    }
   ],
   "source": [
    "print 1 and 2 and 3 and 4"
   ]
  },
  {
   "cell_type": "markdown",
   "metadata": {},
   "source": [
    "> and 연산은 비교항이 모두 True면 오른쪽 항의 평가 결과를 반환한다. 따라서, 1, 2, 3, 4 모두 True이므로 마지막 and 의 오른쪽 항의 평가 결과인 4가 반환된다."
   ]
  },
  {
   "cell_type": "markdown",
   "metadata": {},
   "source": [
    "- 1 or 2 or 3 or 4"
   ]
  },
  {
   "cell_type": "code",
   "execution_count": 3,
   "metadata": {
    "collapsed": false
   },
   "outputs": [
    {
     "name": "stdout",
     "output_type": "stream",
     "text": [
      "1\n"
     ]
    }
   ],
   "source": [
    "print 1 or 2 or 3 or 4"
   ]
  },
  {
   "cell_type": "markdown",
   "metadata": {},
   "source": [
    "> or 연산은 비교항 중 하나라도 True 라면 그 평가 결과를 반환한다. 즉, 좌항이 True라면 우항을 볼 필요가 없다. 따라서 1이 True 이므로 이후 항을 비교하지 않고 평가 결과인 1을 반환한다."
   ]
  },
  {
   "cell_type": "markdown",
   "metadata": {},
   "source": [
    "- 1 and 2 or 3 and 4"
   ]
  },
  {
   "cell_type": "code",
   "execution_count": 4,
   "metadata": {
    "collapsed": false
   },
   "outputs": [
    {
     "name": "stdout",
     "output_type": "stream",
     "text": [
      "2\n"
     ]
    }
   ],
   "source": [
    "print 1 and 2 or 3 and 4"
   ]
  },
  {
   "cell_type": "markdown",
   "metadata": {},
   "source": [
    "> 좌측 and는 두항이 모두 True이므로 평가 결과로 2가 반환된다. 2는 or의 좌항이 되고, True 이므로 평가 결과로 2가 반환된다."
   ]
  },
  {
   "cell_type": "markdown",
   "metadata": {},
   "source": [
    "- (1 and 2) or (3 and 4)"
   ]
  },
  {
   "cell_type": "code",
   "execution_count": 5,
   "metadata": {
    "collapsed": false
   },
   "outputs": [
    {
     "name": "stdout",
     "output_type": "stream",
     "text": [
      "2\n"
     ]
    }
   ],
   "source": [
    "print (1 and 2) or (3 and 4)"
   ]
  },
  {
   "cell_type": "markdown",
   "metadata": {},
   "source": [
    "> 위 문제와 마찬가지지만, 이번엔 괄호를 사용해 확실히 묶여있는 형태로 볼 수 있다. 마찬가지로 or 의 좌항 평가 결과로 2가 나오고, 2가 True 이므로 평가 결과로 2가 반환된다."
   ]
  },
  {
   "cell_type": "markdown",
   "metadata": {},
   "source": [
    "- 1 or 2 and 3 or 4"
   ]
  },
  {
   "cell_type": "code",
   "execution_count": 6,
   "metadata": {
    "collapsed": false
   },
   "outputs": [
    {
     "name": "stdout",
     "output_type": "stream",
     "text": [
      "1\n"
     ]
    }
   ],
   "source": [
    "print 1 or 2 and 3 or 4"
   ]
  },
  {
   "cell_type": "markdown",
   "metadata": {},
   "source": [
    "> 첫 or 에서, 이미 True인 1을 만났기 때문에 평가 결과로 1이 반환된다."
   ]
  },
  {
   "cell_type": "markdown",
   "metadata": {},
   "source": [
    "- (1 or 2) and (3 or 4)"
   ]
  },
  {
   "cell_type": "code",
   "execution_count": 7,
   "metadata": {
    "collapsed": false
   },
   "outputs": [
    {
     "name": "stdout",
     "output_type": "stream",
     "text": [
      "3\n"
     ]
    }
   ],
   "source": [
    "print (1 or 2) and (3 or 4)"
   ]
  },
  {
   "cell_type": "markdown",
   "metadata": {},
   "source": [
    "> 이번에는 or 항이 괄호로 묶여있으므로 괄호부터 실행된다. 첫 or의 평가결과로 1이, 두번째 or의 평가결과로 3이 반환될 것이다. 그것이 and로 묶였으므로 1 and 3 이라 볼 수 있고, 두 항이 모두 True 이므로 평가 결과로 3이 반환된다.\n",
    "\n",
    "---"
   ]
  },
  {
   "cell_type": "markdown",
   "metadata": {},
   "source": [
    "### 2. 경로에 해당하는 문자열 1개를 입력 받아 그 안에 디렉토리 경로명과 파일명을 분리하여 리스트로 반환하는 함수 div_path(s)를 작성하시오.\n",
    "- 인자로 전달하는 문자열은 경로만 들어간다고 가정한다.\n",
    "- 각 디렉토리와 파일을 구분하는 문자는 '/'로 가정한다.\n",
    "- 반환하는 리스트의 첫번째 원소는 디렉토리이고 두번째 원소는 파일명이다.\n",
    "- 다음과 같은 실행 및 출력 결과가 도출되어야 한다.\n",
    "> div_path('/usr/local/bin/python'), \n",
    "> ['/usr/local/bin', 'python'], \n",
    "> div_path('/home/chulsoo/test.txt'), \n",
    "> ['/home/chulsoo', 'test.txt']\n",
    "- [참고] 리스트(l) 내에 새로운 정수값 (예를 들어 10)을 넣는 방법은 l.append(10) 이다."
   ]
  },
  {
   "cell_type": "code",
   "execution_count": 12,
   "metadata": {
    "collapsed": false
   },
   "outputs": [
    {
     "name": "stdout",
     "output_type": "stream",
     "text": [
      "['/usr/local/bin', 'python']\n",
      "['/home/chulsoo', 'test.txt']\n"
     ]
    }
   ],
   "source": [
    "def div_path(s):\n",
    "    idx = s.rindex('/');\n",
    "    path = s[:idx]\n",
    "    name = s[idx+1:]\n",
    "    return [path, name]\n",
    "\n",
    "print div_path('/usr/local/bin/python');\n",
    "print div_path('/home/chulsoo/test.txt');"
   ]
  },
  {
   "cell_type": "markdown",
   "metadata": {},
   "source": [
    "> 마지막 '/'가 디렉토리와 파일명을 분리하는 구분자이기 때문에 rindex를 사용해 문자열의 뒷쪽부터 가장 처음만나는 '/'를 검색하였다. 해당 인덱스의 좌측은 디렉토리 경로(path)로, 우측은 파일명(name)으로 지정해 리스트로 반환하였다. 그리고 결과를 출력하였다.\n",
    "\n",
    "---"
   ]
  },
  {
   "cell_type": "markdown",
   "metadata": {},
   "source": [
    "### 3. 두 개의 리스트를 인자로 받아서 그 두 개의 리스트에 대한 '합집합'을 반환하는 함수 list_union(lista, listb)를 작성하시오.\n",
    "- 인자로 전달하는 리스트 2 개에는 정수값만 들어간다고 가정하자.\n",
    "- 함수 내에서 새로운 리스트를 만들어 그 리스트 내에 인자로 받은 두 리스트의 모든 원소를 넣어 반환한다.\n",
    "- 반환하는 리스트에는 절대로 중복된 원소가 들어 있으면 안된다 (집합의 조건).\n",
    "- 반환하는 리스트는 정렬이 되어 있어야 한다.\n",
    "- 다음과 같은 실행 및 출력 결과가 도출되어야 한다.\n",
    "\n",
    "> list_union([1, 2, 3], [1, 2, 4]), [1, 2, 3, 4]\n",
    "\n",
    "> list_union([-10, -5, 0, -1], [100, 9, 0, 9]), [-10, -5, -1, 0, 9, 100]\n",
    "\n",
    "> list_union([0, 1, 2], [0, 1, 2]), [0, 1, 2]\n",
    "\n",
    "- [참고] 리스트(l) 내에 새로운 정수값 (예를 들어 10)을 넣는 방법은 l.append(10) 이다.\n",
    "- [참고] 임의의 정수값 (x)이 리스트 (l) 내에 존재하는지 판단하는 방법은 x in l 이다."
   ]
  },
  {
   "cell_type": "code",
   "execution_count": 14,
   "metadata": {
    "collapsed": false
   },
   "outputs": [
    {
     "name": "stdout",
     "output_type": "stream",
     "text": [
      "[1, 2, 3, 4]\n",
      "[-10, -5, 0, -1, 100, 9]\n",
      "[0, 1, 2]\n"
     ]
    }
   ],
   "source": [
    "def list_union(lista, listb):\n",
    "    listsum = lista\n",
    "    for i in listb:\n",
    "        if not i in listsum:\n",
    "            listsum.append(i)\n",
    "    return listsum\n",
    "\n",
    "print list_union([1, 2, 3], [1, 2, 4])\n",
    "print list_union([-10, -5, 0, -1], [100, 9, 0, 9])\n",
    "print list_union([0, 1, 2], [0, 1, 2])"
   ]
  },
  {
   "cell_type": "markdown",
   "metadata": {},
   "source": [
    "> 합집합을 구하는 문제이므로 우선 두 리스트중 하나를 선택한다(listsum). 그리고 선택되지 않은 리스트의 요소를 listsum에 존재하는지 검사한다. 없다면(not in) listsum에 append 시켜 합집합을 완성한다.\n",
    "\n",
    "---"
   ]
  },
  {
   "cell_type": "markdown",
   "metadata": {},
   "source": [
    "### 오일러 4. 앞에서부터 읽을 때나 뒤에서부터 읽을 때나 모양이 같은 수를 대칭수(palindrome)라고 부릅니다.\n",
    "- 두 자리 수를 곱해 만들 수 있는 대칭수 중 가장 큰 수는 9009 (= 91 × 99) 입니다.\n",
    "- 세 자리 수를 곱해 만들 수 있는 가장 큰 대칭수는 얼마입니까?"
   ]
  },
  {
   "cell_type": "code",
   "execution_count": 15,
   "metadata": {
    "collapsed": false
   },
   "outputs": [
    {
     "name": "stdout",
     "output_type": "stream",
     "text": [
      "906609\n"
     ]
    }
   ],
   "source": [
    "maxP = 0\n",
    "for i in range(100, 1000):\n",
    "    for j in range(i, 1000):\n",
    "        num = i * j\n",
    "        isPelindrome = str(num)\n",
    "        \n",
    "        length = len(isPelindrome)\n",
    "        flag = True\n",
    "        # 펠린드롬 검사\n",
    "        for k in range(0, length/2):\n",
    "            if isPelindrome[k] != isPelindrome[length-k-1]:\n",
    "                flag = False\n",
    "                break\n",
    "        \n",
    "        if flag:\n",
    "            if maxP < num:\n",
    "                maxP = num\n",
    "print maxP"
   ]
  },
  {
   "cell_type": "markdown",
   "metadata": {},
   "source": [
    "> 우선 100 부터 1000까지 모든 수의 곱을 모두 구한다. 그 다음 각 곱 결과를 string으로 변환하고 이를 펠린드롬인지 검사한다. 펠린드롬이라면, 현재 저장된 가장 큰 값인 MAX와 비교하여 크다면 MAX에 대입한다. 결국, MAX값에는 최대값이 들어가게 될 것이다.\n",
    "\n",
    "---"
   ]
  },
  {
   "cell_type": "markdown",
   "metadata": {},
   "source": [
    "### 오일러 5. 1 ~ 10 사이의 어떤 수로도 나누어 떨어지는 가장 작은 수는 2520입니다.\n",
    "- 그러면 1 ~ 20 사이의 어떤 수로도 나누어 떨어지는 가장 작은 수는 얼마입니까?"
   ]
  },
  {
   "cell_type": "code",
   "execution_count": 51,
   "metadata": {
    "collapsed": false
   },
   "outputs": [
    {
     "name": "stdout",
     "output_type": "stream",
     "text": [
      "232792560\n"
     ]
    }
   ],
   "source": [
    "# 각 소인수의 최대값을 저장할 배열\n",
    "maxb = [0] * 20\n",
    "    \n",
    "for a in range(1, 21):\n",
    "    \n",
    "    # 크기 20의 b를 0으로 초기화\n",
    "    b = [0] * 20\n",
    "\n",
    "    while a != 1:\n",
    "        i = 1\n",
    "        while True:\n",
    "            i += 1\n",
    "            if a % i == 0:\n",
    "                a /= i\n",
    "                # 각각의 소인수를 해당 인덱스에 넣어 수를 센다.\n",
    "                b[i] += 1\n",
    "                break\n",
    "                \n",
    "    for i in range(20):\n",
    "        if maxb[i] < b[i]:\n",
    "            maxb[i] = b[i]\n",
    "\n",
    "# 최종적으로 구해진 소인수들을 모두 곱한다\n",
    "num = 1\n",
    "for i in range(2, 20):\n",
    "    for j in range(maxb[i]):\n",
    "        num = num * i\n",
    "\n",
    "print num\n"
   ]
  },
  {
   "cell_type": "markdown",
   "metadata": {},
   "source": [
    "> 1~20 사이의 숫자를 모두 소인수분해하여 최소 공배수를 구하였다. 초기화된 배열이 필요했기 때문에 [a] * b 와 같은 형식으로 리스트를 초기화 하였다.\n",
    "\n",
    "---"
   ]
  },
  {
   "cell_type": "markdown",
   "metadata": {},
   "source": [
    "### 오일러 6. 1부터 10까지 자연수를 각각 제곱해 더하면 다음과 같습니다 (제곱의 합).\n",
    "- 12 + 22 + ... + 102 = 385\n",
    "- 1부터 10을 먼저 더한 다음에 그 결과를 제곱하면 다음과 같습니다 (합의 제곱).\n",
    "\n",
    "- (1 + 2 + ... + 10)2 = 552 = 3025\n",
    "- 따라서 1부터 10까지 자연수에 대해 \"합의 제곱\"과 \"제곱의 합\" 의 차이는 3025 - 385 = 2640 이 됩니다.\n",
    "\n",
    "- 그러면 1부터 100까지 자연수에 대해 \"합의 제곱\"과 \"제곱의 합\"의 차이는 얼마입니까?"
   ]
  },
  {
   "cell_type": "code",
   "execution_count": 49,
   "metadata": {
    "collapsed": false
   },
   "outputs": [
    {
     "name": "stdout",
     "output_type": "stream",
     "text": [
      "25164150\n"
     ]
    }
   ],
   "source": [
    "num1 = 0\n",
    "num2 = 0\n",
    "for i in range(1, 101):\n",
    "    num1 += i**2\n",
    "    num2 += i\n",
    "num2 = num2**2\n",
    "\n",
    "print num2 - num1"
   ]
  },
  {
   "cell_type": "markdown",
   "metadata": {},
   "source": [
    "> 간단하게 제곱의 합과, 합의 제곱을 구하여 두 수의 차이를 구하였다.\n",
    "\n",
    "---"
   ]
  },
  {
   "cell_type": "markdown",
   "metadata": {
    "collapsed": true
   },
   "source": [
    "### 7. [Incremental Project] 웹 URL로 지정된 웹페이지를 문자열로 가져와 1) 모든 HTML 태그를 제외한 순수 텍스트 문자열만을 걸러내고, 2) 그 순수 텍스트 문자열 안에 존재하는 단어가 총 몇개인지 출력하는 프로그램을 작성하시오."
   ]
  },
  {
   "cell_type": "code",
   "execution_count": 39,
   "metadata": {
    "collapsed": false
   },
   "outputs": [
    {
     "name": "stdout",
     "output_type": "stream",
     "text": [
      "444\n"
     ]
    }
   ],
   "source": [
    "import urllib2\n",
    "\n",
    "source = urllib2.urlopen(\"http://cse.kut.ac.kr/\").read()\n",
    "text = ''\n",
    "\n",
    "# 주석 제거\n",
    "while '<!--' in source:\n",
    "    # 주석은 <!-- 과 --> 의 쌍으로 나타내어지므로 index 함수를 사용해 주석을 찾아 없앤다.\n",
    "    left = source.index('<!--')\n",
    "    right = source.index('-->')\n",
    "    source = source[:left] + source[right+3:]\n",
    "\n",
    "# 태그가 없어질때까지 반복\n",
    "while '<' in source:\n",
    "    # 태그는 < 과 > 의 쌍으로 나타내어지므로 index 함수를 사용해 태그 부분을 찾아 없앤다.\n",
    "    left = source.index('<')\n",
    "    right = source.index('>')\n",
    "    text = text+' '+source[:left]\n",
    "    source = source[right+1:]\n",
    "\n",
    "print len(text.split())"
   ]
  },
  {
   "cell_type": "markdown",
   "metadata": {},
   "source": [
    "> 우선 순수 텍스트를 걸러내기 위해 다음과 같이 가정하고 코드를 작성하였다.\n",
    "\n",
    "> 1. 태그는 여는태그와 닫는 태그 모두 <로 시작해 >로 끝난다. 따라서 <, > 바깥의 문자는 순수 텍스트이다.\n",
    "\n",
    "> 2. 예외로 HTML 주석이 존재하면 < 안에 < 이 존재하는 형태가 나타날 수 있다. 주석은 관리자가 출력하고자 하는 코드가 아니므로 배재한다. 즉, '<\\!--' 부터 '-->' 사이의 문자는 모두 제거한다.\n",
    "\n",
    "> 위와 같은 규칙으로 순수 텍스트를 걸러내고 결과값인 text 를 공백기준으로 split 하여 그 길이(단어 수)를 출력하였다.\n",
    "\n",
    "---"
   ]
  },
  {
   "cell_type": "markdown",
   "metadata": {},
   "source": [
    "## 소감"
   ]
  },
  {
   "cell_type": "markdown",
   "metadata": {},
   "source": [
    "> 문자열 및 and, or 평가에 관련된 문제와 프로젝트 오일러 풀이를 수행하였다. while 이나 for, if 문도 괄호와 중괄호가 없어서 처음엔 어색했지만 특별히 신경쓰지 않고 들여쓰기만으로 작성하는것도 많이 익숙해졌다. 또 다양한 라이브러리들을 쉽게 import 하여 쓸 수 있는것도 큰 장점인것 같다. 하지만 이번 과제에서 실수로 무한 루프에 빠지는 경우가 발생하였는데 너무 많은 메모리, cpu를 사용하는지 커널을 인터럽트시킬수가 없었다. 마크업과 코드를 혼용하여 브라우저 환경기반으로 작성하는 jupyter notebook의 방식은 매우 편리하지만 이런 면에서는 조금 불편한 것 같다."
   ]
  }
 ],
 "metadata": {
  "kernelspec": {
   "display_name": "Python [Root]",
   "language": "python",
   "name": "Python [Root]"
  },
  "language_info": {
   "codemirror_mode": {
    "name": "ipython",
    "version": 2
   },
   "file_extension": ".py",
   "mimetype": "text/x-python",
   "name": "python",
   "nbconvert_exporter": "python",
   "pygments_lexer": "ipython2",
   "version": "2.7.12"
  }
 },
 "nbformat": 4,
 "nbformat_minor": 0
}

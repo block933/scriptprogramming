{
 "cells": [
  {
   "cell_type": "markdown",
   "metadata": {},
   "source": [
    "# Assignment 04\n",
    "\n",
    "## 2011136057 서창윤"
   ]
  },
  {
   "cell_type": "markdown",
   "metadata": {},
   "source": [
    "### 1. 파일 s.txt 내의 다음 내용과 함께 아래 문제의 코드를 제시하시오."
   ]
  },
  {
   "cell_type": "markdown",
   "metadata": {},
   "source": [
    "1) 파일 s.txt을 읽어서 각 라인에 있는 첫 번째 단어(문자열) 자체들을 기준으로 라인별 정렬후 파일 s1.txt에 그 결과를 기록하는 코드를 작성하시오. 즉, 프로그램 수행 후 s1.txt에 있는 파일 내용은 다음과 같다."
   ]
  },
  {
   "cell_type": "code",
   "execution_count": 39,
   "metadata": {
    "collapsed": false
   },
   "outputs": [],
   "source": [
    "lines = []\n",
    "with open('s.txt', 'r') as f:\n",
    "    for line in f:\n",
    "        lines.append(line.replace('\\n', ''))\n",
    "    lines.sort()\n",
    "    \n",
    "with open('s1.txt', 'w') as f:\n",
    "    f.write('\\n'.join(lines))"
   ]
  },
  {
   "cell_type": "markdown",
   "metadata": {},
   "source": [
    "> 우선 s.txt 파일을 읽어 lines에 저장하고, 이를 sort 해서 s1.txt 파일에 저장하였다. 진행 과정에서 \\n이 마지막 열에는 없을 수 있기 때문에 라인을 읽어 올 때 일괄적으로 \\n을 제거하고, 다시 파일에 쓸 때 \\n을 기준으로 파일을 저장하였다."
   ]
  },
  {
   "cell_type": "markdown",
   "metadata": {},
   "source": [
    "2) 파일 s.txt을 읽어서 각 라인에 있는 두 번째 단어(문자열) 자체들을 기준으로 라인별 정렬후 파일 s2.txt에 그 결과를 기록하는 코드를 작성하시오. 즉, 프로그램 수행 후 s2.txt에 있는 파일 내용은 다음과 같다."
   ]
  },
  {
   "cell_type": "code",
   "execution_count": 38,
   "metadata": {
    "collapsed": false
   },
   "outputs": [],
   "source": [
    "lines = []\n",
    "with open('s.txt', 'r') as f:\n",
    "    for line in f:\n",
    "        lines.append(line.replace('\\n', ''))\n",
    "    lines.sort(key=lambda x: x[1:])\n",
    "    \n",
    "with open('s2.txt', 'w') as f:\n",
    "    f.write('\\n'.join(lines))"
   ]
  },
  {
   "cell_type": "markdown",
   "metadata": {},
   "source": [
    "> 1)과 마찬가지로 파일을 읽어와 저장하였다. 다만, 2번째 문자를 기준으로 정렬하기 위해 sort 함수에 key를 정의하여 넣었다."
   ]
  },
  {
   "cell_type": "markdown",
   "metadata": {},
   "source": [
    "3) 파일 s.txt을 읽어서 각 라인들에 있는 모든 단어들을 순차적으로 다시 나열하되 각 라인에 세 개의 단어들이 오도록 하여 s3.txt에 기록하는 코드를 작성하시오. 즉, 프로그램 수행 후 s3.txt에 있는 파일 내용은 다음과 같다."
   ]
  },
  {
   "cell_type": "code",
   "execution_count": 37,
   "metadata": {
    "collapsed": false
   },
   "outputs": [],
   "source": [
    "words = []\n",
    "with open('s.txt', 'r') as f:\n",
    "    for line in f:\n",
    "        words.extend(line.replace('\\n', '').split())\n",
    "    \n",
    "with open('s3.txt', 'w') as f:\n",
    "    for i in range(len(words)/3+1):\n",
    "        f.write(' '.join(words[3*i:3*(i+1)])+'\\n')"
   ]
  },
  {
   "cell_type": "markdown",
   "metadata": {},
   "source": [
    "> 이번에는 각 라인을 읽으면서, split 을 사용해 extend로 각 word 를 words 리스트에 저장하였다. 이렇게 저장된 words를 3개씩 한 라인에 출력하기 위해 for 반복을 사용해 3단어씩 join으로 묶고, 이에 \\n을 붙여 라인을 변경해 저장하였다.\n",
    "\n",
    "---"
   ]
  },
  {
   "cell_type": "markdown",
   "metadata": {},
   "source": [
    "### 2. 다음과 같은 조건들을 참고하여 회원 가입 및 로그인 프로그램을 작성하시오."
   ]
  },
  {
   "cell_type": "code",
   "execution_count": 3,
   "metadata": {
    "collapsed": false
   },
   "outputs": [
    {
     "name": "stdout",
     "output_type": "stream",
     "text": [
      "\n",
      "Welcome to Our Service\n",
      "\n",
      "1. Sign Up\n",
      "2. Sign In\n",
      "3. Quit\n",
      "\n",
      "cmd : 1\n",
      "ID : tom\n",
      "Password : tom\n",
      "Name : tom\n",
      "School : tom's school\n",
      "\n",
      "Welcome to Our Service\n",
      "\n",
      "1. Sign Up\n",
      "2. Sign In\n",
      "3. Quit\n",
      "\n",
      "cmd : 1\n",
      "ID : tom\n",
      "Sorry, the entered ID is already used.\n",
      "\n",
      "ID : kim\n",
      "Password : kim\n",
      "Name : kim\n",
      "School : kim's school\n",
      "\n",
      "Welcome to Our Service\n",
      "\n",
      "1. Sign Up\n",
      "2. Sign In\n",
      "3. Quit\n",
      "\n",
      "cmd : 2\n",
      "ID : jerry\n",
      "Sorry, you are not a registered member.\n",
      "\n",
      "ID : tom\n",
      "Password : jerry\n",
      "Sorry, the entered password is not correct.\n",
      "\n",
      "Password : tom\n",
      "Hello tom!\n",
      "\n",
      "\n",
      "Welcome to Our Service\n",
      "\n",
      "1. Sign Up\n",
      "2. Sign In\n",
      "3. Quit\n",
      "\n",
      "cmd : 3\n",
      "Bye ~\n",
      "\n",
      "\n"
     ]
    }
   ],
   "source": [
    "import sha\n",
    "import os\n",
    "\n",
    "fileName = 'access.txt'\n",
    "\n",
    "# 메뉴를 출력하는 함수\n",
    "def printMenu():\n",
    "    print '\\nWelcome to Our Service\\n\\n1. Sign Up\\n2. Sign In\\n3. Quit\\n'\n",
    "    return\n",
    "\n",
    "# id가 존재하는지 체크하는 함수\n",
    "def isExistId(uid):\n",
    "    with open(fileName, 'r') as f:\n",
    "        for line in f:\n",
    "            fid = line.split(':')[0]\n",
    "            if fid == uid:\n",
    "                return True\n",
    "        return False\n",
    "    \n",
    "# 회원가입 함수\n",
    "def regist(uid, pw, name, school):\n",
    "    with open(fileName, 'a') as f:\n",
    "        f.write(uid+\":\"+sha.new(pw).hexdigest()+\",\"+name+\" ,\"+school+\"\\n\")\n",
    "    \n",
    "# 로그인 체크 함수. id, pw 일치 시 name 반환\n",
    "def login(uid, pw):\n",
    "    with open(fileName, 'r') as f:\n",
    "        for line in f:\n",
    "            # split을 사용한 라인별 정보 추출\n",
    "            fid = line.split(':')[0]\n",
    "            fpw = line.split(':')[1].split(',')[0]\n",
    "            fname = line.split(':')[1].split(',')[1]\n",
    "            if fid == uid:\n",
    "                if fpw == sha.new(pw).hexdigest():\n",
    "                    return fname\n",
    "        return ''\n",
    "\n",
    "# 최초 실행시 파일이 없다면 생성\n",
    "if not os.path.isfile(fileName):\n",
    "    with open(fileName, 'w') as f:\n",
    "        f.write('')\n",
    "\n",
    "while (1):\n",
    "    printMenu()\n",
    "    cmd = raw_input('cmd : ')\n",
    "    if cmd == '1':\n",
    "        uid = raw_input('ID : ')\n",
    "        while (isExistId(uid)):\n",
    "            print 'Sorry, the entered ID is already used.\\n'\n",
    "            uid = raw_input('ID : ')\n",
    "        pw = raw_input('Password : ')\n",
    "        name = raw_input('Name : ')\n",
    "        school = raw_input('School : ')\n",
    "        regist(uid, pw, name, school)\n",
    "    elif cmd == '2':\n",
    "        uid = raw_input('ID : ')\n",
    "        while (not isExistId(uid)):\n",
    "            print 'Sorry, you are not a registered member.\\n'\n",
    "            uid = raw_input('ID : ')\n",
    "            \n",
    "        pw = raw_input('Password : ')\n",
    "        name = login(uid, pw)\n",
    "        while (name == ''):\n",
    "            print 'Sorry, the entered password is not correct.\\n'\n",
    "            pw = raw_input('Password : ')\n",
    "            name = login(uid, pw)\n",
    "        \n",
    "        print 'Hello '+name+'!\\n'\n",
    "    else:\n",
    "        print 'Bye ~\\n\\n'\n",
    "        break"
   ]
  },
  {
   "cell_type": "markdown",
   "metadata": {},
   "source": [
    "> 우선 회원관리에 필요한 각 부분을 함수로 나누어 작성하였다. 첫째로 메뉴 출력함수를 작성하고 file을 읽어와 id가 존재하는지 체크하는 함수를 작성하였다. 비슷한 원리로 login 함수를 추가하였으며 이 로그인 함수는 일치하는 계정을 발견할 경우 계정의 이름을 반환한다. 가입 함수는 입력받은 계정을 파일에 쓰는 역할을 하며 os 패키지를 사용해 최초 실행 시 파일이 존재하지 않는 경우를 처리하였다. 또한 while을 사용하여 id가 이미 존재하거나 pw가 틀린 경우에는 지속적으로 입력을 받을 수 있도록 하였다.<br/>그리고 약간의 트릭으로, login 함수에서 로그인 실패 반환값인 ''(공백)을 실제 name이 ''(공백)인 사용자와 헷갈리지 않기 위해 regist 함수에서 name 뒤에 공간(스페이스)을 하나 붙여둠으로써 해결하였다.\n",
    "\n",
    "---"
   ]
  },
  {
   "cell_type": "markdown",
   "metadata": {},
   "source": [
    "### 3. range() 함수와 유사한 frange() 함수를 다음 조건을 참고하여 만드시오."
   ]
  },
  {
   "cell_type": "code",
   "execution_count": 45,
   "metadata": {
    "collapsed": false
   },
   "outputs": [
    {
     "name": "stdout",
     "output_type": "stream",
     "text": [
      "[0.0, 0.1, 0.2, 0.3, 0.4, 0.5, 0.6, 0.7, 0.8, 0.9]\n",
      "[1.0, 1.1, 1.2, 1.3]\n",
      "[2.0, 2.25, 2.5, 2.75, 3.0, 3.25, 3.5, 3.75, 4.0, 4.25, 4.5, 4.75, 5.0, 5.25]\n",
      "[4.0, 4.125, 4.25, 4.375, 4.5, 4.625, 4.75, 4.875, 5.0, 5.125, 5.25, 5.375, 5.5, 5.625, 5.75, 5.875]\n",
      "[3.0, 3.112, 3.224, 3.336, 3.448, 3.56, 3.672, 3.784, 3.896, 4.008, 4.12, 4.232]\n",
      "[]\n"
     ]
    }
   ],
   "source": [
    "def frange(start, stop = -1, step = -1):\n",
    "    if stop == -1:\n",
    "        # 인자를 1개만 받은 경우\n",
    "        stop = start\n",
    "        start = 0.0\n",
    "        step = 0.1\n",
    "    elif stop >= 0 and step == -1 :\n",
    "        # 인자를 2개 받은 경우\n",
    "        step = 0.1\n",
    "    \n",
    "    if start > stop:\n",
    "        return []\n",
    "    \n",
    "    lists = []\n",
    "    i = 0.0\n",
    "    while (start+step*i < stop):\n",
    "        lists.append(start+round(step*i,15))\n",
    "        i += 1\n",
    "    \n",
    "    return lists\n",
    "\n",
    "print frange(1.0)\n",
    "print frange(1, 1.4)\n",
    "print frange(2, 5.5, 0.25)\n",
    "print frange(4, 6, 0.125)\n",
    "print frange(3, 4.33, 0.112)\n",
    "print frange(4, 1, 0.4)"
   ]
  },
  {
   "cell_type": "markdown",
   "metadata": {},
   "source": [
    "> 기본 인수값을 사용해 사용자가 입력한 파라미터에 따라 달리 동작하는 함수를 작성하였다. while문을 사용해 원하는 범위에 step 만큼 진행된 list를 반환하며, 부동소수점 계산에 따른 문제를 해결하기 위해 round를 사용하여 15자리 밑의 오차는 무시하였다.<br/>또한 인수에 음수는 없는 경우를 가정하였으므로 -1을 기본값으로 지정하였다. 예외상황인 start > stop 인 경우에는 빈 리스트를 반환하였다.\n",
    "\n",
    "---"
   ]
  },
  {
   "cell_type": "markdown",
   "metadata": {},
   "source": [
    "### 4. 가변인수를 받는 함수 sum()을 다음과 같은 조건을 참고하여 구현하시오"
   ]
  },
  {
   "cell_type": "code",
   "execution_count": 46,
   "metadata": {
    "collapsed": false
   },
   "outputs": [
    {
     "name": "stdout",
     "output_type": "stream",
     "text": [
      "0\n",
      "6\n",
      "4\n",
      "45\n"
     ]
    }
   ],
   "source": [
    "def sum(*params):\n",
    "    paramsSum = 0\n",
    "    for num in params:\n",
    "        paramsSum += num\n",
    "    return paramsSum\n",
    "\n",
    "print sum()\n",
    "print sum(1, 2, 3)\n",
    "print sum(4)\n",
    "print sum(5,6,7,8,9,10)"
   ]
  },
  {
   "cell_type": "markdown",
   "metadata": {},
   "source": [
    "> 가변 파라미터를 입력받아 그 합을 계산하고 출력하였다.\n",
    "\n",
    "---"
   ]
  },
  {
   "cell_type": "markdown",
   "metadata": {},
   "source": [
    "### 5. 여러 단어로 이루어진 문자열을 입력받아 각 단어의 첫글자로 이루어진 단어를 대문자로 출력하는 myinitial() 함수를 다음 조건을 참고하여 작성하시오."
   ]
  },
  {
   "cell_type": "code",
   "execution_count": 52,
   "metadata": {
    "collapsed": false
   },
   "outputs": [
    {
     "name": "stdout",
     "output_type": "stream",
     "text": [
      "ASAP\n",
      "TIS\n",
      "SP\n"
     ]
    }
   ],
   "source": [
    "def myinitial(s):\n",
    "    print ''.join(map(lambda x:x[0:1].upper(), s.split()))\n",
    "\n",
    "myinitial('as soon as possible')\n",
    "myinitial('this is spaghetti')\n",
    "myinitial('script programming')"
   ]
  },
  {
   "cell_type": "markdown",
   "metadata": {},
   "source": [
    "> 주어진 조건인 join, map, split을 사용하여 이니셜함수를 작성하였다. 우선 split을 사용해 공백으로 문장을 단어로 나누고, 이를 lambda 함수로 작성한 첫글자를 대문자로 반환하는 함수를 통과시킨 결과를 join하였다.\n",
    "\n",
    "---"
   ]
  },
  {
   "cell_type": "markdown",
   "metadata": {},
   "source": [
    "### 6. 음이 아닌 정수 n를 입력받으면 n! (factorial)을 계산하는 myfact() 함수를 재귀적 함수로 구현하시오."
   ]
  },
  {
   "cell_type": "code",
   "execution_count": 70,
   "metadata": {
    "collapsed": false
   },
   "outputs": [
    {
     "name": "stdout",
     "output_type": "stream",
     "text": [
      "6\n",
      "120\n",
      "3628800\n",
      "1124000727777607680000\n",
      "30414093201713378043612608166064768844377641568960512000000000000\n",
      "771053011335386004144639397775028360595556401816010239163410994033970851827093069367090769795539033092647861224230677444659785152639745401480184653174909762504470638274259120173309701702610875092918816846985842150593623718603861642063078834117234098513725265045402523056575658860621238870412640219629971024686826624713383660963127048195572279707711688352620259869140994901287895747290410722496106151954257267396322405556727354786893725785838732404646243357335918597747405776328924775897564519583591354080898117023132762250714057271344110948164029940588827847780442314473200479525138318208302427727803133219305210952507605948994314345449325259594876385922128494560437296428386002940601874072732488897504223793518377180605441783116649708269946061380230531018291930510748665577803014523251797790388615033756544830374909440162270182952303329091720438210637097105616258387051884030288933650309756289188364568672104084185529365727646234588306683493594765274559497543759651733699820639731702116912963247441294200297800087061725868223880865243583365623482704395893652711840735418799773763054887588219943984673401051362280384187818611005035187862707840912942753454646054674870155072495767509778534059298038364204076299048072934501046255175378323008217670731649519955699084482330798811049166276249251326544312580289357812924825898217462848297648349400838815410152872456707653654424335818651136964880049831580548028614922852377435001511377656015730959254647171290930517340367287657007606177675483830521499707873449016844402390203746633086969747680671468541687265823637922007413849118593487710272883164905548707198762911703545119701275432473548172544699118836274377270607420652133092686282081777383674487881628800801928103015832821021286322120460874941697199487758769730544922012389694504960000000000000000000000000000000000000000000000000000000000000000000000000000000000000000000000000000000000000000000000000000000000000000000000000000000000000000000000000000000000000000000000000000000\n"
     ]
    }
   ],
   "source": [
    "def factorial(n, mult = 1):\n",
    "    if n < 0:\n",
    "        return 0\n",
    "    elif n == 1:\n",
    "        return mult\n",
    "    else:\n",
    "        return factorial(n-1, mult*n)\n",
    "    \n",
    "print factorial(3)\n",
    "print factorial(5)\n",
    "print factorial(10)\n",
    "print factorial(22)\n",
    "print factorial(50)\n",
    "print factorial(800)"
   ]
  },
  {
   "cell_type": "markdown",
   "metadata": {},
   "source": [
    "> 입력받은 n을 1씩 줄여나가며 mult에 곱하는 재귀 방식으로 구현하였다. mult는 기본값으로 1을 가지며 만약 음수를 입력받은 경우 0을 반환한다.\n",
    "\n",
    "---"
   ]
  },
  {
   "cell_type": "markdown",
   "metadata": {},
   "source": [
    "### 7. (서술형) import string 과 from string import * 의 차이점을 설명하시오."
   ]
  },
  {
   "cell_type": "markdown",
   "metadata": {},
   "source": [
    "> 일반 import를 할 경우 string 자체를 현재 이름공간에 불러들인다. 즉, string.METHOD() 와 같은 형태로 사용할 수 있다. 하지만 from string import * 을 할 경우 string 패키지 내의 '__'으로 시작하는 이름을 제외한 모든 이름을 현재 이름공간에 바로 불러들인다. 즉, METHOD()와 같은 형태로 사용가능하다. 이렇게 패키지를 불러들인 경우 기존에 같은 이름으로 존재하던 객체들을 잃게 된다.\n",
    "\n",
    "---"
   ]
  },
  {
   "cell_type": "markdown",
   "metadata": {},
   "source": [
    "### 8. [오일러 10] 10 이하의 소수를 모두 더하면 2 + 3 + 5 + 7 = 17 이 됩니다. 이백만(2,000,000) 이하 소수의 합은 얼마입니까?"
   ]
  },
  {
   "cell_type": "code",
   "execution_count": 97,
   "metadata": {
    "collapsed": false
   },
   "outputs": [
    {
     "name": "stdout",
     "output_type": "stream",
     "text": [
      "142913828922\n"
     ]
    }
   ],
   "source": [
    "import math\n",
    "\n",
    "maxNum = 2000001\n",
    "isPrime = [True]*maxNum\n",
    "\n",
    "for num in range(2, int(math.sqrt(maxNum)+1)):\n",
    "    if isPrime:\n",
    "        for i in range(num*2, maxNum, num):\n",
    "            isPrime[i] = False\n",
    "\n",
    "primeSum = 0\n",
    "for i in range(2, maxNum):\n",
    "    if isPrime[i]:\n",
    "        primeSum += i\n",
    "    \n",
    "print primeSum"
   ]
  },
  {
   "cell_type": "markdown",
   "metadata": {},
   "source": [
    "> 우선 에라토스테네스의 체를 사용해 소수를 모두 구한 다음 최종적으로 소수로 판명된 수를 모두 더하였다.\n",
    "\n",
    "---"
   ]
  },
  {
   "cell_type": "markdown",
   "metadata": {},
   "source": [
    "### 9. [오일러 11] 아래와 같은 20×20 격자가 있습니다. 그러면 수평, 수직, 또는 대각선 방향으로 연속된 숫자 네 개의 곱 중 최대값은 얼마입니까?"
   ]
  },
  {
   "cell_type": "code",
   "execution_count": 114,
   "metadata": {
    "collapsed": false
   },
   "outputs": [
    {
     "name": "stdout",
     "output_type": "stream",
     "text": [
      "70600674\n"
     ]
    }
   ],
   "source": [
    "s = \"\"\"08 02 22 97 38 15 00 40 00 75 04 05 07 78 52 12 50 77 91 08\n",
    "49 49 99 40 17 81 18 57 60 87 17 40 98 43 69 48 04 56 62 00\n",
    "81 49 31 73 55 79 14 29 93 71 40 67 53 88 30 03 49 13 36 65\n",
    "52 70 95 23 04 60 11 42 69 24 68 56 01 32 56 71 37 02 36 91\n",
    "22 31 16 71 51 67 63 89 41 92 36 54 22 40 40 28 66 33 13 80\n",
    "24 47 32 60 99 03 45 02 44 75 33 53 78 36 84 20 35 17 12 50\n",
    "32 98 81 28 64 23 67 10 26 38 40 67 59 54 70 66 18 38 64 70\n",
    "67 26 20 68 02 62 12 20 95 63 94 39 63 08 40 91 66 49 94 21\n",
    "24 55 58 05 66 73 99 26 97 17 78 78 96 83 14 88 34 89 63 72\n",
    "21 36 23 09 75 00 76 44 20 45 35 14 00 61 33 97 34 31 33 95\n",
    "78 17 53 28 22 75 31 67 15 94 03 80 04 62 16 14 09 53 56 92\n",
    "16 39 05 42 96 35 31 47 55 58 88 24 00 17 54 24 36 29 85 57\n",
    "86 56 00 48 35 71 89 07 05 44 44 37 44 60 21 58 51 54 17 58\n",
    "19 80 81 68 05 94 47 69 28 73 92 13 86 52 17 77 04 89 55 40\n",
    "04 52 08 83 97 35 99 16 07 97 57 32 16 26 26 79 33 27 98 66\n",
    "88 36 68 87 57 62 20 72 03 46 33 67 46 55 12 32 63 93 53 69\n",
    "04 42 16 73 38 25 39 11 24 94 72 18 08 46 29 32 40 62 76 36\n",
    "20 69 36 41 72 30 23 88 34 62 99 69 82 67 59 85 74 04 36 16\n",
    "20 73 35 29 78 31 90 01 74 31 49 71 48 86 81 16 23 57 05 54\n",
    "01 70 54 71 83 51 54 69 16 92 33 48 61 43 52 01 89 19 67 48\"\"\"\n",
    "\n",
    "temp = map(lambda x:int(x.strip()), s.split())\n",
    "mat = [ temp[x*20:(x+1)*20] for x in range(20) ]\n",
    "\n",
    "maxv = 0\n",
    "for i in range(20):\n",
    "    for j in range(20):\n",
    "        # 수평\n",
    "        if j+3 < 20:\n",
    "            mult = mat[i][j]*mat[i][j+1]*mat[i][j+2]*mat[i][j+3]\n",
    "            if mult > maxv:\n",
    "                maxv = mult\n",
    "        \n",
    "        # 수직\n",
    "        if i+3 < 20:\n",
    "            mult = mat[i][j]*mat[i+1][j]*mat[i+2][j]*mat[i+3][j]\n",
    "            if mult > maxv:\n",
    "                maxv = mult\n",
    "                \n",
    "        # 우하단 대각선\n",
    "        if i+3 < 20 and j+3 < 20:\n",
    "            mult = mat[i][j]*mat[i+1][j+1]*mat[i+2][j+2]*mat[i+3][j+3]\n",
    "            if mult > maxv:\n",
    "                maxv = mult\n",
    "                \n",
    "        # 좌하단 대각선\n",
    "        if i+3 < 20 and j-3 >= 0:\n",
    "            mult = mat[i][j]*mat[i+1][j-1]*mat[i+2][j-2]*mat[i+3][j-3]\n",
    "            if mult > maxv:\n",
    "                maxv = mult\n",
    "                \n",
    "print maxv"
   ]
  },
  {
   "cell_type": "markdown",
   "metadata": {},
   "source": [
    "> 격자를 map과 리스트 내포를 사용해 20*20 사이즈의 2차원 배열로 만들고 수평, 수직, 대각선의 경우의 수를 모두 곱해보고 최대값을 구하였다.\n",
    "\n",
    "---"
   ]
  },
  {
   "cell_type": "markdown",
   "metadata": {},
   "source": [
    "### 10. [오일러 12] 1부터 n까지의 자연수를 차례로 더하여 구해진 값을 삼각수라고 합니다. 그러면 500개 이상의 약수를 갖는 가장 작은 삼각수는 얼마입니까?"
   ]
  },
  {
   "cell_type": "code",
   "execution_count": 1,
   "metadata": {
    "collapsed": false
   },
   "outputs": [
    {
     "name": "stdout",
     "output_type": "stream",
     "text": [
      "76576500\n"
     ]
    }
   ],
   "source": [
    "import math\n",
    "\n",
    "num = 1\n",
    "now = 0\n",
    "while (1):\n",
    "    now += num\n",
    "    div = 0\n",
    "    for i in range(1, int(math.sqrt(now))):\n",
    "        if now%i == 0:\n",
    "            div += 1\n",
    "    div *= 2\n",
    "    if math.sqrt(now).is_integer():\n",
    "        div += 1\n",
    "        \n",
    "    if div >= 500:\n",
    "        print now\n",
    "        break\n",
    "        \n",
    "    num += 1"
   ]
  },
  {
   "cell_type": "markdown",
   "metadata": {},
   "source": [
    "> 우선 삼각수를 차례로 구함과 동시에 구해진 삼각수의 약수의 개수를 구하고, 500보다 커지는 삼각수를 출력하였다.\n",
    "\n",
    "---"
   ]
  },
  {
   "cell_type": "markdown",
   "metadata": {},
   "source": [
    "### 11. [오일러 13] 아래에 50자리 숫자가 100개 있습니다. 이것을 모두 더한 값의 첫 10자리는 얼마입니까?"
   ]
  },
  {
   "cell_type": "code",
   "execution_count": 6,
   "metadata": {
    "collapsed": false
   },
   "outputs": [
    {
     "name": "stdout",
     "output_type": "stream",
     "text": [
      "5537376230\n"
     ]
    }
   ],
   "source": [
    "s = \"\"\"37107287533902102798797998220837590246510135740250\n",
    "46376937677490009712648124896970078050417018260538\n",
    "74324986199524741059474233309513058123726617309629\n",
    "91942213363574161572522430563301811072406154908250\n",
    "23067588207539346171171980310421047513778063246676\n",
    "89261670696623633820136378418383684178734361726757\n",
    "28112879812849979408065481931592621691275889832738\n",
    "44274228917432520321923589422876796487670272189318\n",
    "47451445736001306439091167216856844588711603153276\n",
    "70386486105843025439939619828917593665686757934951\n",
    "62176457141856560629502157223196586755079324193331\n",
    "64906352462741904929101432445813822663347944758178\n",
    "92575867718337217661963751590579239728245598838407\n",
    "58203565325359399008402633568948830189458628227828\n",
    "80181199384826282014278194139940567587151170094390\n",
    "35398664372827112653829987240784473053190104293586\n",
    "86515506006295864861532075273371959191420517255829\n",
    "71693888707715466499115593487603532921714970056938\n",
    "54370070576826684624621495650076471787294438377604\n",
    "53282654108756828443191190634694037855217779295145\n",
    "36123272525000296071075082563815656710885258350721\n",
    "45876576172410976447339110607218265236877223636045\n",
    "17423706905851860660448207621209813287860733969412\n",
    "81142660418086830619328460811191061556940512689692\n",
    "51934325451728388641918047049293215058642563049483\n",
    "62467221648435076201727918039944693004732956340691\n",
    "15732444386908125794514089057706229429197107928209\n",
    "55037687525678773091862540744969844508330393682126\n",
    "18336384825330154686196124348767681297534375946515\n",
    "80386287592878490201521685554828717201219257766954\n",
    "78182833757993103614740356856449095527097864797581\n",
    "16726320100436897842553539920931837441497806860984\n",
    "48403098129077791799088218795327364475675590848030\n",
    "87086987551392711854517078544161852424320693150332\n",
    "59959406895756536782107074926966537676326235447210\n",
    "69793950679652694742597709739166693763042633987085\n",
    "41052684708299085211399427365734116182760315001271\n",
    "65378607361501080857009149939512557028198746004375\n",
    "35829035317434717326932123578154982629742552737307\n",
    "94953759765105305946966067683156574377167401875275\n",
    "88902802571733229619176668713819931811048770190271\n",
    "25267680276078003013678680992525463401061632866526\n",
    "36270218540497705585629946580636237993140746255962\n",
    "24074486908231174977792365466257246923322810917141\n",
    "91430288197103288597806669760892938638285025333403\n",
    "34413065578016127815921815005561868836468420090470\n",
    "23053081172816430487623791969842487255036638784583\n",
    "11487696932154902810424020138335124462181441773470\n",
    "63783299490636259666498587618221225225512486764533\n",
    "67720186971698544312419572409913959008952310058822\n",
    "95548255300263520781532296796249481641953868218774\n",
    "76085327132285723110424803456124867697064507995236\n",
    "37774242535411291684276865538926205024910326572967\n",
    "23701913275725675285653248258265463092207058596522\n",
    "29798860272258331913126375147341994889534765745501\n",
    "18495701454879288984856827726077713721403798879715\n",
    "38298203783031473527721580348144513491373226651381\n",
    "34829543829199918180278916522431027392251122869539\n",
    "40957953066405232632538044100059654939159879593635\n",
    "29746152185502371307642255121183693803580388584903\n",
    "41698116222072977186158236678424689157993532961922\n",
    "62467957194401269043877107275048102390895523597457\n",
    "23189706772547915061505504953922979530901129967519\n",
    "86188088225875314529584099251203829009407770775672\n",
    "11306739708304724483816533873502340845647058077308\n",
    "82959174767140363198008187129011875491310547126581\n",
    "97623331044818386269515456334926366572897563400500\n",
    "42846280183517070527831839425882145521227251250327\n",
    "55121603546981200581762165212827652751691296897789\n",
    "32238195734329339946437501907836945765883352399886\n",
    "75506164965184775180738168837861091527357929701337\n",
    "62177842752192623401942399639168044983993173312731\n",
    "32924185707147349566916674687634660915035914677504\n",
    "99518671430235219628894890102423325116913619626622\n",
    "73267460800591547471830798392868535206946944540724\n",
    "76841822524674417161514036427982273348055556214818\n",
    "97142617910342598647204516893989422179826088076852\n",
    "87783646182799346313767754307809363333018982642090\n",
    "10848802521674670883215120185883543223812876952786\n",
    "71329612474782464538636993009049310363619763878039\n",
    "62184073572399794223406235393808339651327408011116\n",
    "66627891981488087797941876876144230030984490851411\n",
    "60661826293682836764744779239180335110989069790714\n",
    "85786944089552990653640447425576083659976645795096\n",
    "66024396409905389607120198219976047599490197230297\n",
    "64913982680032973156037120041377903785566085089252\n",
    "16730939319872750275468906903707539413042652315011\n",
    "94809377245048795150954100921645863754710598436791\n",
    "78639167021187492431995700641917969777599028300699\n",
    "15368713711936614952811305876380278410754449733078\n",
    "40789923115535562561142322423255033685442488917353\n",
    "44889911501440648020369068063960672322193204149535\n",
    "41503128880339536053299340368006977710650566631954\n",
    "81234880673210146739058568557934581403627822703280\n",
    "82616570773948327592232845941706525094512325230608\n",
    "22918802058777319719839450180888072429661980811197\n",
    "77158542502016545090413245809786882778948721859617\n",
    "72107838435069186155435662884062257473692284509516\n",
    "20849603980134001723930671666823555245252804609722\n",
    "53503534226472524250874054075591789781264330331690\"\"\"\n",
    "\n",
    "nums = map(lambda x:int(x), s.split())\n",
    "numSum = 0\n",
    "for i in range(len(nums)):\n",
    "    numSum += nums[i]\n",
    "    \n",
    "print str(numSum)[0:10]"
   ]
  },
  {
   "cell_type": "markdown",
   "metadata": {},
   "source": [
    "> 만약 다른 언어였다면 매우 큰 숫자의 연산을 위해 특별한 라이브러리를 쓰거나, 각 자리수를 배열에 담아 덧셈함수를 따로 만들어야겠지만, 큰 자료값도 쉽게 다룰 수 있는 파이선으로는 그냥 더하는것 만으로도 쉽게 작업이 되었다.\n",
    "\n",
    "---"
   ]
  },
  {
   "cell_type": "markdown",
   "metadata": {},
   "source": [
    "### 12. [오일러 14] 양의 정수 n에 대하여, 다음과 같은 계산 과정을 반복하기로 합니다. 그러면, 백만(1,000,000) 이하의 수로 시작했을 때 1까지 도달하는데 가장 긴 과정을 거치는 숫자는 얼마입니까?"
   ]
  },
  {
   "cell_type": "code",
   "execution_count": 28,
   "metadata": {
    "collapsed": false
   },
   "outputs": [
    {
     "name": "stdout",
     "output_type": "stream",
     "text": [
      "837799\n"
     ]
    }
   ],
   "source": [
    "d = {} # 각 값의 도달단계를 저장하기 위한 사전\n",
    "\n",
    "numMax = 1000000\n",
    "for i in range(1, numMax+1):\n",
    "    now = i\n",
    "    count = 0\n",
    "    while (1):\n",
    "        if now == 1:\n",
    "            # 종료조건\n",
    "            d[i] = count\n",
    "            break\n",
    "        elif now % 2 == 0:\n",
    "            # 짝수인 경우\n",
    "            now /= 2\n",
    "        else:\n",
    "            # 홀수인 경우\n",
    "            now = now*3 + 1\n",
    "        \n",
    "        count += 1\n",
    "        # 만약 이미 도달 단계가 구해진 수라면 저장 후 종료\n",
    "        if now in d:\n",
    "            d[i] = d[now]+count\n",
    "            break\n",
    "                \n",
    "maxv = 0\n",
    "idx = -1\n",
    "for i in range(1, numMax+1):\n",
    "    if d[i] > maxv:\n",
    "        maxv = d[i]\n",
    "        idx = i\n",
    "\n",
    "print idx"
   ]
  },
  {
   "cell_type": "markdown",
   "metadata": {},
   "source": [
    "> 1부터 100만 사이의 수를 모두 계산을 통해 단계수를 구하였다. 다만, 중간 과정에서 중복해서 구해지는 수를 거르기 위해 동적계획법을 사용하여 이미 단계수가 구해진 수라면 추가로 구하지 않고 이미 구해진 값을 사용하도록 하였다.\n",
    "\n",
    "---"
   ]
  },
  {
   "cell_type": "markdown",
   "metadata": {},
   "source": [
    "### 13. [오일러 15] 아래와 같은 2 × 2 격자의 왼쪽 위 모서리에서 출발하여 오른쪽 아래 모서리까지 도달하는 길은 모두 6가지가 있습니다 (거슬러 가지는 않기로 합니다). 그러면 20 × 20 격자에는 모두 몇 개의 경로가 있습니까?"
   ]
  },
  {
   "cell_type": "code",
   "execution_count": 23,
   "metadata": {
    "collapsed": false
   },
   "outputs": [
    {
     "name": "stdout",
     "output_type": "stream",
     "text": [
      "137846528820\n"
     ]
    }
   ],
   "source": [
    "size = 20+1\n",
    "maps = [ [1]*size for x in range(size) ]\n",
    "\n",
    "for i in range(1, size):\n",
    "    for j in range(1, size):\n",
    "        maps[i][j] = maps[i-1][j] + maps[i][j-1]\n",
    "        \n",
    "print maps[size-1][size-1]"
   ]
  },
  {
   "cell_type": "markdown",
   "metadata": {},
   "source": [
    "> 과거 수학시간에 배운 경로의 수 세기를 응용하여 작성하였다. 경로의 경우의 수는 자신의 좌측과 상단의 경우의 수를 합한 것과 같기 때문에 20x20개의 격자라면 그 모서리를 정점으로 생각하고 21x21 사이즈의 각 경우의 수를 계산하였다.\n",
    "\n",
    "---"
   ]
  },
  {
   "cell_type": "markdown",
   "metadata": {},
   "source": [
    "### 14. 이전 Assignment 3의 마지막 문제는 웹 URL로 지정된 웹페이지를 문자열로 가져와 모든 HTML 태그 및 CSS와 Javascript를 제외한 순수 텍스트를 얻어내고 그 안에 존재하는 단어를 추출하여 각 단어들에 대해 출현빈도를 사전형태({'world': 2, 'hello': 1, 'python': 1})로 저장하여 출력하는 것이었다. 이번에는 Assignment 3를 확장하여 다음과 같은 조건을 만족하도록 구현하시오."
   ]
  },
  {
   "cell_type": "code",
   "execution_count": 71,
   "metadata": {
    "collapsed": false
   },
   "outputs": [],
   "source": [
    "import urllib2\n",
    "import string\n",
    "import pickle\n",
    "\n",
    "# 불용어가 저장된 파일을 읽어옴\n",
    "with open('stopword.txt', 'r') as f:\n",
    "    stopword = f.readline().split(',')\n",
    "\n",
    "# url을 받아 단어를 추출하는 함수\n",
    "def getTextFromUrl(url):\n",
    "    source = urllib2.urlopen(url).read()\n",
    "    text = ''\n",
    "    \n",
    "    # http:// , https:// 을 떼어내기 위해 // 을 기준으로 url 분리\n",
    "    # 또한 '/'는 디렉토리 구분으로 오해할 수 있으므로 _(언더바)로 치환\n",
    "    urlname = url[url.index('//')+2:]\n",
    "    urlname = urlname.replace('/', '_')\n",
    "    \n",
    "    # source 저장\n",
    "    with open(urlname + '.html', 'w') as f:\n",
    "        f.write(source)\n",
    "\n",
    "    # 주석 제거\n",
    "    while '<!--' in source:\n",
    "        # 주석은 <!-- 과 --> 의 쌍으로 나타내어지므로 index 함수를 사용해 주석을 찾아 없앤다.\n",
    "        left = source.index('<!--')\n",
    "        right = source.index('-->')\n",
    "        source = source[:left] + source[right+3:]\n",
    "\n",
    "    # 태그가 없어질때까지 반복\n",
    "    while '<' in source:\n",
    "        # 태그는 < 과 > 의 쌍으로 나타내어지므로 index 함수를 사용해 태그 부분을 찾아 없앤다.\n",
    "        left = source.index('<')\n",
    "        right = source.index('>')\n",
    "        text = text+' '+source[:left]\n",
    "        source = source[right+1:]\n",
    "    \n",
    "    wordList = {}\n",
    "    for t in text.split():\n",
    "        for char in string.punctuation:\n",
    "            t = t.replace(char, '')\n",
    "        t = t.lower() # 대소문자를 구분하지 않고 단어를 저장한다.\n",
    "        if len(t) > 0 and not t in stopword:\n",
    "            if not t in wordList.keys():\n",
    "                wordList[t]=1\n",
    "            else:\n",
    "                wordList[t]=wordList[t]+1\n",
    "                \n",
    "    # 단어 빈도수를 파일에 저장\n",
    "    with open(urlname + '.words.frequency', 'w') as f:\n",
    "        pickle.dump(wordList, f)\n",
    "        \n",
    "# 사전에 들어있는 단어의 최빈도 상위 x개를 반환하는 함수\n",
    "def getTopWord(dic, rank):\n",
    "    maxv = 0\n",
    "    maxkey = ''\n",
    "    lists = dic.keys()\n",
    "    for i in range(len(lists)):\n",
    "        if dic[lists[i]] > maxv:\n",
    "            maxv = dic[lists[i]]\n",
    "            maxkey = lists[i]\n",
    "    print maxkey, maxv\n",
    "    \n",
    "    # 임시로 0으로 치환(재검색 불가하도록)\n",
    "    dic[maxkey] = 0\n",
    "    if(rank > 1):\n",
    "        getTopWord(dic, rank-1)\n",
    "    # 복구\n",
    "    dic[maxkey] = maxv"
   ]
  },
  {
   "cell_type": "code",
   "execution_count": 72,
   "metadata": {
    "collapsed": false
   },
   "outputs": [],
   "source": [
    "urlList = []\n",
    "\n",
    "# NEWS\n",
    "urlList.append('http://edition.cnn.com')\n",
    "urlList.append('http://www.nytimes.com')\n",
    "\n",
    "# GAME\n",
    "urlList.append('http://store.steampowered.com/')\n",
    "\n",
    "# PROGRAMING\n",
    "urlList.append('https://www.oracle.com')\n",
    "\n",
    "# SHOPPING\n",
    "urlList.append('http://www.ebay.com/')\n",
    "\n",
    "# COMPANY\n",
    "urlList.append('http://www.apple.com/')\n",
    "\n",
    "for i in range(len(urlList)):\n",
    "    getTextFromUrl(urlList[i])"
   ]
  },
  {
   "cell_type": "code",
   "execution_count": 73,
   "metadata": {
    "collapsed": false
   },
   "outputs": [
    {
     "name": "stdout",
     "output_type": "stream",
     "text": [
      "Site : http://edition.cnn.com\n",
      "cnn 98\n",
      "tv 85\n",
      "u003ca 65\n",
      "Site : http://www.nytimes.com\n",
      "raquo 34\n",
      "var 32\n",
      "function 26\n",
      "Site : http://store.steampowered.com/\n",
      "u20a9 145\n",
      "₩ 138\n",
      "user 99\n",
      "Site : https://www.oracle.com\n",
      "oracle 70\n",
      "cloud 58\n",
      "learn 33\n",
      "Site : http://www.ebay.com/\n",
      "products 100\n",
      "collection 100\n",
      "named 99\n",
      "Site : http://www.apple.com/\n",
      "apple 22\n",
      "menu 16\n",
      "close 8\n"
     ]
    }
   ],
   "source": [
    "# 저장된 결과를 읽어와 각 사이트마다 최빈도 단어 상위 3개를 노출\n",
    "urlWords = [{}]*len(urlList)\n",
    "for i in range(len(urlList)):\n",
    "    url = urlList[i]\n",
    "    urlname = url[url.index('//')+2:]\n",
    "    urlname = urlname.replace('/', '_')\n",
    "    print 'Site : '+url\n",
    "    with open(urlname + '.words.frequency', 'r') as f:\n",
    "        words = pickle.load(f)\n",
    "        urlWords[i] = words\n",
    "        getTopWord(words, 3)"
   ]
  },
  {
   "cell_type": "code",
   "execution_count": 75,
   "metadata": {
    "collapsed": false
   },
   "outputs": [
    {
     "name": "stdout",
     "output_type": "stream",
     "text": [
      "keyword : Apple\n",
      "http://www.apple.com/ 32\n",
      "http://www.ebay.com/ 24\n",
      "http://www.nytimes.com 12\n",
      "http://store.steampowered.com/ 10\n",
      "https://www.oracle.com 10\n",
      "http://edition.cnn.com 10\n"
     ]
    }
   ],
   "source": [
    "# 검색기능\n",
    "keyword = raw_input('keyword : ')\n",
    "keyword = keyword.lower()\n",
    "similarity = {}\n",
    "\n",
    "for i in range(len(urlList)):\n",
    "    # 유사도는 기본 10점\n",
    "    similarity[urlList[i]] = 10\n",
    "    if keyword in urlWords[i]:\n",
    "        # 연관 단어 수만큼 유사도 보너스\n",
    "        similarity[urlList[i]] += urlWords[i][keyword]\n",
    "    # 이곳에 더욱 추가하자면, 키워드와 연관된 복수개의 단어를 구해 추가적인 보너스 점수를 준다면 더욱 정확한 결과를 얻을 수 있을 것이다.\n",
    "        \n",
    "getTopWord(similarity, 6)"
   ]
  },
  {
   "cell_type": "markdown",
   "metadata": {},
   "source": [
    "7) 본인이 생각하기에 상업적인 완성도 높은 검색 로봇/엔진이 되려면 어떤 기능들이 추가적으로 구현되어야 할지 최소 3가지 이상 제시하시오.\n",
    "\n",
    "- 우선 단순히 태그 내의 단어를 읽는 것이 아니라, script 부분을 제거하여 코드와 연관된 단어(위의 예시에서도 유니코드, var 등 코드와 연계된 단어가 보인다.)를 제거하고 header, article, footer, section, nav 와 같은 의미 있는 시멘틱 태그를 읽는다면 더욱 정확한 단어 사전이 될 것이다.\n",
    "- 단순히 keyword 뿐 아니라 이 키워드와 연관된 단어를 먼저 찾아내고, 이로 얻어진 연관 단어들을 검색에 가중치를 두어 추가한다면 더욱 정확한 사이트 검색이 가능할 것이다.\n",
    "- 사이트의 원래 성격을 알 수 있다면 검색 정확도에 도움이 될 것이다. 사이트에 주로 등장하는 의미있는 단어들을 기준으로 사이트의 성격을 추론할 수 있다면 정확한 검색 결과를 제공할 수 있을 것이다."
   ]
  },
  {
   "cell_type": "markdown",
   "metadata": {},
   "source": [
    "> 과제 3의 내용을 더욱 발전시켜 작성하였다. 기존의 함수에서 불용어를 제거하고 불러온 url소스와 단어의 빈도수를 저장하는 부분을 추가하였고, 사전에서 상위 x개의 단어를 출력하는 함수를 추가로 작성하였다. 이 함수는 재귀를 사용하여 구현하였다. 그리고 성격이 다른 6개의 사이트를 대상으로 과제 내용을 수행하였다. 검색 함수의 키워드를 'apple'을 선택하였는데, 단순히 연관 단어만을 찾았음에도 apple 사의 홈페이지가 가장 연관이 깊은 사이트로 출력됨을 알 수 있다. (단어는 대소문자를 구분하지 않는다. word dic 작성 시 모든 단어에 lower()처리를 하기 때문이다.)\n",
    "\n",
    "---"
   ]
  },
  {
   "cell_type": "markdown",
   "metadata": {},
   "source": [
    "## 소감"
   ]
  },
  {
   "cell_type": "markdown",
   "metadata": {},
   "source": [
    "> 파일 입출력에 관련된 과제를 수행하였다. 다른 언어들과 비슷한 점이 많았지만, 확실히 다른 언어보다 사용이 용이했다. 프로젝트 오일러에서 인상깊은 문제로는 거대한 수의 합을 구하는 문제가 있었는데, 다른 언어였다면 다른 방법들을 고민했어야겠지만, 파이썬에서는 큰 크기의 연산이 아주 쉽게 그냥 이루어지기 때문에 아주 쉽게 답을 구할 수 있었다. 특히 저번부터 종종 사용하는 리스트 내포와 lambda 함수, 그리고 map의 조합은 정말 아름다운 것 같다. 이런 부분이 다른 언어들보다 파이썬이 매력있는 부분인 것 같다."
   ]
  }
 ],
 "metadata": {
  "kernelspec": {
   "display_name": "Python [Root]",
   "language": "python",
   "name": "Python [Root]"
  },
  "language_info": {
   "codemirror_mode": {
    "name": "ipython",
    "version": 2
   },
   "file_extension": ".py",
   "mimetype": "text/x-python",
   "name": "python",
   "nbconvert_exporter": "python",
   "pygments_lexer": "ipython2",
   "version": "2.7.12"
  }
 },
 "nbformat": 4,
 "nbformat_minor": 0
}

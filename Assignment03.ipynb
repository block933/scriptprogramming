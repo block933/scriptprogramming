{
 "cells": [
  {
   "cell_type": "markdown",
   "metadata": {},
   "source": [
    "# Assignment 03\n",
    "\n",
    "## 2011136057 서창윤"
   ]
  },
  {
   "cell_type": "markdown",
   "metadata": {},
   "source": [
    "### 1. L=[1, 2, 3, 4, 5]일 때 다음 각 문장을 수행한 후의 결과를 보고 납득할 만한 이유를 설명하시오."
   ]
  },
  {
   "cell_type": "code",
   "execution_count": 1,
   "metadata": {
    "collapsed": false
   },
   "outputs": [
    {
     "name": "stdout",
     "output_type": "stream",
     "text": [
      "[1, 100, 4, 5]\n"
     ]
    }
   ],
   "source": [
    "#1\n",
    "L = [1, 2, 3, 4, 5]\n",
    "L[1:3] = [100]\n",
    "print L"
   ]
  },
  {
   "cell_type": "markdown",
   "metadata": {},
   "source": [
    "> [1:3] 구간인 L[1]~L[2] 를 [100]으로 치환한 것과 같다. 따라서 L[1]=2, L[2] = 3 이 100으로 바뀌었다."
   ]
  },
  {
   "cell_type": "code",
   "execution_count": 4,
   "metadata": {
    "collapsed": false
   },
   "outputs": [
    {
     "name": "stdout",
     "output_type": "stream",
     "text": [
      "[1, 100, 4, 5]\n"
     ]
    }
   ],
   "source": [
    "#2\n",
    "L = [1, 2, 3, 4, 5]\n",
    "L[1:3] = [(100)]\n",
    "print L"
   ]
  },
  {
   "cell_type": "markdown",
   "metadata": {},
   "source": [
    "> 마찬가지로 [1:3] 구간이 [(100)]으로 치환되었다. (100) 은 100과 같다."
   ]
  },
  {
   "cell_type": "code",
   "execution_count": 5,
   "metadata": {
    "collapsed": false
   },
   "outputs": [
    {
     "ename": "TypeError",
     "evalue": "can only assign an iterable",
     "output_type": "error",
     "traceback": [
      "\u001b[1;31m---------------------------------------------------------------------------\u001b[0m",
      "\u001b[1;31mTypeError\u001b[0m                                 Traceback (most recent call last)",
      "\u001b[1;32m<ipython-input-5-46d9fc44477b>\u001b[0m in \u001b[0;36m<module>\u001b[1;34m()\u001b[0m\n\u001b[0;32m      1\u001b[0m \u001b[1;31m#3\u001b[0m\u001b[1;33m\u001b[0m\u001b[1;33m\u001b[0m\u001b[0m\n\u001b[0;32m      2\u001b[0m \u001b[0mL\u001b[0m \u001b[1;33m=\u001b[0m \u001b[1;33m[\u001b[0m\u001b[1;36m1\u001b[0m\u001b[1;33m,\u001b[0m \u001b[1;36m2\u001b[0m\u001b[1;33m,\u001b[0m \u001b[1;36m3\u001b[0m\u001b[1;33m,\u001b[0m \u001b[1;36m4\u001b[0m\u001b[1;33m,\u001b[0m \u001b[1;36m5\u001b[0m\u001b[1;33m]\u001b[0m\u001b[1;33m\u001b[0m\u001b[0m\n\u001b[1;32m----> 3\u001b[1;33m \u001b[0mL\u001b[0m\u001b[1;33m[\u001b[0m\u001b[1;36m1\u001b[0m\u001b[1;33m:\u001b[0m\u001b[1;36m3\u001b[0m\u001b[1;33m]\u001b[0m \u001b[1;33m=\u001b[0m \u001b[1;36m100\u001b[0m\u001b[1;33m\u001b[0m\u001b[0m\n\u001b[0m\u001b[0;32m      4\u001b[0m \u001b[1;32mprint\u001b[0m \u001b[0mL\u001b[0m\u001b[1;33m\u001b[0m\u001b[0m\n",
      "\u001b[1;31mTypeError\u001b[0m: can only assign an iterable"
     ]
    }
   ],
   "source": [
    "#3\n",
    "L = [1, 2, 3, 4, 5]\n",
    "L[1:3] = 100\n",
    "print L"
   ]
  },
  {
   "cell_type": "markdown",
   "metadata": {},
   "source": [
    "> [1:3] 구간을 int type으로 변경하려 하였다. int type은 iterable 하지 않기 때문에 변경할 수 없다."
   ]
  },
  {
   "cell_type": "code",
   "execution_count": 6,
   "metadata": {
    "collapsed": false
   },
   "outputs": [
    {
     "ename": "TypeError",
     "evalue": "can only assign an iterable",
     "output_type": "error",
     "traceback": [
      "\u001b[1;31m---------------------------------------------------------------------------\u001b[0m",
      "\u001b[1;31mTypeError\u001b[0m                                 Traceback (most recent call last)",
      "\u001b[1;32m<ipython-input-6-c610aa173240>\u001b[0m in \u001b[0;36m<module>\u001b[1;34m()\u001b[0m\n\u001b[0;32m      1\u001b[0m \u001b[1;31m#4\u001b[0m\u001b[1;33m\u001b[0m\u001b[1;33m\u001b[0m\u001b[0m\n\u001b[0;32m      2\u001b[0m \u001b[0mL\u001b[0m \u001b[1;33m=\u001b[0m \u001b[1;33m[\u001b[0m\u001b[1;36m1\u001b[0m\u001b[1;33m,\u001b[0m \u001b[1;36m2\u001b[0m\u001b[1;33m,\u001b[0m \u001b[1;36m3\u001b[0m\u001b[1;33m,\u001b[0m \u001b[1;36m4\u001b[0m\u001b[1;33m,\u001b[0m \u001b[1;36m5\u001b[0m\u001b[1;33m]\u001b[0m\u001b[1;33m\u001b[0m\u001b[0m\n\u001b[1;32m----> 3\u001b[1;33m \u001b[0mL\u001b[0m\u001b[1;33m[\u001b[0m\u001b[1;36m1\u001b[0m\u001b[1;33m:\u001b[0m\u001b[1;36m3\u001b[0m\u001b[1;33m]\u001b[0m \u001b[1;33m=\u001b[0m \u001b[1;33m(\u001b[0m\u001b[1;36m100\u001b[0m\u001b[1;33m)\u001b[0m\u001b[1;33m\u001b[0m\u001b[0m\n\u001b[0m\u001b[0;32m      4\u001b[0m \u001b[1;32mprint\u001b[0m \u001b[0mL\u001b[0m\u001b[1;33m\u001b[0m\u001b[0m\n",
      "\u001b[1;31mTypeError\u001b[0m: can only assign an iterable"
     ]
    }
   ],
   "source": [
    "#4\n",
    "L = [1, 2, 3, 4, 5]\n",
    "L[1:3] = (100)\n",
    "print L"
   ]
  },
  {
   "cell_type": "markdown",
   "metadata": {},
   "source": [
    "> print type((100))을 보면, (100)은 int type이다. 따라서 위와 마찬가지의 결과를 출력한다."
   ]
  },
  {
   "cell_type": "code",
   "execution_count": 8,
   "metadata": {
    "collapsed": false
   },
   "outputs": [
    {
     "name": "stdout",
     "output_type": "stream",
     "text": [
      "[1, 100, 101, 102, 4, 5]\n"
     ]
    }
   ],
   "source": [
    "#5\n",
    "L = [1, 2, 3, 4, 5]\n",
    "L[1:3] = (100, 101, 102)\n",
    "print L"
   ]
  },
  {
   "cell_type": "markdown",
   "metadata": {},
   "source": [
    "> [1:3] 구간을 치환하였다. 치환은 서로 길이가 달라도 되기 때문에 문제 없이 [1:3] 구간에 (100, 101, 102)가 삽입되었다."
   ]
  },
  {
   "cell_type": "code",
   "execution_count": 9,
   "metadata": {
    "collapsed": false
   },
   "outputs": [
    {
     "name": "stdout",
     "output_type": "stream",
     "text": [
      "[1, 100, 101, 102, 4, 5]\n"
     ]
    }
   ],
   "source": [
    "#6\n",
    "L = [1, 2, 3, 4, 5]\n",
    "L[1:3] = [100, 101, 102]\n",
    "print L"
   ]
  },
  {
   "cell_type": "markdown",
   "metadata": {},
   "source": [
    "> 위와 마찬가지의 결과를 나타낸다. 모두 iterable하므로 문제 없이 치환되었다."
   ]
  },
  {
   "cell_type": "code",
   "execution_count": 10,
   "metadata": {
    "collapsed": false
   },
   "outputs": [
    {
     "name": "stdout",
     "output_type": "stream",
     "text": [
      "[1, (100, 101, 102), 4, 5]\n"
     ]
    }
   ],
   "source": [
    "#7\n",
    "L = [1, 2, 3, 4, 5]\n",
    "L[1:3] = [(100, 101, 102)]\n",
    "print L"
   ]
  },
  {
   "cell_type": "markdown",
   "metadata": {},
   "source": [
    "> 이번에는 튜플을 리스트로 감싼 형태를 치환하였다. 이 경우에는 구간을 100, 101, 102의 리스트로 확장하는 것이 아닌 하나의 튜플로 치환하는 것과 같다. 따라서 [1:3] 구간이 (100, 101, 102)튜플로 치환되었다."
   ]
  },
  {
   "cell_type": "code",
   "execution_count": 11,
   "metadata": {
    "collapsed": false
   },
   "outputs": [
    {
     "name": "stdout",
     "output_type": "stream",
     "text": [
      "[1, [100, 101, 102], 4, 5]\n"
     ]
    }
   ],
   "source": [
    "#8\n",
    "L = [1, 2, 3, 4, 5]\n",
    "L[1:3] = [[100, 101, 102]]\n",
    "print L"
   ]
  },
  {
   "cell_type": "markdown",
   "metadata": {},
   "source": [
    "> 7과 마찬가지로 리스트를 확장하는 형태가 아니라 리스트 안에 리스트를 넣는것이다. 따라서 해당 구간에 [100, 101, 102] 의 리스트 하나로 치환되었다.\n",
    "\n",
    "---"
   ]
  },
  {
   "cell_type": "markdown",
   "metadata": {},
   "source": [
    "### 2. 문자열 S = 'Hello World and Python'에 대해 다음 요구사항에 대한 Python 코드를 제시하시오."
   ]
  },
  {
   "cell_type": "markdown",
   "metadata": {},
   "source": [
    "1. 단어의 순서가 역순으로 되어진 문자열 ('Python and World Hello')을 만들고\n",
    "2. 1)의 결과 문자열에 대해 메소드 split과 join을 이용하여 공백을 모두 없엔 문자열 'PythonandWorldHello'을 만드시오."
   ]
  },
  {
   "cell_type": "code",
   "execution_count": 30,
   "metadata": {
    "collapsed": false
   },
   "outputs": [
    {
     "name": "stdout",
     "output_type": "stream",
     "text": [
      "Python and World Hello\n"
     ]
    }
   ],
   "source": [
    "#1\n",
    "s = 'Hello World and Python'\n",
    "s = s.split()\n",
    "s = s[::-1]\n",
    "new_s = \" \".join(s)\n",
    "print new_s"
   ]
  },
  {
   "cell_type": "code",
   "execution_count": 31,
   "metadata": {
    "collapsed": false
   },
   "outputs": [
    {
     "name": "stdout",
     "output_type": "stream",
     "text": [
      "PythonandWorldHello\n"
     ]
    }
   ],
   "source": [
    "#2\n",
    "new_s = new_s.split()\n",
    "new_s = \"\".join(new_s)\n",
    "print new_s"
   ]
  },
  {
   "cell_type": "markdown",
   "metadata": {},
   "source": [
    "> 우선 1번 해결을 위해 문자열을 공백을 기준으로 잘라 리스트를 만들고, 그 리스트를 역순으로 변경하였다( [::-1] ). 이후 new_s 에 join을 사용하여 역순으로 되어진 문자열을 만들었다.\n",
    "\n",
    "> 2번에서는 그렇게 만들어진 new_s를 다시 split하고, 공백없이 join 하여 공백없는 문자열을 만들었다.\n",
    "\n",
    "---"
   ]
  },
  {
   "cell_type": "markdown",
   "metadata": {},
   "source": [
    "### 3. 다음 코드를 보고 물음에 답하시오."
   ]
  },
  {
   "cell_type": "code",
   "execution_count": 32,
   "metadata": {
    "collapsed": false
   },
   "outputs": [
    {
     "name": "stdout",
     "output_type": "stream",
     "text": [
      "[1, 2, 3, 1, 2, 3, 1, 2, 3]\n",
      "[[1, 2, 3], [1, 2, 3], [1, 2, 3]]\n"
     ]
    }
   ],
   "source": [
    "a = [1, 2, 3]\n",
    "b = a * 3\n",
    "c = [a] * 3\n",
    "print b\n",
    "print c"
   ]
  },
  {
   "cell_type": "markdown",
   "metadata": {},
   "source": [
    "1) a[0]=0 코드를 수행한 이후 다음 코드를 수행한 후 b와 c의 내용을 확인하시오."
   ]
  },
  {
   "cell_type": "code",
   "execution_count": 33,
   "metadata": {
    "collapsed": false
   },
   "outputs": [
    {
     "name": "stdout",
     "output_type": "stream",
     "text": [
      "[1, 2, 3, 1, 2, 3, 1, 2, 3]\n",
      "[[0, 2, 3], [0, 2, 3], [0, 2, 3]]\n"
     ]
    }
   ],
   "source": [
    "#1\n",
    "a[0]=0\n",
    "print b\n",
    "print c"
   ]
  },
  {
   "cell_type": "markdown",
   "metadata": {},
   "source": [
    "2) b와 c 객체의 차이는 무엇인가?"
   ]
  },
  {
   "cell_type": "markdown",
   "metadata": {},
   "source": [
    "> b 객체는 a 리스트를 3번 반복하여 \"새로\" 만들어진 리스트이다. 반면에 c 객체는 a 리스트를 3번 참조하여 만들어졌다. 즉, c 객체는 리스트안에 a가 3번 담긴 형태이다. 따라서 a를 변경하면, b는 아무런 변화가 없는 반면 c는 [a, a, a] 와 같은 형태이므로 a의 변화가 반영된 것을 알 수 있다.\n",
    "\n",
    "---"
   ]
  },
  {
   "cell_type": "markdown",
   "metadata": {},
   "source": [
    "### 4. 다음 문자열을 ':'을 기준으로 분리하여 리스트로 만들고 각 문자열의 좌우 공백을 제거하시오 (즉, 문자열 S에서 l을 만들어라)"
   ]
  },
  {
   "cell_type": "markdown",
   "metadata": {},
   "source": [
    "s = '  first star   :   second star   :    third star  '<br/>\n",
    "l = ['first star', 'second star', 'third star']"
   ]
  },
  {
   "cell_type": "markdown",
   "metadata": {},
   "source": [
    "1) for ~ in 문을 이용한 코드를 작성하시오."
   ]
  },
  {
   "cell_type": "code",
   "execution_count": 43,
   "metadata": {
    "collapsed": false
   },
   "outputs": [
    {
     "name": "stdout",
     "output_type": "stream",
     "text": [
      "['first star', 'second star', 'third star']\n"
     ]
    }
   ],
   "source": [
    "s = ' first star : second star : third star '\n",
    "s = s.split(':')\n",
    "l = []\n",
    "for idx in range(len(s)):\n",
    "    l.append(s[idx].strip())\n",
    "print l"
   ]
  },
  {
   "cell_type": "markdown",
   "metadata": {},
   "source": [
    "2) 리스트 내포(list comprehension)를 이용한 코드를 작성하시오."
   ]
  },
  {
   "cell_type": "code",
   "execution_count": 42,
   "metadata": {
    "collapsed": false
   },
   "outputs": [
    {
     "name": "stdout",
     "output_type": "stream",
     "text": [
      "['first star', 'second star', 'third star']\n"
     ]
    }
   ],
   "source": [
    "s = ' first star : second star : third star '\n",
    "l = [ s.split(':')[idx].strip() for idx in range(len(s.split(':'))) ]\n",
    "print l"
   ]
  },
  {
   "cell_type": "markdown",
   "metadata": {},
   "source": [
    "> s 에서 l을 만드는 순서는 다음과 같다.\n",
    "1. ':' 을 기준으로 split 한다.\n",
    "2. split하여 나온 단어를 각각 strip 한다.\n",
    "\n",
    "> 위 방법을 1번은 for in 문을 사용하여 구현하였고 2번은 리스트 내포를 사용하여 한줄로 표현하였다.\n",
    "\n",
    "\n",
    "---"
   ]
  },
  {
   "cell_type": "markdown",
   "metadata": {},
   "source": [
    "### 5. 다음과 같이 0보다 큰 정수 리스트 변수 list를 인자로 받는 함수 addall(list)와 addallodd(list)를 for ~ in 리터널과 리스트 내포 방식으로 각각 제시하시오.\n",
    "- [참고]: 리스트 내포 방식으로 addall() 및 addallodd()함수를 만들 때엔 리스트 내포에 의해 생성된 리스트 결과에 대해 내장 함수를 사용하는 방식을 고려해보시오\n",
    "- [참고2] : sum() 등의 내장함수 사용 가능함"
   ]
  },
  {
   "cell_type": "markdown",
   "metadata": {},
   "source": [
    "1) addall(list) 함수 (리스트 내의 모든 정수를 더하는 함수로서 해답으로는 for ~ in 리터럴과 리스트 내포 방식으로 각각 제시하시오.)"
   ]
  },
  {
   "cell_type": "code",
   "execution_count": 8,
   "metadata": {
    "collapsed": false
   },
   "outputs": [
    {
     "name": "stdout",
     "output_type": "stream",
     "text": [
      "55\n"
     ]
    }
   ],
   "source": [
    "a = [1, 2, 3, 4, 5, 6, 7, 8, 9, 10]\n",
    "\n",
    "def addall(l):\n",
    "    sum = 0\n",
    "    for x in a:\n",
    "        sum += x\n",
    "    return sum\n",
    "\n",
    "print addall(a)"
   ]
  },
  {
   "cell_type": "code",
   "execution_count": 2,
   "metadata": {
    "collapsed": false
   },
   "outputs": [
    {
     "name": "stdout",
     "output_type": "stream",
     "text": [
      "55\n"
     ]
    }
   ],
   "source": [
    "a = [1, 2, 3, 4, 5, 6, 7, 8, 9, 10]\n",
    "\n",
    "def addall(l):\n",
    "    return sum([ x for x in l ])\n",
    "\n",
    "print addall(a)"
   ]
  },
  {
   "cell_type": "markdown",
   "metadata": {},
   "source": [
    "2) addallodd(list) 함수 (리스트내의 모든 홀수를 더하는 함수로서 해답으로는 for ~ in 리터럴과 리스트 내포 방식으로 각각 제시하시오.)"
   ]
  },
  {
   "cell_type": "code",
   "execution_count": 6,
   "metadata": {
    "collapsed": false
   },
   "outputs": [
    {
     "name": "stdout",
     "output_type": "stream",
     "text": [
      "25\n"
     ]
    }
   ],
   "source": [
    "a = [1, 2, 3, 4, 5, 6, 7, 8, 9, 10]\n",
    "\n",
    "def addallodd(l):\n",
    "    sum = 0\n",
    "    for x in l:\n",
    "        if x & 1 == 1:\n",
    "            sum += x\n",
    "    return sum\n",
    "\n",
    "print addallodd(a)"
   ]
  },
  {
   "cell_type": "code",
   "execution_count": 7,
   "metadata": {
    "collapsed": false
   },
   "outputs": [
    {
     "name": "stdout",
     "output_type": "stream",
     "text": [
      "25\n"
     ]
    }
   ],
   "source": [
    "a = [1, 2, 3, 4, 5, 6, 7, 8, 9, 10]\n",
    "\n",
    "def addallodd(l):\n",
    "    return sum([ x for x in l if x & 1 == 1 ])\n",
    "\n",
    "print addallodd(a)"
   ]
  },
  {
   "cell_type": "markdown",
   "metadata": {},
   "source": [
    "> 두 함수 모두 각각 for in문과 리스트 내포를 사용해 작성하였다. 내장 함수인 sum와 리스트 내포 방식을 사용하면 짧고 쉽게 원하는 바를 표현할 수 있다.\n",
    "\n",
    "---"
   ]
  },
  {
   "cell_type": "markdown",
   "metadata": {},
   "source": [
    "### 6. 다음 코드를 보고 물음에 답하시오."
   ]
  },
  {
   "cell_type": "code",
   "execution_count": 71,
   "metadata": {
    "collapsed": false
   },
   "outputs": [
    {
     "name": "stdout",
     "output_type": "stream",
     "text": [
      "{'high': [4, 5, 6], 'low': [1, 2, 3]}\n",
      "{'high': [4, 5, 6], 'low': [1, 2, 3]}\n",
      "{'high': [4, 5, 6], 'low': [1, 2, 3]}\n",
      "\n",
      "{'high': [4, 500, 6], 'low': [10, 20, 30]}\n",
      "{'high': [4, 500, 6], 'low': [10, 20, 30]}\n",
      "{'high': [4, 500, 6], 'low': [1, 2, 3]}\n"
     ]
    }
   ],
   "source": [
    "L1 = [1, 2, 3]\n",
    "L2 = [4, 5, 6]\n",
    "d = {'low':L1, 'high':L2}\n",
    "e = d\n",
    "f = d.copy()\n",
    "print d\n",
    "print e\n",
    "print f\n",
    "print\n",
    "d['low'] = [10, 20, 30]\n",
    "d['high'][1] = 500\n",
    "print d\n",
    "print e\n",
    "print f"
   ]
  },
  {
   "cell_type": "markdown",
   "metadata": {},
   "source": [
    "1) 위 코드의 수행 결과 d와 e는 항상 같은 결과를 출력한다. 그 이유는 무엇인가?\n",
    "> e = d 코드로 e 와 d는 같은 객체를 가리키고 있기 때문이다."
   ]
  },
  {
   "cell_type": "markdown",
   "metadata": {},
   "source": [
    "2) 위 코드의 수행 결과 마지막 f의 내용은 다음과 같다. 이 때 'high' 키의 값 내용 중 500이 출력된 이유와 'low' 키의 값 내용 중 [1, 2, 3]이 출력된 이유를 설명하시오 ([hint]: shallow copy 관점에서 설명하시오.)\n",
    "\n",
    "> 우선 f는 d의 shallow copy이다. d['low'] 가 변경되어도 f는 기존의 값을 그대로 가리키고 있기 때문에 f의 low는 [1, 2, 3] 이 출력된다. 하지만 ['high'][1] 의 경우는 조금 다르다. d['high'] 와 f['high'] 는 모두 같은 리스트인 L2를 가리키고 있다. 근데 L2 의 1번 인덱스를 교체하였으므로, d, f 모두 변화한 L2를 출력하게 된다. \n",
    "\n",
    "\n",
    "---"
   ]
  },
  {
   "cell_type": "markdown",
   "metadata": {},
   "source": [
    "### 7. 사전 d = {'one':1, 'two':2, 'three':3, 'four':4, 'five':5}가 주어졌을 때 다음 요구사항에 맞는 코드를 제시하시오\n",
    "- [참고]: d.keys(), d.values()를 통해 리스트를 얻어낸 후 리스트가 지니고 있는 sort(cmp=None, key=None, reverse=False)함수를 활용하시오."
   ]
  },
  {
   "cell_type": "markdown",
   "metadata": {},
   "source": [
    "1) 키의 알파벳 오름차순 순서대로 튜플 (키, 값)을 차례대로 출력하시오."
   ]
  },
  {
   "cell_type": "code",
   "execution_count": 86,
   "metadata": {
    "collapsed": false
   },
   "outputs": [
    {
     "name": "stdout",
     "output_type": "stream",
     "text": [
      "('five', 5) ('four', 4) ('one', 1) ('three', 3) ('two', 2)\n"
     ]
    }
   ],
   "source": [
    "d = {'one':1, 'two':2, 'three':3, 'four':4, 'five':5}\n",
    "tmp = d.keys()\n",
    "tmp.sort()\n",
    "for key in tmp:\n",
    "    print (key, d[key]),"
   ]
  },
  {
   "cell_type": "markdown",
   "metadata": {},
   "source": [
    "> d.keys() 를 사용하여 key를 얻어 sort 한다음, 그 결과를 for문을 사용해 (키, 값) 형태로 출력하였다."
   ]
  },
  {
   "cell_type": "markdown",
   "metadata": {},
   "source": [
    "2) 키의 알파벳 내림차순 순서대로 튜플 (키, 값)을 차례대로 출력하시오."
   ]
  },
  {
   "cell_type": "code",
   "execution_count": 87,
   "metadata": {
    "collapsed": false
   },
   "outputs": [
    {
     "name": "stdout",
     "output_type": "stream",
     "text": [
      "('two', 2) ('three', 3) ('one', 1) ('four', 4) ('five', 5)\n"
     ]
    }
   ],
   "source": [
    "d = {'one':1, 'two':2, 'three':3, 'four':4, 'five':5}\n",
    "tmp = d.keys()\n",
    "tmp.sort(reverse = True)\n",
    "for key in tmp:\n",
    "    print (key, d[key]),"
   ]
  },
  {
   "cell_type": "markdown",
   "metadata": {},
   "source": [
    "> 1번과는 반대로 reverse = True 를 사용해 내림차순으로 출력하였다."
   ]
  },
  {
   "cell_type": "markdown",
   "metadata": {},
   "source": [
    "3) 값의 오름차순 순서대로 튜플 (키, 값)을 차례대로 출력하시오."
   ]
  },
  {
   "cell_type": "code",
   "execution_count": 88,
   "metadata": {
    "collapsed": false
   },
   "outputs": [
    {
     "name": "stdout",
     "output_type": "stream",
     "text": [
      "('one', 1) ('two', 2) ('three', 3) ('four', 4) ('five', 5)\n"
     ]
    }
   ],
   "source": [
    "d = {'one':1, 'two':2, 'three':3, 'four':4, 'five':5}\n",
    "tmp = d.values()\n",
    "tmp.sort()\n",
    "for value in tmp:\n",
    "    for key in d.keys():\n",
    "        if d[key] == value:\n",
    "            print (key, d[key]),\n",
    "            break"
   ]
  },
  {
   "cell_type": "markdown",
   "metadata": {},
   "source": [
    "> 우선 value를 오름차순으로 정렬한 다음 그 순서대로 for문을 돌면서 해당 value를 가진 key값을 찾아 순서대로 출력하였다."
   ]
  },
  {
   "cell_type": "markdown",
   "metadata": {},
   "source": [
    "4) 값의 내림차순 순서대로 튜플 (키, 값)을 차례대로 출력하시오."
   ]
  },
  {
   "cell_type": "code",
   "execution_count": 89,
   "metadata": {
    "collapsed": false
   },
   "outputs": [
    {
     "name": "stdout",
     "output_type": "stream",
     "text": [
      "('five', 5) ('four', 4) ('three', 3) ('two', 2) ('one', 1)\n"
     ]
    }
   ],
   "source": [
    "d = {'one':1, 'two':2, 'three':3, 'four':4, 'five':5}\n",
    "tmp = d.values()\n",
    "tmp.sort(reverse = True)\n",
    "for value in tmp:\n",
    "    for key in d.keys():\n",
    "        if d[key] == value:\n",
    "            print (key, d[key]),\n",
    "            break"
   ]
  },
  {
   "cell_type": "markdown",
   "metadata": {},
   "source": [
    "> 3번과 마찬가지로 값을 출력하되, reverse = True를 사용해 내림차순으로 출력하였다\n",
    "\n",
    "\n",
    "---"
   ]
  },
  {
   "cell_type": "markdown",
   "metadata": {},
   "source": [
    "### 오일러 7. 소수를 크기 순으로 나열하면 2, 3, 5, 7, 11, 13, ... 과 같이 됩니다.\n",
    "- 이 때 10,001번째의 소수를 구하세요."
   ]
  },
  {
   "cell_type": "code",
   "execution_count": 13,
   "metadata": {
    "collapsed": false
   },
   "outputs": [
    {
     "name": "stdout",
     "output_type": "stream",
     "text": [
      "104743\n"
     ]
    }
   ],
   "source": [
    "sosu = [0]*1000000\n",
    "num = 0\n",
    "\n",
    "# 에라토스테네스의 체를 사용해 소수를 미리 구한다.\n",
    "for i in range(2, 1000000):\n",
    "    if sosu[i] == 0:\n",
    "        num += 1\n",
    "        \n",
    "        if num == 10001:\n",
    "            print i\n",
    "            break\n",
    "        \n",
    "        for j in range(i*2, 1000000, i):\n",
    "            sosu[j] = 1"
   ]
  },
  {
   "cell_type": "markdown",
   "metadata": {},
   "source": [
    "> 우선 소수를 빠르게 구하기 위해 에라토스테네스의 체를 사용하였고, 이를 위해 10001번째 소수는 1000000 보단 작은 수라고 가정하였다. 소수를 미리 구하고, 소수가 구해질 때마다 num 을 세면서 10001번째 소수를 구하였다.\n",
    "\n",
    "---"
   ]
  },
  {
   "cell_type": "markdown",
   "metadata": {},
   "source": [
    "### 오일러 8. 다음은 연속된 1000자리 숫자입니다 (읽기 좋게 50자리씩 잘라놓음).\n",
    "\n",
    "\n",
    "\n",
    "- 여기서 붉게 표시된 71112의 경우 7, 1, 1, 1, 2 각 숫자를 모두 곱하면 14가 됩니다.\n",
    "\n",
    "- 이런 식으로 맨 처음 (7 × 3 × 1 × 6 × 7 = 882) 부터 맨 끝 (6 × 3 × 4 × 5 × 0 = 0) 까지 5자리 숫자들의 곱을 구할 수 있습니다.\n",
    "- 이렇게 구할 수 있는 5자리 숫자의 곱 중에서 가장 큰 값은 얼마입니까?\n",
    "\n"
   ]
  },
  {
   "cell_type": "code",
   "execution_count": 27,
   "metadata": {
    "collapsed": false
   },
   "outputs": [
    {
     "name": "stdout",
     "output_type": "stream",
     "text": [
      "40824\n"
     ]
    }
   ],
   "source": [
    "s = [0]*20\n",
    "s[0] = \"73167176531330624919225119674426574742355349194934\"\n",
    "s[1] = \"96983520312774506326239578318016984801869478851843\"\n",
    "s[2] = \"85861560789112949495459501737958331952853208805511\"\n",
    "s[3] = \"12540698747158523863050715693290963295227443043557\"\n",
    "s[4] = \"66896648950445244523161731856403098711121722383113\"\n",
    "s[5] = \"62229893423380308135336276614282806444486645238749\"\n",
    "s[6] = \"30358907296290491560440772390713810515859307960866\"\n",
    "s[7] = \"70172427121883998797908792274921901699720888093776\"\n",
    "s[8] = \"65727333001053367881220235421809751254540594752243\"\n",
    "s[9] = \"52584907711670556013604839586446706324415722155397\"\n",
    "s[10] = \"53697817977846174064955149290862569321978468622482\"\n",
    "s[11] = \"83972241375657056057490261407972968652414535100474\"\n",
    "s[12] = \"82166370484403199890008895243450658541227588666881\"\n",
    "s[13] = \"16427171479924442928230863465674813919123162824586\"\n",
    "s[14] = \"17866458359124566529476545682848912883142607690042\"\n",
    "s[15] = \"24219022671055626321111109370544217506941658960408\"\n",
    "s[16] = \"07198403850962455444362981230987879927244284909188\"\n",
    "s[17] = \"84580156166097919133875499200524063689912560717606\"\n",
    "s[18] = \"05886116467109405077541002256983155200055935729725\"\n",
    "s[19] = \"71636269561882670428252483600823257530420752963450\"\n",
    "\n",
    "num = [0]*1000\n",
    "idx = 0\n",
    "for i in range(20):\n",
    "    for j in range(len(s[i])):\n",
    "        num[idx] = int(s[i][j])\n",
    "        idx+=1\n",
    "\n",
    "maxm = 0\n",
    "for i in range(1000-4):\n",
    "    mult = 1\n",
    "    for j in range(5):\n",
    "        mult = mult * num[i+j]\n",
    "    if maxm < mult:\n",
    "        maxm = mult\n",
    "print maxm"
   ]
  },
  {
   "cell_type": "markdown",
   "metadata": {},
   "source": [
    "> 우선 1000자리의 문자열을 입력받을 때, 50자리씩 끊어 문자열로 동적으로 저장했다고 가정한다. 위 코드의 경우 s 배열에 50자리씩 잘려 들어가 있다. 이를 좀더 연산하기 쉽게 하기 위해 1차원 배열(num)에 대입한다. 이제 0부터 996까지 5자리씩 모두 곱해보고 그중 가장 큰 값을 취한다.\n",
    "\n",
    "---"
   ]
  },
  {
   "cell_type": "markdown",
   "metadata": {
    "collapsed": true
   },
   "source": [
    "### 오일러 9. 세 자연수 a, b, c 가 피타고라스 정리 a2 + b2 = c2 를 만족하면 피타고라스 수라고 부릅니다 (여기서 a < b < c ).\n",
    "- 예를 들면 32 + 42 = 9 + 16 = 25 = 52이므로 3, 4, 5는 피타고라스 수입니다.\n",
    "- a + b + c = 1000 인 피타고라스 수 a, b, c는 한 가지 뿐입니다. 이 때, a × b × c 는 얼마입니까?"
   ]
  },
  {
   "cell_type": "code",
   "execution_count": 20,
   "metadata": {
    "collapsed": false
   },
   "outputs": [
    {
     "name": "stdout",
     "output_type": "stream",
     "text": [
      "31875000\n"
     ]
    }
   ],
   "source": [
    "for c in range(1000, 2, -1):\n",
    "    for b in range(1000-c):\n",
    "        a = 1000-c-b\n",
    "        if a < b < c :\n",
    "            if a**2+b**2 == c**2:\n",
    "                print a * b * c\n",
    "                break"
   ]
  },
  {
   "cell_type": "markdown",
   "metadata": {},
   "source": [
    "> a, b, c 의 합이 1000이 되는 선에서 2중 for문을 돌리고, a<b<c 를 만족하는 조건 내에서 피타고라스의 수를 구했다. 최종적으로 만족된 수는 200 375 425이었으며, 그 수들의 곱을 출력했다.\n",
    "\n",
    "---"
   ]
  },
  {
   "cell_type": "markdown",
   "metadata": {},
   "source": [
    "### 11. [Incremental Project] 이전 Assignment 2의 마지막 문제는 웹 URL로 지정된 웹페이지를 문자열로 가져와 모든 HTML 태그 및 CSS와 Javascript를 제외한 순수 텍스트를 얻어내고 그 안에 존재하는 단어를 추출하고 단어들의 총 개수를 출력하는 프로그램을 작성하는 것이었다. 이번에는 그 마지막 숙제를 그대로 확장하여 웹 URL로 지정된 웹페이지 내 순수 텍스트 안에 존재하는 각 단어들에 대해 다음 요구사항 대로 출력하는 프로그램을 작성하시오.\n",
    "- 요구사항 1. 순수 텍스트 안에 존재하는 단어들에 대해 string 모듈을 활용하여 모든 punctuation (구두문자)를 완벽히 제거하시오.\n",
    "- 요구사항 2. 만약 punctuation (구두문자)를 제거한 이후 공백으로 판명되는 단어들은 해당 단어 리스트에서 제거하시오.\n",
    "- 요구사항 3. 각 단어들의 출현빈도를 사전형태로 저장하여 출력하시오.\n",
    "- 요구사항 4. 다음 3개의 사이트에 대한 결과를 출력하시오.\n",
    "1) http://www.naver.com\n",
    "2) http://www.daum.net\n",
    "3) http://www.nytimes.com"
   ]
  },
  {
   "cell_type": "code",
   "execution_count": 105,
   "metadata": {
    "collapsed": false
   },
   "outputs": [],
   "source": [
    "import urllib2\n",
    "import string\n",
    "\n",
    "def getTextFromUrl(url):\n",
    "    source = urllib2.urlopen(url).read()\n",
    "    text = ''\n",
    "\n",
    "    # 주석 제거\n",
    "    while '<!--' in source:\n",
    "        # 주석은 <!-- 과 --> 의 쌍으로 나타내어지므로 index 함수를 사용해 주석을 찾아 없앤다.\n",
    "        left = source.index('<!--')\n",
    "        right = source.index('-->')\n",
    "        source = source[:left] + source[right+3:]\n",
    "\n",
    "    # 태그가 없어질때까지 반복\n",
    "    while '<' in source:\n",
    "        # 태그는 < 과 > 의 쌍으로 나타내어지므로 index 함수를 사용해 태그 부분을 찾아 없앤다.\n",
    "        left = source.index('<')\n",
    "        right = source.index('>')\n",
    "        text = text+' '+source[:left]\n",
    "        source = source[right+1:]\n",
    "    \n",
    "    wordList = {}\n",
    "    for t in text.split():\n",
    "        for char in string.punctuation:\n",
    "            t = t.replace(char, '')\n",
    "        if len(t) > 0:\n",
    "            if not t in wordList.keys():\n",
    "                wordList[t]=1\n",
    "            else:\n",
    "                wordList[t]=wordList[t]+1\n",
    "                \n",
    "    for key, value in wordList.items():\n",
    "        print '[ %s : %s ], ' % (key, str(value)),\n",
    "                \n",
    "    return None"
   ]
  },
  {
   "cell_type": "code",
   "execution_count": 106,
   "metadata": {
    "collapsed": false
   },
   "outputs": [
    {
     "name": "stdout",
     "output_type": "stream",
     "text": [
      "[ 한글캠페인 : 1 ],  [ 야구 : 1 ],  [ global : 1 ],  [ 위하여 : 1 ],  [ 나눔글꼴이 : 2 ],  [ 별 : 1 ],  [ 신고 : 4 ],  [ 나눔글꼴을 : 2 ],  [ 선호주제설정 : 1 ],  [ 에밋하승진 : 1 ],  [ adescriptionremoveUrlfunctionaforvar : 1 ],  [ 마리텔 : 2 ],  [ c0c : 1 ],  [ 클릭하세요 : 1 ],  [ 별자리 : 1 ],  [ 제대로 : 1 ],  [ 김해림의 : 1 ],  [ 바로이동 : 1 ],  [ 9위 : 1 ],  [ 390의 : 1 ],  [ 시스템글꼴 : 1 ],  [ 교통 : 2 ],  [ 정글 : 1 ],  [ LogErrorJSON : 1 ],  [ 기존 : 1 ],  [ 홈 : 3 ],  [ 를 : 1 ],  [ 쌀쌀…동해안 : 1 ],  [ 고객센터 : 1 ],  [ 주제형캐스트 : 1 ],  [ 무시무시한 : 1 ],  [ 랭킹 : 1 ],  [ 사이트로 : 1 ],  [ 때는 : 1 ],  [ 분데스리가 : 1 ],  [ 파트너사에 : 1 ],  [ 제공되지 : 1 ],  [ 도시 : 2 ],  [ 자주 : 2 ],  [ 기사보기 : 1 ],  [ 앱 : 3 ],  [ 체흐다39 : 1 ],  [ 네이버뉴스 : 1 ],  [ 설치된 : 1 ],  [ 실전 : 1 ],  [ 프로농구 : 4 ],  [ 자동차 : 1 ],  [ Lshortcutname날씨 : 1 ],  [ 선제골 : 2 ],  [ 전문보기 : 2 ],  [ falserunOnloadfunctionbdcifdreturnvar : 2 ],  [ 완료되지 : 1 ],  [ 국어사전 : 1 ],  [ SK : 1 ],  [ httpnv2vetanavercomdrunit002APnrefreshx0 : 1 ],  [ 주요언론사 : 2 ],  [ 설정된 : 1 ],  [ 설치하세요 : 1 ],  [ new : 1 ],  [ 부동산 : 3 ],  [ 기온 : 2 ],  [ 슈퍼 : 1 ],  [ 한게임 : 1 ],  [ mismatchbefore : 2 ],  [ 폰트를 : 1 ],  [ 켤 : 1 ],  [ 초반 : 1 ],  [ 만드는 : 1 ],  [ 카테고리 : 1 ],  [ 투런포 : 1 ],  [ 공지사항 : 1 ],  [ 확인 : 1 ],  [ 종합경제 : 1 ],  [ returnifloadedacompleteabonloadDonebonloadDonetruesetTimeoutd100elseifthisretry : 2 ],  [ 다양한 : 1 ],  [ 문화 : 1 ],  [ 패스 : 2 ],  [ 데이터 : 1 ],  [ 않고 : 1 ],  [ 에릭센 : 1 ],  [ 검색어저장 : 6 ],  [ 동반성장 : 1 ],  [ 경우에 : 1 ],  [ 코트에 : 1 ],  [ 4월13일 : 1 ],  [ 스케치북 : 1 ],  [ 통합검색 : 1 ],  [ 타임스퀘어 : 2 ],  [ txt : 5 ],  [ 고속도로 : 2 ],  [ 앱을 : 1 ],  [ 정책 : 2 ],  [ 파트너 : 1 ],  [ 뉴스 : 3 ],  [ 백남기 : 2 ],  [ 6 : 4 ],  [ 연예 : 1 ],  [ type : 3 ],  [ 20승리 : 1 ],  [ 개인정보 : 1 ],  [ 종료 : 1 ],  [ isSupportedFlicking : 1 ],  [ 종료39 : 1 ],  [ 인물 : 1 ],  [ 검색어를 : 2 ],  [ 급상승 : 1 ],  [ 대해 : 1 ],  [ 세번째 : 1 ],  [ 건강 : 1 ],  [ 열기 : 1 ],  [ 클래스 : 1 ],  [ 해설도 : 1 ],  [ 8위 : 1 ],  [ 지식교양 : 1 ],  [ TV연예 : 1 ],  [ 북스 : 1 ],  [ 메뉴 : 2 ],  [ 아드리아노 : 1 ],  [ 저장되지 : 1 ],  [ 살림의 : 1 ],  [ 일반 : 1 ],  [ 나눔글꼴로 : 2 ],  [ strHost : 1 ],  [ 7위 : 1 ],  [ 강민경 : 2 ],  [ 나만의 : 1 ],  [ 글꼴설정 : 2 ],  [ 1 : 3 ],  [ 회사소개 : 1 ],  [ 北美 : 1 ],  [ httpnv1vetanavercomdrunit002ANtbsz2nrefreshx0 : 1 ],  [ Imageasrchttpcecsnavercommbudocumentlocationl1115DLScriptquSXInew : 1 ],  [ 카페 : 2 ],  [ 증권 : 1 ],  [ 빛나는 : 1 ],  [ 반드시 : 1 ],  [ 영자지 : 1 ],  [ 기록 : 3 ],  [ Forgot : 1 ],  [ 가능합니다 : 2 ],  [ windowlocalStorageundefinedtrywindowlocalStorageclearcatchaifadescriptionLogErrorDL : 1 ],  [ date : 1 ],  [ 역전극 : 1 ],  [ 않은 : 1 ],  [ 박석민의 : 1 ],  [ TV편성 : 1 ],  [ 네이버를 : 1 ],  [ 인정 : 1 ],  [ or : 1 ],  [ 스완지시티 : 1 ],  [ 네이버가 : 1 ],  [ 이동 : 1 ],  [ 검색어는 : 1 ],  [ 생각한대로 : 1 ],  [ charsetutf8ksetRequestHeadercharsetutf8ksend : 1 ],  [ 띠별 : 1 ],  [ 추가하시려면 : 1 ],  [ 실시간 : 1 ],  [ 자세히보기 : 1 ],  [ clearLSfunctioniftypeof : 1 ],  [ 연합뉴스 : 1 ],  [ 개인 : 2 ],  [ 운세 : 3 ],  [ 리빙푸드 : 1 ],  [ 놀란 : 1 ],  [ 보내기 : 1 ],  [ 간장게장 : 1 ],  [ 더 : 1 ],  [ 배구 : 1 ],  [ 받고 : 1 ],  [ 0iikopenGETcltrueksetRequestHeaderContentTypeapplicationxwwwformurlencoded : 1 ],  [ 앱스토어 : 1 ],  [ 3점슛 : 1 ],  [ 하이라이트 : 2 ],  [ 원터치 : 1 ],  [ TV중계 : 1 ],  [ 시작페이지로 : 1 ],  [ 질문형 : 1 ],  [ 더욱 : 1 ],  [ 검색어로 : 1 ],  [ 오늘의 : 3 ],  [ 039박석민 : 1 ],  [ 알고싶 : 2 ],  [ 지식iN : 2 ],  [ 39루키39 : 1 ],  [ 게임 : 2 ],  [ 생년월일 : 1 ],  [ 최준용 : 1 ],  [ 생활 : 1 ],  [ 빠른 : 1 ],  [ About : 1 ],  [ 전송은 : 1 ],  [ 버튼을 : 1 ],  [ NAVER : 3 ],  [ 사용하고 : 1 ],  [ 입력 : 1 ],  [ 81 : 1 ],  [ 84 : 1 ],  [ 최근검색어 : 2 ],  [ Username : 1 ],  [ 빅데이터 : 1 ],  [ 경제 : 1 ],  [ 형님 : 2 ],  [ 대책’ : 2 ],  [ 골키퍼 : 1 ],  [ 내PC : 1 ],  [ 7 : 3 ],  [ 프리메라리가 : 1 ],  [ 고속화도로 : 2 ],  [ 취소 : 2 ],  [ 재설치 : 1 ],  [ 컨퍼런스 : 1 ],  [ 축구 : 1 ],  [ 현주엽 : 1 ],  [ NPay : 1 ],  [ 지워주세요 : 1 ],  [ 결승홈런039 : 1 ],  [ 243 : 1 ],  [ 무료입니다 : 1 ],  [ 쇼핑 : 2 ],  [ 웹문서 : 1 ],  [ 유형 : 1 ],  [ Sign : 2 ],  [ 아는 : 2 ],  [ 발생합니다 : 1 ],  [ 일 : 1 ],  [ 선택 : 1 ],  [ 지도 : 2 ],  [ 회복에 : 1 ],  [ 기39 : 1 ],  [ 퍼팅 : 1 ],  [ 인삼공사 : 1 ],  [ 만회골 : 1 ],  [ 5회차 : 1 ],  [ 않는 : 1 ],  [ 보세요 : 2 ],  [ …묘책없나 : 2 ],  [ K리그 : 2 ],  [ 지원 : 1 ],  [ TV캐스트 : 1 ],  [ 주간 : 1 ],  [ 구독설정 : 1 ],  [ 현안 : 1 ],  [ isLogin : 1 ],  [ 밤에 : 1 ],  [ 2 : 1 ],  [ 다음캐스트 : 1 ],  [ isIPAD : 1 ],  [ 해제 : 1 ],  [ 39역시 : 1 ],  [ 투데이 : 1 ],  [ ‘강남과열 : 2 ],  [ 분석활용 : 1 ],  [ 별이 : 2 ],  [ 보호를 : 1 ],  [ All : 1 ],  [ 로그아웃을 : 1 ],  [ ArrayquSnew : 1 ],  [ 고객님의 : 1 ],  [ 웹툰 : 2 ],  [ copy : 1 ],  [ 최대 : 1 ],  [ 주말의 : 2 ],  [ 0394명 : 1 ],  [ 11 : 3 ],  [ 10 : 5 ],  [ 도움말 : 7 ],  [ 12 : 3 ],  [ keyword : 1 ],  [ etcreturn : 2 ],  [ 기막힌 : 1 ],  [ PC에서는 : 1 ],  [ 미리보기 : 1 ],  [ Connect : 1 ],  [ 얘기· : 1 ],  [ false : 5 ],  [ sqarejson11 : 1 ],  [ 말만 : 2 ],  [ 스케 : 1 ],  [ 왓포드 : 1 ],  [ 모든 : 2 ],  [ 무료로 : 2 ],  [ null : 2 ],  [ 김요한 : 1 ],  [ truereturn : 2 ],  [ 오류 : 1 ],  [ 사전 : 2 ],  [ 뉴스이슈 : 3 ],  [ 가 : 1 ],  [ 기업을 : 2 ],  [ 개 : 1 ],  [ 없습니다 : 2 ],  [ 주제판 : 1 ],  [ 갓 : 1 ],  [ 뽐내는 : 1 ],  [ 39명사수39 : 1 ],  [ LogErrorfunctionbvar : 1 ],  [ 켜기 : 5 ],  [ 있습니다 : 4 ],  [ clearLS : 1 ],  [ 최근검색어에서 : 1 ],  [ refreshLcsetc : 2 ],  [ HL39 : 1 ],  [ 1위 : 1 ],  [ 4위 : 1 ],  [ 내역이 : 1 ],  [ 부상으로 : 1 ],  [ 롱 : 1 ],  [ b0bifthisquSbathisquSb : 1 ],  [ 번호는 : 1 ],  [ 찬바람 : 1 ],  [ 성공 : 1 ],  [ 메인을 : 2 ],  [ 3위 : 1 ],  [ aDLScriptquSXIlengthforvar : 1 ],  [ 루시 : 2 ],  [ urlhttpsearchnavercomsearchnaversmtoptsiwherenexearchieutf8queryED8EB8EC84B1ED919C : 1 ],  [ 지역 : 2 ],  [ 소개 : 1 ],  [ 않습니다 : 2 ],  [ N드라이브 : 1 ],  [ 사용 : 2 ],  [ 종료…北 : 1 ],  [ 현재 : 3 ],  [ 날씨 : 1 ],  [ 8 : 4 ],  [ 다시 : 3 ],  [ 세이브 : 1 ],  [ 검색 : 2 ],  [ 뮤직 : 3 ],  [ 자동완성 : 10 ],  [ 13 : 1 ],  [ abreadyStateiftypeof : 2 ],  [ 129 : 1 ],  [ 구독목록 : 1 ],  [ 좋은 : 2 ],  [ 용어사전 : 1 ],  [ 프로배구 : 2 ],  [ 영상 : 27 ],  [ 신규 : 1 ],  [ 전체보기 : 1 ],  [ 그의 : 1 ],  [ 반짝이는 : 1 ],  [ 다비치 : 2 ],  [ 수 : 1 ],  [ 메시 : 1 ],  [ ifdocumentcookieindexOfnrefreshx1 : 2 ],  [ 닫기 : 5 ],  [ 광고 : 3 ],  [ 전체 : 2 ],  [ 차테크 : 1 ],  [ 86득점039 : 1 ],  [ 저녁 : 1 ],  [ 138 : 2 ],  [ 통산 : 1 ],  [ 영어사전 : 1 ],  [ 3 : 2 ],  [ 완료 : 1 ],  [ b0bifthisquSbareturn : 1 ],  [ 제공되는 : 1 ],  [ 이전페이지 : 2 ],  [ 공익나눔 : 1 ],  [ 주제별캐스트 : 1 ],  [ 패션뷰티 : 1 ],  [ 검색해 : 1 ],  [ qstidx0 : 1 ],  [ 개인정보처리방침 : 1 ],  [ 공용 : 1 ],  [ 메일 : 1 ],  [ 2위 : 1 ],  [ 주세요 : 1 ],  [ 444 : 1 ],  [ PC에서 : 1 ],  [ 선거일까지 : 1 ],  [ 백과사전 : 1 ],  [ 선택하여 : 1 ],  [ 나눔글꼴 : 8 ],  [ 필요합니다 : 1 ],  [ 전체언론사 : 2 ],  [ 지원프로그램 : 1 ],  [ 해 : 1 ],  [ httpcastboxshoppingnavercomsboxmainnhn : 1 ],  [ 다운로드URL : 2 ],  [ 검색어 : 10 ],  [ 강력해진 : 1 ],  [ 다운로드 : 2 ],  [ urlhttpweathernavercom : 1 ],  [ 발견 : 1 ],  [ 다음 : 2 ],  [ 방법 : 1 ],  [ 스포츠연예 : 1 ],  [ 활성화되었습니다 : 1 ],  [ Beta : 1 ],  [ 설정 : 1 ],  [ 결과는 : 1 ],  [ DLScriptloadDShttpspmnavernetjscJEagleEyeClient20120111minjsv2 : 2 ],  [ 해야 : 1 ],  [ 계십니다 : 1 ],  [ KCROWD : 1 ],  [ e스포츠·게임 : 1 ],  [ 생활위젯 : 1 ],  [ 음악 : 1 ],  [ 알틴톱 : 1 ],  [ 20161023005451 : 1 ],  [ 보기 : 2 ],  [ 삭제한 : 1 ],  [ qstsize3 : 1 ],  [ 뉴스스탠드 : 2 ],  [ 고호의 : 2 ],  [ isMyCast : 1 ],  [ 이용약관 : 1 ],  [ 이유는 : 1 ],  [ 합니다 : 2 ],  [ 등록 : 2 ],  [ 쓰는 : 1 ],  [ vs : 1 ],  [ elseifgsetTimeoutg100injectScriptsfunctionvar : 1 ],  [ in : 1 ],  [ 행복검색 : 1 ],  [ 주요 : 1 ],  [ 제휴제안 : 1 ],  [ 서비스 : 2 ],  [ 까지 : 1 ],  [ html : 2 ],  [ 체조 : 1 ],  [ 9 : 4 ],  [ 경우 : 1 ],  [ 0bifthisquSbareturn : 1 ],  [ aundefinedbonloadDonebonloadDonetruecsetTimeoutd100bonloadd : 2 ],  [ KLPGA : 1 ],  [ 문자받기 : 2 ],  [ 바로 : 1 ],  [ IT : 1 ],  [ 펼치기 : 1 ],  [ 전문자료 : 1 ],  [ 하승진의 : 1 ],  [ 그것이 : 3 ],  [ 더보기 : 2 ],  [ 영화 : 7 ],  [ 상황 : 4 ],  [ 이름은 : 1 ],  [ nbsp나눔글꼴을 : 1 ],  [ 확인되지 : 2 ],  [ lcsdorefreshLcs : 2 ],  [ 네이버me : 1 ],  [ 최초설치가 : 1 ],  [ 39경기 : 1 ],  [ intxt : 2 ],  [ edescription : 1 ],  [ 리터러시 : 1 ],  [ 바셋 : 1 ],  [ 제치고 : 1 ],  [ NshortcutnameTV편성 : 1 ],  [ 방송통신 : 1 ],  [ 오픈캐스트 : 1 ],  [ 동영상 : 1 ],  [ EPL : 2 ],  [ 마이비즈니스 : 1 ],  [ 해외야구 : 1 ],  [ LG에 : 1 ],  [ 패밀리 : 1 ],  [ 쥬니버 : 1 ],  [ 수원에 : 1 ],  [ 바로가기 : 5 ],  [ 불고 : 1 ],  [ 0bifthisquSbathisquSb : 1 ],  [ match : 2 ],  [ 상영 : 1 ],  [ 황우슬혜 : 2 ],  [ 균형 : 1 ],  [ 지동원 : 1 ],  [ 6위 : 1 ],  [ 검색어가 : 1 ],  [ 카페글 : 1 ],  [ 농구 : 1 ],  [ 찾는 : 1 ],  [ 예보 : 1 ],  [ 2연속 : 1 ],  [ 약관 : 1 ],  [ 라인 : 1 ],  [ 가볍고 : 1 ],  [ 51 : 2 ],  [ 책문화 : 1 ],  [ 주제별 : 1 ],  [ people : 1 ],  [ displaylink : 1 ],  [ 5위 : 1 ],  [ 해외축구 : 1 ],  [ etcetcetcetcmrf1return : 2 ],  [ 책 : 2 ],  [ 매거진전문지 : 1 ],  [ 일본어사전 : 1 ],  [ 끄기 : 7 ],  [ 제20대 : 1 ],  [ 비 : 1 ],  [ 설치 : 4 ],  [ 임의로 : 1 ],  [ 10위 : 1 ],  [ mismatchafter : 2 ],  [ 포함 : 2 ],  [ 무성한 : 2 ],  [ 네이버SE : 1 ],  [ image7 : 1 ],  [ 및 : 3 ],  [ 삭제 : 4 ],  [ ℃ : 2 ],  [ 조나탄 : 1 ],  [ 모두가 : 1 ],  [ wwwnavercom : 1 ],  [ bthisquSlength1 : 2 ],  [ 말레이 : 1 ],  [ 입력하신 : 1 ],  [ 라이센스 : 2 ],  [ 내 : 8 ],  [ 다음페이지 : 2 ],  [ 블로그 : 2 ],  [ 프로그램 : 1 ],  [ 클래식 : 1 ],  [ LoL : 1 ],  [ 검색홈 : 1 ],  [ 주저앉은 : 1 ],  [ 위해서는 : 1 ],  [ MY뉴스 : 1 ],  [ NC : 1 ],  [ 긍정부정검색 : 1 ],  [ var : 10 ],  [ Corp : 1 ],  [ 네이버 : 14 ],  [ function : 2 ],  [ 기능을 : 2 ],  [ 한자사전 : 1 ],  [ 39벵 : 1 ],  [ 영영사전 : 1 ],  [ 레이어 : 4 ],  [ 원 : 1 ],  [ 저장 : 2 ],  [ 후보에 : 1 ],  [ 안내 : 1 ],  [ 설치하시겠습니까 : 2 ],  [ 스포츠 : 6 ],  [ with : 1 ],  [ 그 : 1 ],  [ 1023 : 1 ],  [ 쇼핑캐스트 : 2 ],  [ 사이트 : 3 ],  [ up : 1 ],  [ 기능이 : 5 ],  [ anew : 1 ],  [ 국회의원선거 : 1 ],  [ 메인뉴스 : 1 ],  [ 청소년보호정책 : 1 ],  [ 공연 : 1 ],  [ 골프 : 1 ],  [ catch : 1 ],  [ 카페명 : 1 ],  [ 이전캐스트 : 1 ],  [ 비공식대화 : 1 ],  [ 해피빈 : 1 ],  [ 위기의 : 1 ],  [ 사용자가 : 2 ],  [ TV : 3 ],  [ 45 : 1 ],  [ 저장할 : 1 ],  [ 라멜라에 : 1 ],  [ 5 : 3 ],  [ 이미지 : 1 ],  [ 휴대폰번호 : 1 ],  [ 저장해 : 1 ],  [ Password : 1 ],  [ 백어택 : 1 ],  [ isMobile : 1 ],  [ 보기위해서는 : 1 ],  [ 꺼져 : 3 ],  [ 콤비 : 1 ],  [ 매체보기 : 1 ],  [ 유희열의 : 2 ],  [ 상승 : 11 ],  [ 알고싶다 : 1 ],  [ 전시회 : 1 ],  [ 함께 : 1 ],  [ 99 : 1 ],  [ 로그인 : 2 ],  [ e : 1 ],  [ Arrayretry0isLoadfunctionaforvar : 1 ],  [ 활약 : 1 ],  [ svt : 1 ],  [ 이전 : 2 ],  [ svr : 1 ],  [ 피로 : 1 ],  [ SK에 : 1 ], \n"
     ]
    }
   ],
   "source": [
    "getTextFromUrl(\"http://www.naver.com\")"
   ]
  },
  {
   "cell_type": "code",
   "execution_count": 107,
   "metadata": {
    "collapsed": false
   },
   "outputs": [
    {
     "name": "stdout",
     "output_type": "stream",
     "text": [
      "[ top7px : 1 ],  [ overflowhiddenfloatleftmargintop1pxfontsize10pxlineheight12pxcolor81838cwhitespacenowrap : 1 ],  [ titstory : 11 ],  [ 0fontweightboldfontsize11pxlineheight13pxfontfamilytahomasansserifcolor949494 : 1 ],  [ 6px : 23 ],  [ titissuerank : 2 ],  [ 해물파스타 : 1 ],  [ overflowhiddenfloatleftwidth66pxheight39pxlineheight39pxbackgroundcolortransparentbackgroundposition378px : 1 ],  [ suggestBox : 105 ],  [ wrapthesong : 1 ],  [ promotionimg : 8 ],  [ linkprotect : 1 ],  [ 나리 : 1 ],  [ height103pxmargintop9px : 2 ],  [ displayblockheight15pxmarginleft15pxpaddingtop14pxlineheight15px : 1 ],  [ icocolon : 1 ],  [ width46pxbackgroundposition215px : 1 ],  [ realestateon : 2 ],  [ left15px : 2 ],  [ ratecontmargintop0 : 2 ],  [ overflowhiddenpositionrelativewidth278pxheight45pxborderbottom1px : 1 ],  [ 팁 : 2 ],  [ border1px : 2 ],  [ txtapp : 1 ],  [ topbnr : 2 ],  [ marginright7px : 1 ],  [ 예쁘다난리야 : 1 ],  [ icow04backgroundposition0 : 1 ],  [ 9px : 6 ],  [ 정우성 : 1 ],  [ bottom8px : 1 ],  [ qafter : 1 ],  [ movieon : 2 ],  [ overflowhiddenpadding4px : 1 ],  [ left260px : 1 ],  [ a5a6acbordertop0 : 1 ],  [ titdaum : 1 ],  [ 소호BEST : 1 ],  [ displayblockheight30px : 1 ],  [ 유지 : 1 ],  [ icosuggest2 : 1 ],  [ btnlogin : 2 ],  [ 자동차 : 2 ],  [ 쇼핑기획전 : 1 ],  [ bottom7px : 1 ],  [ eeeef0backgroundcolorfbfbfb : 1 ],  [ 듯 : 1 ],  [ overflowhiddenwidth201pxmargintop19px : 1 ],  [ 재미없는 : 1 ],  [ 가습기 : 1 ],  [ hide : 1 ],  [ width110pxheight12pxmargin4px : 1 ],  [ 9pxlineheight17px : 1 ],  [ partevent : 33 ],  [ backgroundposition378px : 1 ],  [ wrapshop1 : 1 ],  [ numreader : 1 ],  [ wrapshop3 : 1 ],  [ wrapshop2 : 1 ],  [ wrapshop5 : 1 ],  [ wrapshop4 : 1 ],  [ displayblockwidth40pxheight40pxmargin11px : 1 ],  [ width232pxpaddingright9pxtextaligncenter : 1 ],  [ 스티커 : 1 ],  [ positionabsolutetop45pxleft0width184pxheight220pxpaddingbottom5pxbackgroundcolorfff : 1 ],  [ 을 : 1 ],  [ height555px : 1 ],  [ backgroundurlhttpi1searchdaumcdnnetssearchall2011icoicosuggest20110721gif : 1 ],  [ eaeaea : 1 ],  [ icopushhover : 1 ],  [ titelection : 3 ],  [ appnew : 1 ],  [ 98px : 2 ],  [ 농민 : 2 ],  [ 170pxtextindent9999px : 1 ],  [ 터키 : 1 ],  [ 기필코 : 1 ],  [ logosbswidth24pxheight12pxmargin2px : 1 ],  [ displayinlinefloatleftwidth31pxheight31pxmargin18px : 1 ],  [ copytxt : 1 ],  [ listmall : 3 ],  [ norepeattextindent999em : 1 ],  [ bottom21pxright295px : 1 ],  [ height250px : 1 ],  [ 444backgroundcolorfff : 1 ],  [ 우리나라에도 : 1 ],  [ 다음앱 : 3 ],  [ 이종격투기 : 1 ],  [ wrapblog : 2 ],  [ paddingtop5px : 1 ],  [ spanlinkprogram : 1 ],  [ norepeatcolorffftextaligncenter : 1 ],  [ 뉴스 : 3 ],  [ backgroundurlhttpi1daumcdnnetdecotop2012startblognone20121023png : 1 ],  [ continfodisplayblockheight28pxpaddingtop12pxfontsize0backgroundcolor0047a8textaligncenter : 1 ],  [ 수상한 : 1 ],  [ 1440px : 1 ],  [ verticalreader : 20 ],  [ 할리퀸 : 1 ],  [ floatleftlineheight15px : 1 ],  [ horizontalimg : 12 ],  [ color222 : 2 ],  [ appimport : 2 ],  [ labsecurity : 2 ],  [ 밋밋한 : 1 ],  [ backgroundposition349px : 2 ],  [ 경기 : 2 ],  [ defaultimg : 23 ],  [ overflowhiddenwidth181pxmargintop16pxletterspacing1px : 1 ],  [ txtresultmarginright9pxfontweightbold : 1 ],  [ color5778ff : 1 ],  [ backgroundposition40px : 5 ],  [ wrapsearch : 1 ],  [ 되는 : 1 ],  [ 목록 : 1 ],  [ height44pxmargin0 : 1 ],  [ 옆 : 1 ],  [ LF몰 : 1 ],  [ color3c77eb : 1 ],  [ 19px : 5 ],  [ 425px : 1 ],  [ 4pxlineheight18pxbackgroundurlhttpi1daumcdnnetdecocomicstopdeco2014v2imgdaumvertv9pngv1664 : 1 ],  [ backgroundposition15px : 1 ],  [ 페이지 : 13 ],  [ 4pxfontsize11pxlineheight14pxtextalignleftwhitespacenowraptextoverflowellipsis : 1 ],  [ cafeguisortablehelper : 1 ],  [ displayblockwidth93pxheight27pxmargin15px : 1 ],  [ w26 : 2 ],  [ w27 : 2 ],  [ 960px : 1 ],  [ w25 : 2 ],  [ w22 : 2 ],  [ w23 : 2 ],  [ 0directionltr : 1 ],  [ w21 : 2 ],  [ answer : 2 ],  [ width182pxheight123pxmargin0 : 1 ],  [ w28 : 2 ],  [ w29 : 2 ],  [ relaycenter : 1 ],  [ overflowhiddenwidth776pxpadding13px : 1 ],  [ weathercomp : 30 ],  [ 50px : 3 ],  [ lablogin : 1 ],  [ 79px : 1 ],  [ 인기기획전 : 1 ],  [ 강릉 : 1 ],  [ 표정 : 1 ],  [ displayblockwidth248pxmargin0 : 1 ],  [ displayblockheight22pxlineheight22pxtextaligncentercolor777b80backgroundcolortransparent : 2 ],  [ bnrtype4width132pxheight35pxmargintop5pxpaddingtop8pxbackgroundurlhttpi1daumcdnnetdecocomicstopdeco2014v2electionbgelection2016top4160317gif : 1 ],  [ dbdbdbborderleft1px : 1 ],  [ 박석민 : 1 ],  [ 규현 : 2 ],  [ color25ad8b : 1 ],  [ top135pxleft369pxwidth21pxheight17pxbackgroundposition60px : 1 ],  [ backgroundposition130px : 5 ],  [ icow08backgroundposition0 : 1 ],  [ width278pxmargintop5px : 1 ],  [ floatleftwidth53pxheight20pxfontsize11pxlineheight20pxbackgroundposition170px : 1 ],  [ dee1e6 : 1 ],  [ iconewdisplaynonepositionabsolutetop18pxwidth10pxheight10pxbackgroundposition16px : 1 ],  [ numstatus : 4 ],  [ boxtit : 11 ],  [ linkhome : 3 ],  [ overflowhiddenpositionabsolutebottom14pxleft11pxwidth100pxheight18pxpaddingleft30pxlineheight21pxbackgroundposition0 : 1 ],  [ 844px : 1 ],  [ loginset : 11 ],  [ 실시간 : 2 ],  [ overflowhiddenpositionabsolutetop30pxleft55pxwidth71pxheight87pxtextaligncenter : 1 ],  [ 9위 : 2 ],  [ overflowhiddenwidth280pxheight35pxlineheight15px : 1 ],  [ 진상콤비 : 1 ],  [ floatleftlineheight15pxletterspacing1px : 1 ],  [ 전주 : 1 ],  [ color777 : 1 ],  [ clb : 1 ],  [ todaylink : 8 ],  [ 0fontsize11pxlineheight13pxbackgroundposition0 : 1 ],  [ linkwebfontweightboldfontsize12pxlineheight24pxcolor7b8ba1 : 1 ],  [ d2dbe8letterspacing1px : 1 ],  [ numindex : 3 ],  [ 위험quot : 1 ],  [ 펼치기 : 1 ],  [ positionabsolutetop120pxleft0width280pxheight309pxbackgroundposition0 : 1 ],  [ linkdirect : 1 ],  [ floatrightwidth62pxheight26pxbackgroundposition170px : 1 ],  [ overflowhiddenpaddingtop3px : 1 ],  [ 오늘의 : 5 ],  [ 가장 : 1 ],  [ 운세 : 1 ],  [ repeatxletterspacing1pxclearboth : 1 ],  [ txtthesong : 1 ],  [ 89pxbackgroundurlhttpi1daumcdnnetdecocomicstopdeco2014v2electionbgelection2016top1gif : 1 ],  [ typefstbig : 7 ],  [ 000opacity01filteralphaopacity10 : 1 ],  [ 1226pxletterspacing1px : 1 ],  [ topbnroverflowhiddenwidth653pxborderbottom1px : 1 ],  [ 660px : 4 ],  [ positionabsolutetop0left0zindex1width14pxheight13pxtextindent9999pxcursorpointer : 1 ],  [ 1020px : 1 ],  [ headlayer : 1 ],  [ 450px : 1 ],  [ positionabsolutepaddingright7pxfontsize11pxlineheight14pxbackgroundposition100 : 1 ],  [ 텐데 : 1 ],  [ color262626letterspacing1px : 1 ],  [ 990px : 3 ],  [ webtoonon : 2 ],  [ overflowhiddenwidth278pxpaddingtop31px : 1 ],  [ 비밀번호 : 2 ],  [ 1870px : 1 ],  [ left59pxwidth58pxbackgroundposition60px : 1 ],  [ 기가 : 1 ],  [ backgroundposition290px : 1 ],  [ layerevent : 1 ],  [ 광고 : 1 ],  [ wrapcafe : 2 ],  [ overflowhiddenfloatleftwidth89pxheight64pxmarginright3pxpaddingtop11pxfontweightboldfontsize11pxlineheight12pxbackgroundurlhttpi1daumcdnnetdecocomicstopdeco2014v2bgdaumv9pngv1683 : 1 ],  [ positionabsolutetop30pxleft1pxzindex0width179pxheight87pxbackgroundimageurlhttpi1daumcdnnetdecocomicstopdeco2014v2transparentgif : 1 ],  [ icodisk : 1 ],  [ positionabsolutetop10pxright3pxfontweightnormalfontsize12pxfontfamilyVerdanasansserifcolorfff : 1 ],  [ icomarket : 1 ],  [ 뭔들 : 1 ],  [ displayblockheight100 : 1 ],  [ imgelection2016width11pxheight11pxmargin5px : 1 ],  [ positionabsolutetop34pxleft0height33pxpadding0 : 1 ],  [ left218px : 1 ],  [ txtgap : 1 ],  [ zindex1backgroundcolor4e82eebackgroundposition0 : 1 ],  [ linkbnr2 : 1 ],  [ floatleftwidth13pxheight13pxmarginright3px : 1 ],  [ 0paddingtop4pxfontbold : 1 ],  [ textdecorationunderline : 5 ],  [ 지도 : 3 ],  [ 따로 : 1 ],  [ 신 : 1 ],  [ layerservice : 26 ],  [ txtslash : 3 ],  [ top35px : 1 ],  [ 최근 : 1 ],  [ 172 : 2 ],  [ 광고안내 : 1 ],  [ 때 : 3 ],  [ ddaycontdisplayinlineblockoverflowhidden : 1 ],  [ contmenu : 7 ],  [ top : 1 ],  [ linkphone : 1 ],  [ positionabsolutetop222pxleft214pxzindex103width466pxheight380pxbackgroundurlhttpi1daumcdnnetdecotop2012startpopie620121026png : 1 ],  [ displayinlinecolorfff : 1 ],  [ 넘게 : 1 ],  [ 무조건 : 1 ],  [ inputselecttextareabutton : 1 ],  [ width179pxheight116px : 1 ],  [ displayblockfontsize11pxcolor737373textaligncenterletterspacing1px : 1 ],  [ width100paddingright0fontsize11pxcolorbababa : 1 ],  [ 웹툰 : 4 ],  [ linktithover : 24 ],  [ icoplay : 9 ],  [ 예뻐서 : 1 ],  [ lifloatleftmarginleft13px : 1 ],  [ 1pxborder0 : 3 ],  [ headermainasidearticlefooter : 1 ],  [ 도전했다 : 1 ],  [ 1pxbackgroundcolore8e8e8 : 1 ],  [ backgroundfff : 1 ],  [ minus : 1 ],  [ 67px : 1 ],  [ 인기 : 2 ],  [ e1e1e1borderleft1px : 1 ],  [ width46pxbackgroundposition2px : 1 ],  [ infoevent : 1 ],  [ overflowhiddenpositionabsolutetop19pxright79pxheight25pxbackgroundimageurlhttpi1daumcdnnetdecocomicstopdeco2014v2transparentgiftextindent9999px : 1 ],  [ 650px : 1 ],  [ 7pxcolor000 : 1 ],  [ 링크모음 : 3 ],  [ bottom20pxleft155px : 2 ],  [ 인재채용 : 1 ],  [ width45pxbackgroundposition130px : 1 ],  [ displayinlineblockpositionrelativewidth280pxheight45pxborderbottom1px : 1 ],  [ floatleftpadding0 : 4 ],  [ displayinlineoverflowhiddenfloatleftwidth83pxheight93pxpadding23px : 1 ],  [ 0px : 1 ],  [ margintop9pxlineheight18pxcolor5b5b5b : 1 ],  [ floatleftwidth25pxheight15pxlineheight15pxmargin2px : 1 ],  [ 수액 : 1 ],  [ icosaenuribackgroundposition20px : 1 ],  [ positionrelativewidth181pxpaddingtop22px : 1 ],  [ 6pxborderright1px : 1 ],  [ parttoday : 138 ],  [ 0backgroundposition485px : 1 ],  [ colorg : 11 ],  [ height17pxbackgroundposition0 : 1 ],  [ left212px : 1 ],  [ wraptv : 10 ],  [ 0lineheight15pxbackgroundcolorfff : 1 ],  [ titnews : 4 ],  [ sportson : 2 ],  [ backgroundposition170px : 11 ],  [ 신작 : 1 ],  [ width123px : 1 ],  [ 이성진 : 1 ],  [ 14pxbackgroundposition10px : 1 ],  [ 아닐 : 1 ],  [ 티스토리 : 1 ],  [ titthumb : 1 ],  [ bnrtype6 : 1 ],  [ bnrtype5 : 1 ],  [ numtime5backgroundposition50px : 1 ],  [ bnrtype3 : 1 ],  [ 검색 : 3 ],  [ displayblockoverflowhiddenpositionrelativewidth653pxheight40px : 1 ],  [ 원더우먼 : 1 ],  [ toeaebefbackgroundimagemozlineargradienttop : 1 ],  [ displaynonepadding0 : 1 ],  [ 유엔 : 1 ],  [ marginleft1pxfontnormal : 1 ],  [ cursordefault : 1 ],  [ descthumbhover : 1 ],  [ color2156c0 : 2 ],  [ 아빠 : 1 ],  [ bar : 3 ],  [ 699px : 1 ],  [ listfavorsch : 3 ],  [ titfavor : 3 ],  [ color24adc0 : 1 ],  [ width267pxpadding26px : 1 ],  [ marginleft3pxpaddingleft13pxbackgroundurlhttpi1daumcdnnetimgsrcsearchsearchall2012icoicocomm2120614gif : 1 ],  [ gameon : 2 ],  [ 다비치 : 2 ],  [ icow09backgroundposition0 : 1 ],  [ EPL : 1 ],  [ margintop9pxlineheight19pxcolor757474 : 1 ],  [ floatleftpaddingright4px : 1 ],  [ 100px : 3 ],  [ nummsg : 1 ],  [ titbrunch : 4 ],  [ 닫기 : 2 ],  [ top75pxwidth367pxheight20pxpadding8px : 1 ],  [ displayinlineblockpadding11px : 1 ],  [ best : 3 ],  [ top0right18px : 1 ],  [ layoutpromotion : 2 ],  [ paddingtop16px : 1 ],  [ wrapbestreader : 1 ],  [ 갇혀quot : 1 ],  [ 발자국이 : 1 ],  [ aactive : 1 ],  [ 17pxborder1px : 1 ],  [ linkagora : 7 ],  [ paddingleft46pxbackgroundposition0 : 1 ],  [ newg : 2 ],  [ width13pxbackgroundposition170px : 1 ],  [ inpagain : 1 ],  [ txtlabel : 7 ],  [ top83pxleft365px : 1 ],  [ tiertopexpand : 1 ],  [ 백과사전 : 1 ],  [ 료 : 1 ],  [ marginleft3pxfont12px14px : 2 ],  [ 롯데닷컴 : 2 ],  [ top156pxleft229px : 1 ],  [ tophead : 4 ],  [ 통하지 : 1 ],  [ 난민 : 1 ],  [ 인기있는 : 1 ],  [ teamaway : 1 ],  [ 어학사전 : 1 ],  [ floatleftpositionrelativezindex0width280pxheight120pxbackgroundurlhttpi1daumcdnnetdecocomicstopdeco2014v2bgdaumv9pngv1683 : 1 ],  [ 락싸 : 1 ],  [ linklive : 3 ],  [ left7px : 1 ],  [ width51pxbackgroundposition180px : 1 ],  [ displayblockoverflowhiddenwidth78pxheight16pxmargintop8pxfontweightboldlineheight17pxcolorfffletterspacing1px : 1 ],  [ titbook : 4 ],  [ rolltxt : 1 ],  [ margintop10pxlineheight19pxcolor7c7c7c : 1 ],  [ titentertain : 4 ],  [ displayinlinepaddingleft11pxbackgroundurlhttpi1daumcdnnetdecocomicstopdeco2014v2barplatepngv1102 : 1 ],  [ overflowhiddenwidth271pxmarginleft3pxletterspacing1px : 1 ],  [ 125px : 6 ],  [ displayblockmargintop2pxfontsize11pxcolor262626 : 1 ],  [ 19℃ : 1 ],  [ 200px : 3 ],  [ 3f78dffontsize12pxlineheight17pxfontfamily굴림gulimsansserifbackgroundcolorfff : 1 ],  [ whitespacenowrap : 1 ],  [ linkimghover : 2 ],  [ 영상중계 : 1 ],  [ contsort : 2 ],  [ dotg : 1 ],  [ eventshop : 2 ],  [ 아웃도어 : 1 ],  [ 1pxlineheight14pxverticalaligntopwhitespacenowrap : 1 ],  [ 부상 : 1 ],  [ width21pxbackgroundposition0 : 1 ],  [ left80pxwidth177pxbackgroundposition285px : 1 ],  [ tflogin : 1 ],  [ width188pxheight159pxpadding0 : 1 ],  [ 핸드메이드 : 2 ],  [ 750px : 1 ],  [ favoron : 2 ],  [ 텔레비전 : 2 ],  [ linkservice : 1 ],  [ eaebefbackgroundimagelineargradientto : 1 ],  [ cont : 2 ],  [ floatleftwidth21pxheight23pxmargintop5pxbackgroundposition120px : 1 ],  [ overflowhiddenwidth181pxheight142pxbackgroundurlhttpi1daumcdnnetdecocomicstopdeco2014v2bgweatherpngv1102 : 1 ],  [ pagedaum : 6 ],  [ 연재 : 1 ],  [ d8d9dbborderbottom1px : 1 ],  [ overflowvisiblepositionabsolutetop28pxright0widthauto : 1 ],  [ linkmore : 2 ],  [ 통합 : 1 ],  [ plateg : 13 ],  [ floatleftmargin13px : 2 ],  [ 13pxpaddingright6pxfontsize11pxbackgroundposition100 : 1 ],  [ overflowhiddenpositionabsolutetop0left0height18pxpadding0 : 1 ],  [ linkjoin : 1 ],  [ 0textalignrightletterspacing0 : 1 ],  [ bottom22pxleft265px : 2 ],  [ icoindebackgroundposition60px : 1 ],  [ titmyset : 1 ],  [ 11pxfontsize14pxlineheight17pxwhitespacenowraptextoverflowellipsis : 1 ],  [ 71pxcolor666letterspacing1px : 1 ],  [ quot하산 : 1 ],  [ 180px : 2 ],  [ backgroundcolorfff : 1 ],  [ 9pxlineheight15px : 1 ],  [ 0lineheight15pxbackgroundposition270px : 1 ],  [ icoclip : 1 ],  [ displayblockoverflowhiddenwidth287pxheight77pxpadding15px : 1 ],  [ backgroundposition30px : 2 ],  [ width30px : 1 ],  [ displayblockpositionrelativeheight100px : 1 ],  [ 급증 : 1 ],  [ numelection2016width7pxheight9px : 1 ],  [ paddingleft9pxbackgroundposition4px : 1 ],  [ iconew : 1 ],  [ 추천 : 2 ],  [ ㅈㅊ : 1 ],  [ padding0 : 7 ],  [ left : 2 ],  [ verticalimg : 13 ],  [ icocafehot : 1 ],  [ icofavor : 1 ],  [ shortcutghover : 1 ],  [ layertoday : 50 ],  [ quotes : 1 ],  [ 공간 : 1 ],  [ iconewright11px : 1 ],  [ 32 : 2 ],  [ overflowvisibleheight340px : 1 ],  [ 447px : 1 ],  [ 1pxbackgroundposition145px : 1 ],  [ margintop5pxfontsize11pxcolor878787letterspacing1px : 1 ],  [ 있는 : 1 ],  [ 17pxbackgroundposition100 : 1 ],  [ 3px : 4 ],  [ 379pxcolor5f6876 : 1 ],  [ 패션플러스 : 1 ],  [ 17℃ : 7 ],  [ 필요 : 1 ],  [ 막히네 : 1 ],  [ 경기시간 : 1 ],  [ overflowhiddenpositionabsolutebottom15pxleft11pxwidth100pxheight19pxlineheight23pxbackgroundposition0 : 1 ],  [ titnotice : 1 ],  [ nameuser : 1 ],  [ left224pxbackgroundposition225px : 1 ],  [ 달라졌다quot : 1 ],  [ 공감 : 1 ],  [ txtcont : 7 ],  [ 72pxcolor878787letterspacing1px : 2 ],  [ backgroundposition390px : 1 ],  [ 카카오 : 2 ],  [ 0lineheight18pxbackgroundurlhttpi1daumcdnnetdecocomicstopdeco2014v2btndaumv4pngv1669 : 1 ],  [ txtstockpositionabsoluteleft0top0width10pxheight13px : 1 ],  [ relmy : 1 ],  [ txtinfodisplayinlineblockfontsize12pxcolorfffverticalaligntop : 1 ],  [ suggestBoxreverseType : 2 ],  [ listimgtxt : 13 ],  [ dindex : 7 ],  [ 11pxlineheight18pxbackgroundposition90px : 1 ],  [ btnvideo : 1 ],  [ wrapstoryfunding : 3 ],  [ bnrtype3width147pxheight39pxbackgroundurlhttpi1daumcdnnetdecocomicstopdeco2014v2electionbgelection2016top3gif : 1 ],  [ bookon : 2 ],  [ night : 8 ],  [ backgroundposition100px : 2 ],  [ 2px : 7 ],  [ iconpadbackgroundposition30px : 1 ],  [ 467px : 1 ],  [ linkbnr : 3 ],  [ wrapfun : 1 ],  [ 18℃ : 6 ],  [ btnsearch : 1 ],  [ width75pxbackgroundposition546px : 1 ],  [ displayblockheight12pxpaddingtop7pxfontsize10pxlineheight12pxcolor848484 : 1 ],  [ bodydivdldtddulollih1h2h3h4h5h6precodeformfieldsetlegendtextareapblockquotethtdinputselecttextareabutton : 1 ],  [ btnassay : 1 ],  [ 강된장 : 1 ],  [ displayinlineblockmargin4px : 1 ],  [ 탭 : 10 ],  [ bottom : 2 ],  [ 분당선 : 1 ],  [ top251pxleft370pxwidth20pxheight24pxbackgroundposition15px : 1 ],  [ positionabsolutetop33pxright0width515pxpadding16px : 1 ],  [ txtelectionfloatleftwidth100pxfontsize11pxlineheight24pxcolorfff000 : 1 ],  [ backgroundposition546px : 2 ],  [ msgreset : 1 ],  [ left158px : 1 ],  [ wrapmiznet : 1 ],  [ boxcont : 1 ],  [ displayinlinefloatrightwidth84pxheight15pxmargin14px : 1 ],  [ 0letterspacing1pxcursorpointer : 1 ],  [ wrapelection2016 : 81 ],  [ padding36px : 1 ],  [ descbnrdisplayblockoverflowhiddenpositionabsoluteleft334pxtop14pxwidth250pxfontsize11pxcolorfffletterspacing1pxwhitespacenowraptextoverflowellipsis : 1 ],  [ 0backgroundurlhttpi1daumcdnnetdecocomicstopdeco2014v2bgdaumv9pngv1683 : 1 ],  [ width17pxbackgroundposition93px : 1 ],  [ 및 : 2 ],  [ spetype2 : 6 ],  [ spetype3 : 3 ],  [ spetype1 : 3 ],  [ 송 : 1 ],  [ txtblue : 1 ],  [ 내리든 : 1 ],  [ 셀카 : 1 ],  [ plus : 1 ],  [ 접근성 : 1 ],  [ 546px : 1 ],  [ 1시간 : 1 ],  [ 17pxbackgroundposition0 : 1 ],  [ 20pxtextaligncenter : 1 ],  [ paddingleft50pxbackgroundposition0 : 1 ],  [ 블로그 : 3 ],  [ left460px : 1 ],  [ 계시면 : 1 ],  [ linksvc : 2 ],  [ paddingleft44pxbackgroundposition0 : 1 ],  [ paddingtop25px : 2 ],  [ 조심 : 1 ],  [ imginit : 11 ],  [ news5tabon : 2 ],  [ top0left0width54pxheight41pxbackgroundposition110px : 3 ],  [ 화려한 : 1 ],  [ 89px : 3 ],  [ 1380px : 1 ],  [ 156px : 10 ],  [ 326pxcolor333 : 1 ],  [ color888 : 1 ],  [ cafeon : 2 ],  [ 신규앱 : 1 ],  [ 캠핑용품 : 1 ],  [ noticecafe : 2 ],  [ 6 : 1 ],  [ overflowhiddenwidth278pxheight307pxpaddingtop31pxborder1px : 1 ],  [ 원 : 3 ],  [ displayinlinefloatrightpadding0 : 2 ],  [ color555 : 4 ],  [ 안내 : 2 ],  [ 11pxfontsize12pxlineheight17px : 2 ],  [ 스포츠 : 3 ],  [ 변경 : 1 ],  [ 웹 : 1 ],  [ overflowhiddenwidth659px : 1 ],  [ fontsize20pxlineheight23px : 1 ],  [ 13pxfontsize11pxlineheight14pxcolor959595letterspacing1pxverticalaligntop : 1 ],  [ padding1px : 2 ],  [ left174px : 1 ],  [ listtoday : 9 ],  [ 156 : 2 ],  [ labid : 1 ],  [ top47pxwidth94pxheight16pxpadding5px : 1 ],  [ sectionmedia : 51 ],  [ floatleftcolor5f6876 : 1 ],  [ left53px : 1 ],  [ 66px : 9 ],  [ floatleftwidth13pxheight13pxmargintop1pxbackgroundcolortransparent : 1 ],  [ shop1on : 3 ],  [ titelectionfloatleftwidth97pxheight18pxmargin2px : 1 ],  [ dotted : 1 ],  [ tit : 1 ],  [ 싸악 : 1 ],  [ mystockon : 2 ],  [ 14px : 2 ],  [ headlinespe : 11 ],  [ eaebefbackgroundimageolineargradienttop : 1 ],  [ top81pxleft369px : 1 ],  [ 포인트 : 1 ],  [ labsteady : 1 ],  [ top8pxright8px : 1 ],  [ floatrightlineheight15pxletterspacing1px : 1 ],  [ 087 : 1 ],  [ 서비스약관 : 1 ],  [ fontsize11pxletterspacing1px : 1 ],  [ linkconthover : 3 ],  [ floatleftwidth60pxheight55pxmargin33px : 1 ],  [ shop3on : 3 ],  [ 개인정보 : 1 ],  [ 220px : 4 ],  [ pagetype2 : 12 ],  [ icolive : 1 ],  [ paddingleft12pxbackgroundposition0 : 1 ],  [ fst : 6 ],  [ 옥션 : 1 ],  [ 10pxfontweightboldfontsize12pxcolor0d3679letterspacing1pxtextaligncenterwhitespacenowraptextoverflowellipsis : 1 ],  [ 작은집에도 : 1 ],  [ displayblockoverflowhiddenheight40pxheight63pxpadding12px : 1 ],  [ txtblue2 : 1 ],  [ color6d3fdf : 1 ],  [ linkdaum : 1 ],  [ titauto : 4 ],  [ 675pxcolor7a7c83letterspacing1px : 1 ],  [ footdaum : 12 ],  [ positionabsolutetop64pxleft0width940pxheight64px : 1 ],  [ partspecial : 19 ],  [ displayblockoverflowhiddenheight30pxpaddingtop14pxlineheight15pxtextaligncentercolor5b6473 : 1 ],  [ 순간 : 1 ],  [ show : 1 ],  [ 0 : 237 ],  [ linkhelp : 1 ],  [ 결론 : 1 ],  [ floatleftwidth63pxheight42pxmargin0 : 1 ],  [ eaeaeaborderbottom1px : 1 ],  [ 1250 : 1 ],  [ 36px : 6 ],  [ textdecorationnone : 4 ],  [ 몸매가 : 1 ],  [ 백색가루무해 : 1 ],  [ displayinline : 1 ],  [ 곳 : 1 ],  [ scoregame : 4 ],  [ 인천 : 1 ],  [ 220pxverticalaligntoptextindent9999px : 1 ],  [ timecont : 11 ],  [ innerfoot : 1 ],  [ ahover : 1 ],  [ width42pxbackgroundposition270px : 1 ],  [ 누구나 : 1 ],  [ 77px : 1 ],  [ 전상품세일중 : 1 ],  [ item : 1 ],  [ 11pxbordertop1px : 1 ],  [ 66pxcursordefault : 1 ],  [ continfodisplayblockoverflowhiddenheight27pxpadding12px : 1 ],  [ left110px : 1 ],  [ infomy : 1 ],  [ numissue : 1 ],  [ 베스트100 : 1 ],  [ backgroundposition340px : 2 ],  [ fontfamily굴림gulimsansserifcolor363b4a : 1 ],  [ 천연 : 1 ],  [ numelection2016floatleftwidth11pxheight16px : 1 ],  [ 110pxtextalignrightletterspacing0 : 1 ],  [ 55pxtextindent9999pxcursorpointer : 2 ],  [ 50pxmargintop22pxbackgroundcolorf0f0f0clearboth : 1 ],  [ imgvert : 2 ],  [ 라이프 : 2 ],  [ cad0d9borderleft1px : 1 ],  [ overflowhiddenwidth271pxheight55pxmarginleft7pxpaddingtop6px : 1 ],  [ msgsave : 1 ],  [ width179pxheight95px : 1 ],  [ 하프클럽 : 1 ],  [ 좋아한다면 : 1 ],  [ 안 : 1 ],  [ icow19backgroundposition0 : 1 ],  [ 부동산 : 3 ],  [ 1200px : 1 ],  [ color4559e9 : 2 ],  [ 박명수 : 1 ],  [ 0verticalaligntop : 1 ],  [ msgmyset : 1 ],  [ displaytablecellpositionabsoluteleft0top0width100height100 : 1 ],  [ titgame : 4 ],  [ ratecont : 12 ],  [ 멈춰선 : 1 ],  [ innermain : 1 ],  [ overflowhiddenpositionrelativewidth188pxheight339pxbordertop1px : 2 ],  [ 199px : 1 ],  [ 주요 : 2 ],  [ 중계센터 : 1 ],  [ 손쉽게 : 1 ],  [ zindex1backgroundcolor4e82eebackgroundposition171px : 1 ],  [ rank10 : 1 ],  [ 가운데 : 1 ],  [ linkconthome : 5 ],  [ overflowhiddenpadding5px : 1 ],  [ numtime2backgroundposition50px : 1 ],  [ verticalsong : 17 ],  [ 170px : 1 ],  [ tistoryguisortablehelper : 1 ],  [ clearboth : 1 ],  [ 수원 : 1 ],  [ displayblockmargin6px : 1 ],  [ displayinlineblockwidth280pxheight150pxfontsize0lineheight0verticalaligntop : 1 ],  [ txtdaum : 2 ],  [ 바다향 : 1 ],  [ linksvcmore : 1 ],  [ titsports : 4 ],  [ icow15backgroundposition0 : 1 ],  [ 자숙후 : 1 ],  [ 연예 : 2 ],  [ 32pxfontweightboldbackgroundposition0 : 1 ],  [ 배 : 1 ],  [ 가을 : 1 ],  [ icorecom : 1 ],  [ titinfomarginright10px : 1 ],  [ 35pxcolor444 : 1 ],  [ titconthover : 1 ],  [ width36pxheight13pxmargin0 : 1 ],  [ overflowhiddenwidth653pxheight40px : 1 ],  [ linkelectionfloatleftpaddingtop9pxmarginright14px : 1 ],  [ width181pxheight118px : 1 ],  [ 리틀 : 2 ],  [ 0backgroundcolortransparent : 1 ],  [ 39셰익스피어 : 1 ],  [ listissue : 21 ],  [ 6pxlineheight20pxbackgroundurlhttpi1daumcdnnetdecocomicstopdeco2014v2imgdaumvertv9pngv1664 : 1 ],  [ 우리는 : 2 ],  [ displayinlineblockpositionabsolutetop16pxlineheight15pxverticalaligntop : 1 ],  [ 8위 : 2 ],  [ listdaumapp : 5 ],  [ overflowhiddenbackgroundurlhttpi1daumcdnnetdecocomicstopdeco2014v2btndaumv4pngv1669 : 1 ],  [ wrapfavor : 9 ],  [ textindent9999px : 1 ],  [ Daum : 1 ],  [ topservice : 15 ],  [ 7px : 5 ],  [ txtlivemargintop7pxverticalaligntop : 1 ],  [ 26pxborderbottom1px : 1 ],  [ 29px : 1 ],  [ noneverticalaligntop : 1 ],  [ headdaum : 2 ],  [ 재밌는 : 2 ],  [ uarr : 18 ],  [ tfkeyword : 1 ],  [ 860px : 1 ],  [ overflowhiddenpositionabsolutetop48pxleft95pxwidth13pxheight16pxbackgroundposition0 : 1 ],  [ fontweightbold : 3 ],  [ icosteady : 1 ],  [ margintop14px : 1 ],  [ floatleftpositionrelativewidth427pxpaddingleft25px : 1 ],  [ width54pxbackgroundposition40px : 1 ],  [ positionabsolutebottom2pxleft0width13pxheight13px : 1 ],  [ btnlogout : 1 ],  [ width100pxheight14pxlineheight14pxbackgroundcolortransparentbackgroundposition145px : 1 ],  [ positionrelativecolor383b42 : 1 ],  [ linktitwidth70pxfontsize12pxcolor0d3679letterspacing1px : 1 ],  [ boxlst : 3 ],  [ innertag : 1 ],  [ backgroundurlhttpi1daumcdnnetdecocomicstopdeco2014v2txtdaumv13pngv1687 : 1 ],  [ width31pxbackgroundposition310px : 1 ],  [ titshop5 : 3 ],  [ titshop4 : 3 ],  [ floatright : 2 ],  [ titshop1 : 3 ],  [ abb5bdbordertop0 : 1 ],  [ titshop3 : 3 ],  [ titshop2 : 3 ],  [ overflowhiddenpositionabsoluteleft24pxwidth165pxheight25pxpaddingleft10pxfontsize11pxlineheight26pxcolor96969bletterspacing1pxcursortext : 1 ],  [ displayblockoverflowhiddenheight13pxmarginbottom2pxfontweightboldfontsize11pxlineheight13pxcolor477ae4whitespacenowraptextoverflowellipsis : 1 ],  [ 정보 : 8 ],  [ q : 1 ],  [ imgelection2016floatleftwidth5pxheight5pxmargin5px : 1 ],  [ displayblock : 36 ],  [ linkrecom : 1 ],  [ 1430px : 8 ],  [ 선거캠프서 : 1 ],  [ conttrendshop : 15 ],  [ displayblockoverflowhiddenfloatleftwidth88pxheight34pxmargintop1pxfontsize12pxlineheight18pxletterspacing0 : 1 ],  [ 용이라고 : 1 ],  [ lst : 1 ],  [ rellink : 1 ],  [ e8e8e8lineheight20pxbackgroundcolorfbfbfb : 1 ],  [ 14pxbackgroundposition450px : 1 ],  [ w24 : 2 ],  [ 원달러 : 1 ],  [ floatleftbackgroundposition0 : 1 ],  [ 좋은 : 1 ],  [ txtpso : 1 ],  [ width63pxbackgroundposition401px : 1 ],  [ backgroundcolorf0f0f0 : 1 ],  [ blockquote : 1 ],  [ w20 : 2 ],  [ 7pxbordertopnoneborderbottom1px : 1 ],  [ admaintopad : 1 ],  [ 277pxcolor2c74e0 : 1 ],  [ headlineimg : 12 ],  [ 1140px : 1 ],  [ displayinlineblockpaddingright10pxmargintop11pxbackgroundposition100 : 1 ],  [ cursorpointer : 1 ],  [ 피핀 : 1 ],  [ displayblockoverflowhiddenwidth174pxheight29pxpadding18px : 1 ],  [ icow18backgroundposition0 : 1 ],  [ displayinlineblockwidth2pxheight7pxmargin4px : 1 ],  [ displayinlineblockwidth18pxheight7pxmargin4px : 1 ],  [ 제목 : 22 ],  [ 영상 : 1 ],  [ contthesong : 4 ],  [ displayblockfontsize11pxlineheight14pxcolor878787 : 1 ],  [ 0backgroundposition70px : 1 ],  [ overflowhiddenfloatleftpaddingleft11pxbackgroundurlhttpi1daumcdnnetdecocomicstopdeco2014v2imgdaumvertv9pngv1664 : 1 ],  [ 1165px : 1 ],  [ contshopbest : 37 ],  [ positionabsolutetop0left92pxwidth154pxheight75pxpaddingleft12pxfontsize11pxbackgroundcolorfbfbfbbackgroundposition285px : 1 ],  [ inpsteady : 1 ],  [ 세진 : 1 ],  [ linkthumb : 4 ],  [ G마켓 : 2 ],  [ 점수 : 1 ],  [ 280pxtextaligncenter : 1 ],  [ width28pxbackgroundposition75px : 1 ],  [ numtime3backgroundposition50px : 1 ],  [ 미즈넷 : 2 ],  [ cursornone : 1 ],  [ eaebefbackgroundcolorf9fafbcolor222letterspacing2pxtextaligncentertextdecorationnonewebkitboxshadowinset : 1 ],  [ listgoods : 7 ],  [ 몸으로 : 1 ],  [ 춘천 : 1 ],  [ 65pxtextindent9999px : 1 ],  [ width179pxheight183px : 1 ],  [ 세계지도 : 1 ],  [ backgroundposition605px : 2 ],  [ svcmorelink : 1 ],  [ positionrelativefloatleftwidth92pxheight45pxpadding1px : 1 ],  [ bline : 1 ],  [ 가득 : 1 ],  [ displayblockoverflowhiddenheight28pxwordbreakkeepall : 1 ],  [ 379px : 1 ],  [ width188pxheight283px : 1 ],  [ 쭉빵카페 : 1 ],  [ 이후 : 1 ],  [ backgroundposition401px : 2 ],  [ height249px : 1 ],  [ positionabsolutetop38pxleft0zindex9999width100padding0 : 1 ],  [ 15℃ : 2 ],  [ width224px : 1 ],  [ size : 1 ],  [ displayinlineblockwidth653pxborderbottom1px : 1 ],  [ wrapmycont : 1 ],  [ floatleftwidth280px : 1 ],  [ 아프긴 : 1 ],  [ stocksteady : 2 ],  [ overflowhiddenpositionabsolutetop50pxleft91pxwidth17pxheight14pxbackgroundposition40px : 1 ],  [ 회사소개 : 1 ],  [ white : 1 ],  [ overflowhiddenwidth170pxpadding0 : 1 ],  [ width190pxheight160pxborderbottom1px : 1 ],  [ top61pxheight26pxlineheight28px : 1 ],  [ nonebackgroundcolortransparentcursorpointer : 1 ],  [ floatleftpaddingleft6pxlineheight15pxbackgroundposition0 : 1 ],  [ f3f3f3fontsize11pxfontfamily돋움dotumsansserifbackgroundcolorf8f8f8letterspacing1pxclearboth : 1 ],  [ 보호를 : 1 ],  [ 대전광역시 : 1 ],  [ left132pxwidth101pxbackgroundposition410px : 1 ],  [ colore73923 : 1 ],  [ wraptabcont : 12 ],  [ brunchon : 2 ],  [ btnoff : 3 ],  [ copy : 1 ],  [ 날씨 : 3 ],  [ 10 : 1 ],  [ 12 : 1 ],  [ icow02backgroundposition0 : 2 ],  [ wraptierfixcont : 1 ],  [ 330px : 3 ],  [ 365px : 2 ],  [ eeeef0 : 2 ],  [ e1e1e1borderleft0 : 2 ],  [ icow12backgroundposition0 : 1 ],  [ wraplife : 1 ],  [ icow10backgroundposition0 : 2 ],  [ backgroundposition1px : 1 ],  [ a9abb0bordertop0 : 1 ],  [ 전체보기 : 2 ],  [ 충분해 : 1 ],  [ overflowhiddenbackgroundurlhttpi1daumcdnnetdecocomicstopdeco2014v2icodaumv8pngv1669 : 1 ],  [ contlive2 : 8 ],  [ paddingleft14pxcolor5f6876backgroundposition0 : 1 ],  [ 그것이 : 2 ],  [ displayinlineblockwidth278pxheight562pxborder1px : 1 ],  [ height50px : 1 ],  [ 가 : 1 ],  [ width397pxheight283px : 1 ],  [ floatleftpadding14px : 1 ],  [ height291pxpaddingtop36px : 1 ],  [ 1560px : 1 ],  [ positionabsolutetextindent9999pxcursorpointer : 1 ],  [ 9pxborder1px : 1 ],  [ icotopic : 2 ],  [ 15px : 15 ],  [ numpercentfontweightbold : 1 ],  [ overflowhiddenpositionrelativewidth500pxheight53px : 1 ],  [ a5a6accolor000 : 1 ],  [ overflowhiddenpositionabsolutetop278pxleft139pxwidth188pxheight38pxbackgroundimageurlhttpi1daumcdnnetdecocomicstopdeco2014v2transparentgiftextindent9999px : 1 ],  [ descthumb : 1 ],  [ 7pxpadding1pxbackgroundposition465px : 1 ],  [ webkitappearancenone : 1 ],  [ icog : 1 ],  [ wrapauto : 1 ],  [ icotime : 1 ],  [ overflowhiddenwidth179pxheight87pxbordertop1px : 1 ],  [ 1760px : 1 ],  [ 1위 : 3 ],  [ b5b8bfborderradius12pxfontsize52pxlineheightnormalbackgroundimagewebkitgradientlinear : 1 ],  [ rgba000006 : 1 ],  [ 720px : 1 ],  [ 황우슬혜 : 2 ],  [ height15px : 1 ],  [ txtnotice : 1 ],  [ btnlayer : 2 ],  [ top0left0width54pxheight41pxbackgroundposition55px : 2 ],  [ backgroundposition413px : 2 ],  [ bottom16pxleft416px : 1 ],  [ 227pxcolored5c5e : 1 ],  [ overflowhiddenfloatleftwidth127pxmarginright5pxpaddingleft9px : 1 ],  [ 지역 : 2 ],  [ 소개 : 1 ],  [ floatleftwidth46pxheight25pxmarginright6pxbackgroundposition0 : 1 ],  [ 마이 : 2 ],  [ cad0d9verticalaligntop : 1 ],  [ descstoryhover : 1 ],  [ titfun : 4 ],  [ 현재 : 9 ],  [ wraptip : 10 ],  [ 너무 : 1 ],  [ blogguisortablehelper : 1 ],  [ height62px : 1 ],  [ 20600 : 1 ],  [ margintop7pxlineheight19pxcolor757474 : 1 ],  [ 0font11px : 1 ],  [ btnmmsrelay : 1 ],  [ 0colorfff : 1 ],  [ numdday1backgroundposition0 : 1 ],  [ icocelsius : 1 ],  [ titrealestate : 4 ],  [ marginleft2pxfontsize14pxcolordedede : 1 ],  [ 아이유jpg : 1 ],  [ 눌러주세요 : 22 ],  [ iconewdisplaynone : 2 ],  [ backgroundcolortransparent : 1 ],  [ icomono : 1 ],  [ numrate8backgroundposition25px : 1 ],  [ linklivedisplayblockoverflowhiddenwidth100height40pxfontsize0lineheight0backgroundnorepeat : 1 ],  [ displayblockpadding5px : 1 ],  [ margintop2px : 1 ],  [ colord5d4d8 : 1 ],  [ numtime1width5pxbackgroundposition50px : 1 ],  [ 740pxcolordc287ccursorpointer : 1 ],  [ overflowhiddenheight19pxpadding2px : 1 ],  [ btnlocate : 1 ],  [ 11번가 : 1 ],  [ linktithovercolor0d3679 : 1 ],  [ 49px : 1 ],  [ wrapsub : 3 ],  [ a5a6acborderleft1px : 2 ],  [ displayblockoverflowhiddenpositionrelativewidth280pxheight339pxmargintop5px : 1 ],  [ 880px : 5 ],  [ 60px : 3 ],  [ overflowhiddenwidth188pxpaddingtop10pxbordertop1px : 1 ],  [ edededbackgroundcolorf8f9fa : 1 ],  [ 3 : 1 ],  [ displayblockpositionabsolutetop0left0width280pxpaddingtop120pxtextaligncenter : 1 ],  [ paddingleft14pxbackgroundposition1px : 1 ],  [ 남성시대 : 1 ],  [ titcafe : 4 ],  [ overflowhiddenpositionabsolutewidth0height0lineheight0textindent9999px : 1 ],  [ displayinlinefloatleftwidth358pxheight18pxpadding0margin9px : 1 ],  [ mycontfoot : 1 ],  [ floatleftwidth201px : 1 ],  [ 900pxbackgroundcolortransparenttextindent9999pxverticalaligntop : 1 ],  [ 250px : 5 ],  [ arialbackgroundurlhttpi1searchdaumcdnnetssearchall2011icoicosuggest20110721gif : 1 ],  [ linkcont : 21 ],  [ 곳에 : 1 ],  [ 405px : 1 ],  [ rankcont : 1 ],  [ layoutheadlinevertical : 1 ],  [ 주세요 : 1 ],  [ 다음 : 9 ],  [ 20px : 6 ],  [ backgroundposition180px : 4 ],  [ 방문모술 : 1 ],  [ icow14backgroundposition0 : 1 ],  [ left69px : 1 ],  [ 0lineheight12px : 1 ],  [ positionabsolutetop0right0width940pxheight33pxborderbottom1px : 1 ],  [ d8d9dbverticalaligntop : 1 ],  [ listimg : 22 ],  [ cafeg : 6 ],  [ 210px : 1 ],  [ color : 1 ],  [ top129pxwidth167pxheight23pxpadding9px : 1 ],  [ backgroundposition350px : 1 ],  [ headbnr : 1 ],  [ 205px : 2 ],  [ displayblockfontsize11pxcolor262626 : 1 ],  [ 65 : 2 ],  [ top259pxleft369pxwidth21pxheight17pxbackgroundposition60px : 1 ],  [ listrel : 2 ],  [ linkprivacy : 1 ],  [ width179pxheight116pxborder1px : 2 ],  [ width167pxheight45pxpadding10px : 2 ],  [ contfeature : 3 ],  [ fontsize14pxlineheight22px : 1 ],  [ titthumbhover : 1 ],  [ 그런 : 1 ],  [ floatleftwidth175pxheight144pxpadding15px : 1 ],  [ 더 : 1 ],  [ zindex1backgroundcolor4e82eebackgroundposition117px : 1 ],  [ linkinfo : 1 ],  [ 22pxbackgroundposition0 : 1 ],  [ color3f4145 : 1 ],  [ noticelogout : 1 ],  [ 불꽃으로 : 1 ],  [ titspe : 1 ],  [ 형태의 : 1 ],  [ width940pxmargin0 : 1 ],  [ displayinlinefontsize11pxlineheight13pxcolorec0000 : 1 ],  [ linksvcall : 1 ],  [ border0 : 2 ],  [ numrate5backgroundposition25px : 1 ],  [ 75px : 3 ],  [ 숏터뷰 : 2 ],  [ displayinlineverticalaligntop : 1 ],  [ layersteady : 4 ],  [ margin4px : 2 ],  [ liststylenone : 1 ],  [ floatleftpositionrelativezindex0width266pxmargintop14px : 1 ],  [ width98pxheight50px : 1 ],  [ contspe : 1 ],  [ height375px : 1 ],  [ 유익한 : 2 ],  [ backgroundurlhttpi1daumcdnnetdecocomicstopdeco2014v2bgdaumv9pngv1683 : 1 ],  [ backgroundposition200px : 1 ],  [ overflowhiddenwidth258pxpadding8px : 1 ],  [ icosuggest : 1 ],  [ linkweather : 42 ],  [ btnsave : 1 ],  [ 1620px : 1 ],  [ 분위기를 : 1 ],  [ displayinlineblockcolor5d6273verticalaligntop : 1 ],  [ 20pxbordertop2px : 1 ],  [ 대전 : 1 ],  [ fontsize11pxlineheight16pxcolor676767 : 1 ],  [ 생각보다 : 1 ],  [ 12pxfontweightboldlineheight21pxbackgroundposition210px : 1 ],  [ 230pxtextindent9999px : 1 ],  [ baseBox : 3 ],  [ 89pxcolor777 : 1 ],  [ 251px : 1 ],  [ floatnone : 2 ],  [ 건 : 1 ],  [ overflowhiddenwidth244pxpadding14px : 1 ],  [ floatrightpaddingleft0backgroundnone : 1 ],  [ width29pxbackgroundposition180px : 1 ],  [ fontsize11pxcolor555letterspacing1px : 1 ],  [ btnbefore : 1 ],  [ eeeef0backgroundcolorf7f7f7 : 2 ],  [ positionabsolutetop23pxright39pxheight13pxfontsize11pxlineheight14px : 1 ],  [ txtstate : 1 ],  [ 신세계몰 : 1 ],  [ quot이제는 : 1 ],  [ btncaster : 1 ],  [ top227pxwidth160pxpadding5px : 1 ],  [ 214 : 2 ],  [ overflowhiddenwidth66pxheight74pxfontsize11pxlineheight14pxtextaligncentercolor414141letterspacing1px : 1 ],  [ 100양가죽 : 1 ],  [ displaynone : 5 ],  [ width385pxheight101px : 1 ],  [ color8f8f8ftextdecorationunderline : 1 ],  [ amp9652 : 2 ],  [ eventteam : 1 ],  [ textaligncenter : 1 ],  [ infothumb : 7 ],  [ issuetypetxt : 4 ],  [ icoarrowequal : 1 ],  [ floatleftpadding9px : 1 ],  [ listmainsvc : 3 ],  [ 301pxcolore73923 : 1 ],  [ 바로가기 : 7 ],  [ 1980px : 1 ],  [ backgroundposition310px : 3 ],  [ 검색어 : 1 ],  [ displayblockoverflowhiddenwidth278pxheight80pxmargintop8px : 1 ],  [ displaynonepositionabsolutetop0left0width100backgroundcolor000filteralphaopacity60opacity06 : 1 ],  [ fsttxt : 2 ],  [ wraptvpot : 6 ],  [ top47pxright10px : 1 ],  [ 게임 : 3 ],  [ sectioncontents : 2 ],  [ IP보안 : 2 ],  [ 35px : 1 ],  [ titbestlike : 4 ],  [ linklivehovertextdecorationnone : 1 ],  [ listthumb : 24 ],  [ 자동실행 : 1 ],  [ 제주 : 1 ],  [ overflowhiddenpositionrelativewidth266pxheight61px : 1 ],  [ paddingleft14pxbackgroundurlhttpi1daumcdnnetdecocomicstopdeco2014v2imgdaumvertv9pngv1664 : 1 ],  [ width41pxbackgroundposition50px : 1 ],  [ itemvs : 2 ],  [ 5위 : 2 ],  [ 영화 : 3 ],  [ backgroundposition45px : 1 ],  [ color848585 : 1 ],  [ 청소년보호정책 : 1 ],  [ 우렁이 : 1 ],  [ 어떻게 : 1 ],  [ articledaum : 1 ],  [ titblog : 4 ],  [ btnnext : 5 ],  [ tithope : 4 ],  [ numdday9backgroundposition0 : 1 ],  [ backgroundcolorf8f8f8textdecorationnone : 1 ],  [ left9999px : 1 ],  [ 총 : 6 ],  [ 126px : 22 ],  [ left18px : 1 ],  [ contlive2padding0 : 1 ],  [ 950px : 1 ],  [ top0left0height26pxpadding1px : 1 ],  [ on : 2 ],  [ 20pxfontsize0 : 1 ],  [ marginright5pxbackgroundposition355px : 1 ],  [ outline1px : 1 ],  [ txtdotwidth4pxheight3pxmargintop13pxbackgroundposition25px : 1 ],  [ icopush : 2 ],  [ floatleftwidth24pxheight20pxheight24pxmargin5px : 1 ],  [ backgroundurlhttpi1daumcdnnetdecocomicstopdeco2014v2imgdaumv6pngv1687 : 1 ],  [ or : 1 ],  [ right14px : 1 ],  [ 1100px : 1 ],  [ enteron : 2 ],  [ height416pxpaddingtop43px : 1 ],  [ paddingleft45pxbackgroundposition0 : 1 ],  [ icow16backgroundposition0 : 2 ],  [ displayblockoverflowhiddenheight17pxmarginbottom7pxfontsize14pxlineheight17pxcolor262626whitespacenowraptextoverflowellipsis : 1 ],  [ 다시보기39 : 1 ],  [ displayblockoverflowhiddenwidth278pxheight120px : 1 ],  [ txtarea : 1 ],  [ servicegroup : 1 ],  [ icoarrowdown : 1 ],  [ 4559e9 : 1 ],  [ backgroundposition492px : 2 ],  [ backgroundurlhttpi1daumcdnnetdecocomicstopdeco2014v2imgweatherpngv1102 : 1 ],  [ imgdaum : 3 ],  [ titmovie : 4 ],  [ backgroundposition462px : 2 ],  [ infogame : 1 ],  [ 스토리펀딩 : 3 ],  [ 올리든 : 1 ],  [ top127pxleft370pxwidth20pxheight24pxbackgroundposition15px : 1 ],  [ 80px : 4 ],  [ backgroundposition70px : 1 ],  [ 0textaligncenter : 2 ],  [ shopmall : 1 ],  [ displayblockwidth22pxheight12pxmargin21px : 1 ],  [ bnrtype5width132pxheight18pxmargintop5pxpaddingtop25pxbackgroundurlhttpi1daumcdnnetdecocomicstopdeco2014v2electionbgelection2016top5160317gif : 1 ],  [ 1023 : 1 ],  [ bordertop1px : 2 ],  [ SSGCOM : 1 ],  [ marginleft1pxpaddingleft1pxbackgroundposition97px : 3 ],  [ width399pxheight340pxborderbottom1px : 1 ],  [ height110pxmargin0 : 1 ],  [ 단풍놀이 : 1 ],  [ top6pxleft5pxwidth28pxheight28pxbackgroundposition0 : 1 ],  [ icojusticebackgroundposition40px : 1 ],  [ 협의 : 1 ],  [ 484px : 1 ],  [ mypeopleg : 1 ],  [ padding4px : 1 ],  [ txtlabid : 1 ],  [ wrapbestlike : 5 ],  [ backgroundposition80px : 1 ],  [ displayinlineblockoverflowhiddenwidth18pxheight26pxmargintop4pxfontsize0lineheight0verticalaligntop : 1 ],  [ storyfundingon : 2 ],  [ 재활 : 1 ],  [ bnrtype6width132pxheight18pxmargintop5pxpaddingtop25pxbackgroundurlhttpi1daumcdnnetdecocomicstopdeco2014v2electionbgelection2016top6gif : 1 ],  [ 5 : 1 ],  [ backgroundposition69px : 1 ],  [ positionabsolutetop146pxleft943pxzindex98width57pxheight105pxbackgroundurlhttpi1daumcdnnetdecotop2012logout20121016png : 1 ],  [ screenout : 2 ],  [ overflowhiddenwidth280pxheight344pxfontsize0lineheight0 : 1 ],  [ numdday7backgroundposition0 : 1 ],  [ adstation : 1 ],  [ fontbold : 2 ],  [ stockg : 3 ],  [ backgroundposition60px : 1 ],  [ positionrelativezindex10width279px : 1 ],  [ 아프면 : 1 ],  [ 미디어 : 2 ],  [ servicebottom : 2 ],  [ 0marginleft6pxverticalalignmiddle : 1 ],  [ overflowhiddenwidth278px : 2 ],  [ width250pxheight220pxmarginright24px : 1 ],  [ 2300 : 1 ],  [ width18pxheight17pxbackgroundposition75px : 1 ],  [ 이전 : 7 ],  [ 6pxpadding0fontsize1pxlineheight1pxbackgroundcolore5e5e5 : 1 ],  [ 900px : 1 ],  [ numdday0backgroundposition0 : 1 ],  [ b8bbbfbordertop0 : 1 ],  [ btnpage : 5 ],  [ 18px23px : 1 ],  [ titelectionleft248px : 1 ],  [ displayinlineblockwidth40pxheight23pxmarginright4pxlineheight23pxbackgroundposition35px : 1 ],  [ eaeaed : 2 ],  [ 649pxcolorec2c2fverticalaligntop : 1 ],  [ icow13backgroundposition0 : 2 ],  [ width188pxheight159px : 2 ],  [ numrate6backgroundposition25px : 1 ],  [ overflowhiddenpositionabsolutetop171pxheight30pxfontsize11pxletterspacing1pxtextaligncentertextindent9999px : 1 ],  [ setstart : 1 ],  [ 000outlinewebkitfocusringcolor : 1 ],  [ fontsize14pxcolor000textdecorationnone : 1 ],  [ 14℃ : 1 ],  [ urlhttpi1daumcdnnetdecocomicstopdeco2014v2bgdaumv9pngv1683 : 1 ],  [ width35pxbackgroundposition0 : 1 ],  [ wrapwebtoon : 2 ],  [ 축구하면 : 1 ],  [ 1px : 18 ],  [ overflowhiddenpositionabsolutetop96pxleft0width269pxheight17pxbackgroundurlhttpi1daumcdnnetdecocomicstopdeco2014v2linedotgifv1102 : 1 ],  [ overflowhiddenwidth249pxheight83pxmargin0 : 1 ],  [ 도입되면 : 1 ],  [ 지진 : 1 ],  [ 15pxtextindent9999px : 1 ],  [ teamhome : 1 ],  [ 290px : 20 ],  [ 사람이야 : 1 ],  [ list : 3 ],  [ top7pxright10pxzindex1 : 1 ],  [ fontweightnormalcolorea570a : 1 ],  [ numdday5backgroundposition0 : 1 ],  [ paddingleft1pxbackgroundnone : 1 ],  [ linkmyinfo : 1 ],  [ left429px : 1 ],  [ width53pxbackgroundposition130px : 1 ],  [ 67pxtextindent9999pxcursorpointer : 1 ],  [ height161pxborderbottom0 : 1 ],  [ 여수 : 1 ],  [ 1080px : 1 ],  [ 서거 : 1 ],  [ top83pxleft164px : 1 ],  [ PC조립 : 1 ],  [ lifeon : 2 ],  [ displayinlinemarginleft1pxpaddingleft2pxbackgroundurlhttpi1daumcdnnetdecocomicstopdeco2014v2imgdaumvertv9pngv1664 : 1 ],  [ numdday6backgroundposition0 : 1 ],  [ 40pxtextindent999em : 1 ],  [ top15px : 1 ],  [ 415pxcolor535353textaligncentertextdecorationnoneverticalaligntop : 1 ],  [ height52px : 1 ],  [ contlive : 1 ],  [ bodyh1h2h3h4thtdinputselecttextareabutton : 1 ],  [ 재밌어 : 1 ],  [ numtime6backgroundposition50px : 1 ],  [ floatrightpositionstaticheight17pxpaddingleft12pxbackgroundcolorfff : 1 ],  [ 7년 : 1 ],  [ e8e8e8borderbottom1px : 1 ],  [ 1320px : 4 ],  [ strong : 1 ],  [ marginright0backgroundposition455px : 1 ],  [ contg : 8 ],  [ titlife : 4 ],  [ displayinlineblockverticalaligntop : 1 ],  [ fwb : 1 ],  [ top148pxwidth216pxheight21pxfontsize12pxlineheight15pxpadding9px : 1 ],  [ adrightbtm : 3 ],  [ positionabsolutebottom0left0width515pxheight31pxbackgroundcolorf4f5f7 : 1 ],  [ 2pxcolorddd : 1 ],  [ floatleftwidth85pxpaddingleft16pxlineheight16px : 1 ],  [ paddingleft0backgroundnone : 1 ],  [ 공식석상 : 1 ],  [ 붙여봐 : 1 ],  [ 18px20px : 1 ],  [ icow11backgroundposition0 : 1 ],  [ 상 : 1 ],  [ height24pxmargintop1px : 1 ],  [ urlhttpi1searchdaumcdnnetssearchall2013bgbgfootergif : 1 ],  [ innercontfloatright : 1 ],  [ Europa : 1 ],  [ backgroundnone : 1 ],  [ fontfamilytahomasansserif : 1 ],  [ 1248pxverticalaligntop : 1 ],  [ floatleftheight19pxpaddingleft7pxcolorfffbackgroundposition0 : 1 ],  [ Corp : 1 ],  [ 쇼핑 : 4 ],  [ 백남기 : 2 ],  [ titnews5tab : 3 ],  [ titsort : 1 ],  [ overflowhiddenpositionabsoluteright12pxbottom10pxheight14pxfontsize11pxlineheight14pxcolor777letterspacing1px : 1 ],  [ txtnum : 7 ],  [ overflowhiddenwidth203pxheight18pxmargin14px : 1 ],  [ txtfortune : 1 ],  [ 13pxlineheight18px : 1 ],  [ wrapmain : 7 ],  [ bottom15pxleft208px : 1 ],  [ overflowhiddenwidth278pxheight273pxbordertop1px : 1 ],  [ 관련 : 2 ],  [ icow04 : 1 ],  [ icow05 : 1 ],  [ icow06 : 1 ],  [ icow07 : 1 ],  [ icow01 : 1 ],  [ icow02 : 1 ],  [ icow03 : 1 ],  [ imgweather : 2 ],  [ icow08 : 1 ],  [ icow09 : 1 ],  [ irwa : 1 ],  [ none : 10 ],  [ 0fontsize11pxlineheight14pxcolor5b6473letterspacing1px : 1 ],  [ mysvclist : 1 ],  [ 10pxbackgroundposition20px : 1 ],  [ icodownbackgroundposition0 : 1 ],  [ urlhttpi1daumcdnnetdecocomicstopdeco2014v2bgtopbargifv1102 : 1 ],  [ displayblockfloatleftmarginright8px : 1 ],  [ color4559e9textdecorationunderline : 4 ],  [ width180pxheight100px : 1 ],  [ 제휴문의 : 1 ],  [ shop4on : 3 ],  [ floatleftmargin5px : 1 ],  [ num4 : 2 ],  [ num5 : 1 ],  [ num6 : 1 ],  [ num7 : 1 ],  [ num0 : 1 ],  [ num1 : 4 ],  [ num2 : 3 ],  [ num3 : 3 ],  [ num8 : 1 ],  [ num9 : 1 ],  [ displayblockmargintop4pxfontsize11pxcolor959595letterspacing1px : 1 ],  [ arialcolor000 : 1 ],  [ 155pxtextaligncenter : 1 ],  [ overflowhiddenwidth161pxheight21pxmarginright10pxpadding7px : 1 ],  [ tvon : 2 ],  [ positionabsolutetop283pxright9pxwidth19pxheight17pxbackgroundposition225px : 1 ],  [ txtnum4 : 1 ],  [ txtnum3 : 1 ],  [ txtnum2 : 1 ],  [ txtnum1 : 1 ],  [ 흘렸을 : 1 ],  [ blogon : 2 ],  [ txtstock : 1 ],  [ linkdaumapp : 1 ],  [ tahomacolor000 : 1 ],  [ rgba000006boxshadowinset : 1 ],  [ 카페 : 4 ],  [ 아이디 : 2 ],  [ fr : 1 ],  [ 4pxcolor444 : 1 ],  [ 0border1px : 1 ],  [ loginsimple : 5 ],  [ cad0d9 : 1 ],  [ logininp : 9 ],  [ a5a6ac : 1 ],  [ floatleftwidth100margintop8pxlineheight19pxcolor757474clearboth : 1 ],  [ wrapdaum : 1 ],  [ floatleftmargin19px : 1 ],  [ 600px : 3 ],  [ fl : 2 ],  [ width58pxheight48px : 1 ],  [ a : 3 ],  [ width190pxheight340pxborderbottom1px : 1 ],  [ width100pxheight52px : 1 ],  [ footer : 10 ],  [ daumContent : 1 ],  [ 609px : 1 ],  [ sortservice : 8 ],  [ 병원에서 : 1 ],  [ 0color5b6473 : 1 ],  [ numprice : 4 ],  [ 친구들환호성 : 1 ],  [ iconewdisplayblock : 1 ],  [ 현위치 : 1 ],  [ width410pxheight161px : 1 ],  [ fff : 5 ],  [ width53pxbackgroundposition0 : 1 ],  [ backgroundposition185px : 7 ],  [ icow17backgroundposition0 : 1 ],  [ 대구 : 1 ],  [ 상품 : 1 ],  [ 쇼핑몰 : 1 ],  [ color9b01bc : 1 ],  [ floatleft : 12 ],  [ 토요일 : 1 ],  [ 8pxlineheight15pxcolorfc6870letterspacing1px : 1 ],  [ ellipsisg : 3 ],  [ 관리 : 1 ],  [ 220pxletterspacing1px : 1 ],  [ uisortablehelper : 1 ],  [ top191pxheight39px : 1 ],  [ breakingnews : 4 ],  [ overflowhiddenpositionrelativewidth263pxheight55pxmargin21px : 1 ],  [ overflowhiddenfloatrightwidth138pxheight112pxlineheight100pxtextaligncenter : 1 ],  [ rankissue : 1 ],  [ floatleftmargin2px : 1 ],  [ 6위 : 2 ],  [ backgroundurlhttpi1daumcdnnetdecocomicstopdeco2014v2imgdaumvertv9pngv1664 : 1 ],  [ ㄱㄹ : 1 ],  [ searchon : 1 ],  [ top47pxwidth106pxheight17pxpadding4px : 1 ],  [ left116pxbackgroundposition117px : 1 ],  [ linksetpage : 1 ],  [ hopeon : 2 ],  [ 0lineheight15pxtextaligncenter : 1 ],  [ overflowhiddenwidth515pxpaddingbottom12pxbackgroundurlhttpi1daumcdnneticon2013topmorelayerbglinev2gif : 1 ],  [ floatleftwidth655pxheight120pxmarginright5px : 1 ],  [ backgroundposition110px : 2 ],  [ 주사 : 1 ],  [ wrapbrunch : 2 ],  [ ddaycont : 12 ],  [ listuser : 11 ],  [ 보이네 : 1 ],  [ overflowhidden : 3 ],  [ 회원가입 : 1 ],  [ 7 : 1 ],  [ noticeblog : 2 ],  [ wrapbook : 4 ],  [ 4px : 9 ],  [ color196adb : 1 ],  [ 0backgroundposition0 : 2 ],  [ displayblockoverflowhiddenwidth188pxpadding8px : 1 ],  [ txttv : 1 ],  [ mypeopleguisortablehelper : 1 ],  [ width42pxbackgroundposition170px : 1 ],  [ wraphope : 3 ],  [ floatleftpadding1px : 1 ],  [ 이메일 : 1 ],  [ iconext : 2 ],  [ icoarrowup : 1 ],  [ 507px : 1 ],  [ width397pxheight159px : 1 ],  [ 1분쇼핑 : 1 ],  [ 0color222letterspacing1px : 1 ],  [ 날짜 : 1 ],  [ fontsize11pxcolor555lineheight15pxletterspacing1px : 1 ],  [ 의도한 : 1 ],  [ left224px : 1 ],  [ linkthesong : 3 ],  [ tfkeywordwebkitsearchcancelbutton : 1 ],  [ layertop : 3 ],  [ floatleftwidth9pxbackgroundcolortransparent : 1 ],  [ zindex10backgroundposition0 : 1 ],  [ displayblockwidth13pxheight25pxfontsize0lineheight0textindent9999px : 1 ],  [ 23px : 1 ],  [ verticalalignmiddle : 1 ],  [ displayblockoverflowhiddenwidth46pxheight18pxmargin57px : 1 ],  [ txtprice : 1 ],  [ overflowhiddenfloatleftheight33pxfontweightboldlineheight35pxpadding0 : 1 ],  [ displayblockmargintop1pxfontsize11pxcolor737373letterspacing1px : 1 ],  [ wrapdaumapp : 1 ],  [ backgroundposition135px : 2 ],  [ overflowhiddenpositionrelativewidth628pxheight597pxpadding37px : 1 ],  [ 18pxborder1px : 1 ],  [ 390px : 1 ],  [ nonezindex1 : 1 ],  [ icoup : 1 ],  [ 파리 : 1 ],  [ displayinlinefontsize13pxcolor000 : 1 ],  [ 15pxpaddingtop5pxfontsize11pxlineheight16pxcolor7b7b7bletterspacing1pxwhitespacenormal : 1 ],  [ titinfodisplayinlineblockmarginright11pxfontsize12pxcolorfff000 : 1 ],  [ displayblockfloatleftwidth32pxheight32pxbackgroundposition120px : 1 ],  [ CJ몰 : 1 ],  [ layoutheadlinet2 : 1 ],  [ borderright1px : 1 ],  [ e1e1e1backgroundcolorfbfbfb : 2 ],  [ 메모리스트 : 2 ],  [ paddingleft48pxbackgroundposition0 : 2 ],  [ 247px : 1 ],  [ tfpw : 1 ],  [ backgroundposition215px : 2 ],  [ width278pxheight337px : 1 ],  [ numrate7backgroundposition25px : 1 ],  [ 중고차 : 1 ],  [ 부산 : 2 ],  [ color454545 : 1 ],  [ icow13 : 1 ],  [ icow12 : 1 ],  [ icow11 : 1 ],  [ icow10 : 1 ],  [ icow17 : 1 ],  [ icow16 : 1 ],  [ icow15 : 1 ],  [ icow14 : 1 ],  [ ageg : 1 ],  [ 광주 : 1 ],  [ icow18 : 1 ],  [ 0colorfffletterspacing1pxtextdecorationnonecursorpointer : 1 ],  [ 무 : 1 ],  [ overflowhiddenfloatleftpositionrelativewidth52pxheight53px : 1 ],  [ 15pxbackgroundposition170px : 1 ],  [ 전 : 22 ],  [ 열심히 : 1 ],  [ 이어 : 1 ],  [ numrate4width12pxbackgroundposition24px : 1 ],  [ imgbnrtagmargin1px : 1 ],  [ findpw : 1 ],  [ w41 : 2 ],  [ txtred : 1 ],  [ txtstory : 2 ],  [ spiritdaum : 2 ],  [ mysetbtn : 1 ],  [ 77 : 2 ],  [ dsch : 6 ],  [ blockquoteafterqbefore : 1 ],  [ overflowhiddenpositionrelativewidth181pxheight120pxmargintop14px : 1 ],  [ 120px : 2 ],  [ 위치기반서비스 : 1 ],  [ 145px : 5 ],  [ funon : 2 ],  [ nonefontsize11pxfontfamily돋움dotumsansserifbackgroundf8f8f8 : 1 ],  [ shortcutgfocus : 1 ],  [ 뉴스홈 : 1 ],  [ 98pxtextdecorationnone : 1 ],  [ paddingleft39pxbackgroundposition0 : 2 ],  [ linkagorahover : 1 ],  [ 3위 : 3 ],  [ imgmobileweb : 1 ],  [ norepeat : 36 ],  [ displayinlinefloatright : 1 ],  [ paddingleft42pxbackgroundposition0 : 1 ],  [ numelection2016width11pxheight16px : 1 ],  [ platebestlike : 1 ],  [ psogame : 3 ],  [ 22px : 2 ],  [ layoutvertical : 2 ],  [ width248pxheight176px : 1 ],  [ backgroundposition105px : 2 ],  [ 8 : 1 ],  [ overflowhiddenpositionrelativeheight17pxmargintop5pxlineheight17pxfontfamily굴림gulimsansserif : 1 ],  [ floatrightpositionrelative : 1 ],  [ backgroundposition270px : 2 ],  [ color676767 : 1 ],  [ tipon : 2 ],  [ tittip : 2 ],  [ top7pxleft7pxwidth45pxheight45pxbackgroundposition30px : 1 ],  [ checkoff : 1 ],  [ backgroundposition50px : 4 ],  [ 2 : 1 ],  [ fontweightnormal : 3 ],  [ 나의 : 1 ],  [ txtagora : 2 ],  [ 기술 : 1 ],  [ width12pxheight13pxpaddingright14pxbackgroundpositionright : 1 ],  [ 대 : 2 ],  [ 겨울까지쭉 : 1 ],  [ 0padding0 : 1 ],  [ fontfamily돋움dotumhelveticasansserifcolor557df6 : 1 ],  [ suggestexact : 37 ],  [ paddingtop7px : 2 ],  [ listmenuoverflowhiddenmargintop8px : 1 ],  [ 246px : 1 ],  [ inputwebkitautofill : 1 ],  [ listbasis : 6 ],  [ 거짓말은 : 1 ],  [ 웹접근성안내 : 1 ],  [ 55px : 9 ],  [ displayinlineblockpaddingleft8pxfontweightboldfontsize10pxlineheight10pxfontfamilytahomasansserif : 1 ],  [ 위해 : 1 ],  [ txtexact : 1 ],  [ contsub : 1 ],  [ 웅장하고 : 1 ],  [ ddaycontdisplaynone : 1 ],  [ displayinlineblockmargin13px : 1 ],  [ 이즈 : 1 ],  [ 360px : 1 ],  [ contthumb : 1 ],  [ backgroundposition120px : 2 ],  [ headlinetxt : 5 ],  [ 눈물 : 1 ],  [ 797px : 1 ],  [ icolabel : 2 ],  [ 용이 : 1 ],  [ displayblockoverflowhiddenheight30pxmargin1pxfontweightnormalfontsize12pxlineheight33pxfontfamily굴림gulimsansseriftextaligncentertextdecorationnonecolor000letterspacing1px : 1 ],  [ titthesong : 3 ],  [ numrate1width9pxbackgroundposition25px : 1 ],  [ inputmsclear : 1 ],  [ width8pxheight8pxmargin13px : 1 ],  [ 브런치 : 3 ],  [ overflowhiddenpositionrelativewidth200px : 1 ],  [ color303030textdecorationnone : 1 ],  [ 메일 : 1 ],  [ width44pxbackgroundposition25px : 1 ],  [ btnend : 1 ],  [ 헤지스전상품 : 1 ],  [ displayinlinefloatleftwidth177pxheight54pxmargin33px : 1 ],  [ listmenu : 1 ],  [ timethesong : 3 ],  [ 울산 : 1 ],  [ displayinlinepadding0 : 1 ],  [ linkcopy : 1 ],  [ margintop12pxpaddingleft17pxbackgroundposition1px : 1 ],  [ 오래 : 1 ],  [ titstoryhover : 1 ],  [ paddingleft19pxbackgroundposition3px : 1 ],  [ icodown : 1 ],  [ numtime7backgroundposition50px : 1 ],  [ addresscaptioncitecodedfnemvar : 1 ],  [ displayblockoverflowhiddenpositionrelative : 1 ],  [ offSuggest : 1 ],  [ 3pxletterspacing1px : 1 ],  [ 조금 : 1 ],  [ linktotalsvc : 1 ],  [ 285px : 7 ],  [ noticedaum : 18 ],  [ fontsize11pxfontfamilytahomasansserifcolor4c4c4c : 1 ],  [ 먹을 : 1 ],  [ 20pxborder1px : 1 ],  [ 780px : 1 ],  [ 15pxverticalaligntoptextindent9999px : 1 ],  [ dotum돋움sansserifcolor000 : 1 ],  [ displayblockwidth26pxheight15pxmargintop4pxbackgroundposition0 : 1 ],  [ overflowhiddenfloatleftwidth279pxheight21pxpaddingleft17pxlineheight21pxwhitespacenowrap : 1 ],  [ btning : 1 ],  [ 0letterspacing1pxwhitespacenowrap : 1 ],  [ GS샵 : 1 ],  [ numtime9backgroundposition50px : 1 ],  [ 16px : 3 ],  [ width149pxmarginright5pxpadding1px : 1 ],  [ 흐림 : 1 ],  [ height79px : 1 ],  [ solid : 59 ],  [ 백령 : 1 ],  [ left87px : 1 ],  [ stocktoday : 10 ],  [ 709 : 1 ],  [ displayinlineblockmarginright4pxpaddingright8pxfontweightboldbackgroundposition100 : 1 ],  [ fieldsetimg : 1 ],  [ height25pxpadding43px : 1 ],  [ overflowhiddenpositionabsolutetop19pxright20pxwidth54pxheight25pxbackgroundimageurlhttpi1daumcdnnetdecocomicstopdeco2014v2transparentgiftextindent9999px : 1 ],  [ linklivefloatleftwidth237pxheight16pxmargintop12px : 1 ],  [ guide : 1 ],  [ appintro : 7 ],  [ floatrightpadding11px : 1 ],  [ infopage : 7 ],  [ eeeef0verticalaligntop : 1 ],  [ recomshop : 3 ],  [ layerie6 : 6 ],  [ positionabsolutetop0left0zindex102width100 : 1 ],  [ 가져오기 : 22 ],  [ 헬스로 : 1 ],  [ backgroundurlhttpicondaumcdnnetwc130219696439712097703png : 1 ],  [ displayinlineblockheight14pxmargintop14pxlineheight14pxverticalaligntopwhitespacenowrap : 1 ],  [ contimport : 1 ],  [ positionabsolutetop60pxwidth13pxheight25px : 1 ],  [ 이리 : 1 ],  [ icow07backgroundposition0 : 1 ],  [ displayblockheight40pxmargintop7pxpaddingleft17pxbackgroundposition1px : 1 ],  [ positionabsoluteright4pxbottom3pxwidth13pxheight13pxborder0 : 1 ],  [ floatleftheight23pxpadding10px : 2 ],  [ linkimg : 2 ],  [ headevent : 2 ],  [ 더보기 : 1 ],  [ 1pxtextindent9999px : 1 ],  [ icoreader : 1 ],  [ width46pxbackgroundposition40px : 1 ],  [ width16pxheight15pxlineheight18pxbackgroundposition70px : 1 ],  [ width28pxbackgroundposition145px : 1 ],  [ 블로거 : 1 ],  [ btnrecord : 1 ],  [ paddingleft5pxlineheight12pxbackgroundnone : 1 ],  [ 사용해 : 1 ],  [ 아고라 : 2 ],  [ width75pxheight75pxopacity005 : 1 ],  [ width167pxheight143pxpadding16px : 1 ],  [ 770px : 1 ],  [ 217px : 1 ],  [ backgroundposition541px : 2 ],  [ 10pxfontsize11pxlineheight14pxfontfamily돋움dotumhelveticasansserifcolor666 : 1 ],  [ paddingleft41pxbackgroundposition0 : 5 ],  [ titevent : 1 ],  [ 13pxlineheight15pxwhitespacenowraptextoverflowellipsis : 1 ],  [ 95px : 3 ],  [ backgroundposition85px : 1 ],  [ left61px : 1 ],  [ 15pxlineheight13pxwhitespacenowrap : 1 ],  [ bottom23pxleft370px : 1 ],  [ displayblockwidth130px : 1 ],  [ titwebtoon : 4 ],  [ icogivehover : 1 ],  [ icow01backgroundposition0 : 2 ],  [ displayblockoverflowhiddenpadding25px : 1 ],  [ readersinfo : 4 ],  [ PC에서만 : 1 ],  [ numrate0width12pxbackgroundposition24px : 1 ],  [ 25pxbackgroundcolordce7f6 : 1 ],  [ noticestart : 2 ],  [ itemhover : 1 ],  [ 프로방스 : 1 ],  [ 142321 : 1 ],  [ wrapnews : 1 ],  [ w40 : 2 ],  [ 이유 : 1 ],  [ 1pxbackgroundcolore1e1e1 : 2 ],  [ boxuser : 11 ],  [ left16px : 1 ],  [ wrapmysvc : 1 ],  [ e1e1e1cursorpointer : 1 ],  [ displayinlineblockheight23pxpadding10px : 1 ],  [ btnclose : 7 ],  [ positionrelativeheight103px : 1 ],  [ 매물은 : 1 ],  [ numdday4backgroundposition0 : 1 ],  [ 책 : 2 ],  [ 만화홈 : 1 ],  [ emphtxt : 1 ],  [ fontsize12pxcolor000textdecorationnone : 1 ],  [ positionrelativewidth100zindex101 : 1 ],  [ quot5분 : 1 ],  [ listmyset : 15 ],  [ autoon : 2 ],  [ 왜 : 1 ],  [ 아스널 : 1 ],  [ 15분 : 1 ],  [ txtred2 : 1 ],  [ overflowhiddenzindex0width280pxheight143px : 1 ],  [ icophoto : 7 ],  [ 105px : 1 ],  [ backgroundposition150px : 3 ],  [ linkheadbnr : 1 ],  [ 114100 : 1 ],  [ 12px18px : 1 ],  [ 무장 : 1 ],  [ 쇼핑홈 : 1 ],  [ color6f6f6f : 1 ],  [ 울릉독도 : 1 ],  [ 8px : 8 ],  [ num10 : 1 ],  [ wrapnews5tab : 1 ],  [ bottom16pxleft209px : 1 ],  [ height43pxpaddingtop12px : 2 ],  [ 권은 : 1 ],  [ frameg : 23 ],  [ width940pxmargin4px : 1 ],  [ 3f4243fontsize11pxlineheight14pxbackgroundcolor26292acolorfffletterspacing1pxtextaligncenter : 1 ],  [ fontsize12pxlineheight15fontfamily돋움dotumsansserifcolor333 : 1 ],  [ newslink : 1 ],  [ tittvpot : 4 ],  [ txtmyset : 1 ],  [ 쇼핑도움 : 1 ],  [ icodaum : 4 ],  [ span : 1 ],  [ 신뢰성은 : 1 ],  [ positionabsolute : 2 ],  [ iconationbackgroundposition50px : 1 ],  [ contstory : 46 ],  [ dbdbdbbackgroundcolorf7f7f7letterspacing1px : 1 ],  [ width70pxheight101pxmargin7px : 1 ],  [ 좀 : 1 ],  [ 8pxfontsize11pxlineheight12pxcolorb3c4dd : 1 ],  [ 165px : 1 ],  [ 아주머니 : 1 ],  [ 소호 : 1 ],  [ 96px : 5 ],  [ txtvs : 1 ],  [ 포토 : 1 ],  [ line : 2 ],  [ linkbasis : 2 ],  [ 다음웹툰 : 1 ],  [ icoevent : 1 ],  [ mycafeon : 3 ],  [ zindex1backgroundcolor4e82eebackgroundposition60px : 1 ],  [ positionrelativemarginright90pxclearboth : 1 ],  [ dotum돋움sansserifcolora1a1a1 : 1 ],  [ cacbce : 1 ],  [ numdday2backgroundposition0 : 1 ],  [ margintop3px : 2 ],  [ 170pxtextaligncenter : 1 ],  [ bigimg : 6 ],  [ wraptiertop : 2 ],  [ d0377bfontsize12pxcolorffflineheight28pxbackgroundcolore03d86textindent0 : 1 ],  [ fontsize12px : 1 ],  [ wrapelection2016overflowhiddenwidth653pxletterspacing1px : 1 ],  [ 코트가30darr : 1 ],  [ floatrightmargin25px : 1 ],  [ positionabsolutetop0left22pxfontsize11pxlineheight14pxletterspacing1px : 1 ],  [ 걸까 : 1 ],  [ 오늘 : 1 ],  [ shortcutg : 2 ],  [ marginright6pxwidth15pxbackgroundposition425px : 1 ],  [ 방금그곡 : 1 ],  [ TV : 2 ],  [ 13pxletterspacing1px : 1 ],  [ marginright8px : 1 ],  [ 숙면이필요해 : 1 ],  [ 상승 : 20 ],  [ wrapentertain : 2 ],  [ 뭐야 : 1 ],  [ msgerror : 1 ],  [ top0left0width54pxheight41pxbackgroundposition0 : 2 ],  [ labagain : 1 ],  [ 참 : 1 ],  [ floatleftmaxwidth117pxwidth117pxmargintop5pxfontsize14px : 1 ],  [ 0border2px : 1 ],  [ tit5 : 1 ],  [ tit4 : 1 ],  [ displayblockwordbreakkeepall : 2 ],  [ 550px : 1 ],  [ tit1 : 1 ],  [ 505px : 1 ],  [ tit3 : 1 ],  [ tit2 : 1 ],  [ numrate2backgroundposition25px : 1 ],  [ gt : 4 ],  [ 관절 : 1 ],  [ 이슈 : 2 ],  [ contshop : 29 ],  [ 9pxheight21pxlineheight21px : 1 ],  [ overflowhiddenfloatleftwidth282pxheight112pxtextaligncenter : 1 ],  [ shortcutgactive : 2 ],  [ 8pxlineheight15pxwhitespacenowrap : 1 ],  [ left133px : 1 ],  [ tv팟 : 3 ],  [ dlulolmenuli : 1 ],  [ overflowhiddenwidth100padding10px : 1 ],  [ displayinlineblockmarginright6pxheight11pxfontsize10pxlineheight11pxverticalaligntop : 1 ],  [ 25px : 10 ],  [ daumSuggestWrap : 1 ],  [ positionabsolutetop0left0width36pxheight20pxbackgroundposition80px : 1 ],  [ defaulttxt : 10 ],  [ backgroundposition2px : 2 ],  [ margintop11px : 1 ],  [ txtissue : 2 ],  [ left1pxtop1pxpadding0 : 1 ],  [ 고객센터 : 1 ],  [ DOTAX : 1 ],  [ backgroundposition75px : 1 ],  [ 물들었다 : 1 ],  [ 420px : 2 ],  [ button : 1 ],  [ 110px : 6 ],  [ continfo : 4 ],  [ bgdaum : 1 ],  [ paddingleft47pxbackgroundposition0 : 3 ],  [ todayopen : 2 ],  [ width70pxheight14pxlineheight14pxbackgroundcolortransparentbackgroundposition10px : 1 ],  [ 562px : 1 ],  [ 쌈밥 : 1 ],  [ positionrelativedisplayblockheight100pxborder1px : 1 ],  [ contseat : 8 ],  [ 입김 : 1 ],  [ fontweightnormalcolore5333d : 1 ],  [ Kakao : 1 ],  [ floatleftmarginright2px : 1 ],  [ 135px : 1 ],  [ infotemper : 15 ],  [ backgroundposition13px : 41 ],  [ numbasis : 1 ],  [ 6pxlineheight16pxcolor262626 : 1 ],  [ issuetypeimg : 3 ],  [ wrapcont : 1 ],  [ continventory : 1 ],  [ left80pxwidth120pxbackgroundposition285px : 1 ],  [ displayblockoverflowhiddenpositionrelativezindex1width100height100 : 1 ],  [ 전일대비 : 2 ],  [ displayblockcursorpointer : 1 ],  [ margin0padding0 : 1 ],  [ 공수모 : 1 ],  [ body : 1 ],  [ positionabsolutetop0left0border1px : 1 ],  [ width620pxheight161px : 1 ],  [ 펠트지로 : 1 ],  [ tistoryg : 1 ],  [ listmysvc : 12 ],  [ linkkakao : 1 ],  [ floatleftwidth230pxmarginright17px : 1 ],  [ typepso : 2 ],  [ topautobottom62pxleft166px : 1 ],  [ wraptoday : 3 ],  [ overflowhiddenwidth922pxpadding11px : 1 ],  [ fontstylenormalfontweightnormal : 1 ],  [ 840px : 2 ],  [ titedu : 4 ],  [ displayinlineblockwidth627pxpaddingright1pxverticalaligntop : 1 ],  [ 18px : 1 ],  [ txtmysvcdisplayinlineblockpadding1px : 1 ],  [ 10pxcolor555 : 1 ],  [ txtbardisplayinlineblockmargin0 : 1 ],  [ innershortcut : 1 ],  [ repeatx : 2 ],  [ overflowhiddenpositionabsoluteleft0fontsize12pxbackgroundposition20px : 1 ],  [ wrapsports : 2 ],  [ innertxt : 1 ],  [ 397ce0fontsize11pxlineheight20pxbackgroundcolor3f8af9textalignleftcolorfffletterspacing1pxtextdecorationnonecursorpointer : 1 ],  [ bgframe : 1 ],  [ paddingleft51pxbackgroundurlhttpi1searchdaumcdnnetssearchall2014icoicoweathersize3gif : 1 ],  [ 195pxtextindent160px : 1 ],  [ 11pxbackgroundposition0 : 1 ],  [ marginright4pxfontbold : 1 ],  [ descstory : 8 ],  [ ㅋㅎ : 1 ],  [ 저 : 1 ],  [ listpolicy : 6 ],  [ 모바일 : 1 ],  [ 금융 : 1 ],  [ floatleftwidth32pxheight21pxlineheight23pxbackgroundcolortransparent : 1 ],  [ num20 : 1 ],  [ 환상의 : 1 ],  [ overflowhiddenfloatleftwidth130pxheight70pxlineheight14px : 1 ],  [ 엽혹진 : 1 ],  [ 24px : 2 ],  [ linkupgrade : 1 ],  [ suggestexacthover : 1 ],  [ numrate9backgroundposition25px : 1 ],  [ 신규진입 : 2 ],  [ 입니다 : 22 ],  [ width15pxbackgroundposition86px : 1 ],  [ icolotto : 1 ],  [ 불러줘 : 1 ],  [ shop2on : 3 ],  [ SM6 : 1 ],  [ numelection2016floatleft : 1 ],  [ marginbottom7px : 1 ],  [ displaynonepositionabsoluteright0pxbottom19pxwidth211pxheight27pxbackgroundurlhttpi1searchdaumcdnnetssearchall2009imagesuggestservicegif : 1 ],  [ 포근귀여워 : 1 ],  [ 7위 : 2 ],  [ 검색등록 : 1 ],  [ borderbottom1px : 1 ],  [ imgelection2016displayinlineblockoverflowhiddenfontsize0lineheight0backgroundurlhttpi1daumcdnnetdecocomicstopdeco2014v2electionimgelection2016160330gif : 1 ],  [ 서구 : 1 ],  [ marginbottom4px : 1 ],  [ txtddayfloatleftwidth18pxheight16pxbackgroundposition0 : 1 ],  [ wrapelection2016overflowvisiblepositionabsolutetop28pxright0widthauto : 1 ],  [ 0backgroundurlhttpi1searchdaumcdnnetssearchall2013bgbgshadowpng : 1 ],  [ w35 : 2 ],  [ 강민경 : 2 ],  [ 1650px : 3 ],  [ mymileage : 1 ],  [ 5pxbackgroundposition0 : 1 ],  [ listrecomsvc : 4 ],  [ positionrelativeheight19pxpadding4px : 1 ],  [ relshop : 7 ],  [ left115px : 1 ],  [ displayinlineblockwidth938pxheight67pxborderright1px : 1 ],  [ tilesstory : 37 ],  [ fromfff : 1 ],  [ 증권 : 3 ],  [ offGuide : 1 ],  [ padding3px : 1 ],  [ 310px : 6 ],  [ textdecorationnonelistmysvc : 1 ],  [ 345px : 5 ],  [ linkstock : 1 ],  [ 만든 : 1 ],  [ 유머나라 : 1 ],  [ 65px : 2 ],  [ 0lineheight42pxtextaligncentercursormove : 1 ],  [ 9pxlineheight21pxtextalignleftcursorpointer : 1 ],  [ txtmysvcbackgroundposition0 : 3 ],  [ linkmobile : 1 ],  [ emphlabel : 1 ],  [ linkmysvc : 2 ],  [ 20쿠폰혜택 : 1 ],  [ 1500px : 1 ],  [ 하겠지만 : 1 ],  [ loginmy : 18 ],  [ overflowhiddenpositionabsolutebottom10pxleft208pxwidth167pxcursorpointerwhitespacenowraptextoverflowellipsis : 1 ],  [ 공지사항 : 1 ],  [ left335px : 1 ],  [ positionrelativeheight20pxpadding6px : 1 ],  [ degreeg : 1 ],  [ 1 : 5 ],  [ 개인정보처리방침 : 1 ],  [ 12pxfontweightnormalfontsize11pxlineheight20pxcolorfffletterspacing1px : 1 ],  [ margintop9px : 4 ],  [ color000 : 1 ],  [ 클린턴 : 1 ],  [ 놀람 : 1 ],  [ overflowhiddenpositionabsolutetop0right0width68pxheight37pxtextindent9999px : 1 ],  [ li : 33 ],  [ lt : 4 ],  [ d2dbe8 : 1 ],  [ 목포 : 1 ],  [ itemlivefloatrightmargintop8px : 1 ],  [ floatleftwidth176pxheight143pxpadding16px : 1 ],  [ 소장가치200 : 1 ],  [ 담은 : 1 ],  [ auto : 8 ],  [ colorda4453 : 1 ],  [ 싶다 : 2 ],  [ displayinlineblockheight125pxverticalaligntop : 1 ],  [ marginbottom1px : 1 ],  [ 0fontsize14pxlineheight16pxfontfamilyverdanasansserifletterspacing1px : 1 ],  [ boxsearch : 1 ],  [ 그래서 : 1 ],  [ inpprotect : 1 ],  [ 1260px : 1 ],  [ 하다가 : 1 ],  [ contliveoverflowhiddenheight40pxborderbottom1px : 1 ],  [ 10px : 13 ],  [ 14px16px : 1 ],  [ 705pxletterspacing1px : 1 ],  [ icovs : 1 ],  [ top139pxheight40pxpaddingtop6px : 1 ],  [ left1pxwidth61pxbackgroundposition0 : 1 ],  [ color333 : 1 ],  [ w19 : 2 ],  [ w18 : 2 ],  [ 3pxbackgroundposition0 : 1 ],  [ w16 : 2 ],  [ w15 : 2 ],  [ w14 : 2 ],  [ w13 : 2 ],  [ w12 : 2 ],  [ w11 : 2 ],  [ w10 : 2 ],  [ 8pxlineheight15pxbackgroundurlhttpi1daumcdnnetdecocomicstopdeco2014v2imgdaumvertv9pngv1664 : 1 ],  [ FUN : 1 ],  [ stockguisortablehelper : 1 ],  [ floatleftmargin1px : 1 ],  [ titsong : 1 ],  [ width156pxheight20pxpadding8px : 1 ],  [ width278pxheight33pxbordertop1px : 1 ],  [ issuenews : 6 ],  [ bottom97px : 1 ],  [ 58px : 1 ],  [ 미들즈브러 : 1 ],  [ linkempathy : 1 ],  [ 0lineheight14pxcolor777letterspacing1pxtextdecorationunderline : 1 ],  [ margintop4pxletterspacing1px : 1 ],  [ 아쿠아맨 : 1 ],  [ floatleftwidth15pxheight13pxmargin4px : 1 ],  [ positionrelativetop0left0zindex99 : 1 ],  [ positionrelativetop0left0zindex98 : 1 ],  [ 175px : 3 ],  [ eduon : 2 ],  [ 12pxfontweightnormallineheight12pxbackgroundposition370px : 1 ],  [ overflowhiddenfloatleftheight19pxpaddingright5pxlineheight20pxbackgroundposition100 : 1 ],  [ mizneton : 2 ],  [ 45px : 7 ],  [ width181pxbackgroundposition166px : 1 ],  [ backgroundposition285px : 4 ],  [ icow00backgroundposition0 : 1 ],  [ repeaty : 1 ],  [ 이것넘좋아 : 1 ],  [ 없어서못팔아 : 1 ],  [ top1pxwidth55pxheight32pxbackgroundf9f9f9 : 1 ],  [ floatleftwidth48pxheight70pxclearboth : 1 ],  [ displayinlineblockoverflowhiddenmaxwidth100paddingright2pxwhitespacenowraptextoverflowellipsisverticalaligntop : 1 ],  [ linkitemdisplayinlineblockfontweightboldfontsize12pxlineheight24pxcolorfff : 1 ],  [ 욕실 : 1 ],  [ gulim굴림sansserifcolor000 : 3 ],  [ 시작 : 1 ],  [ height45pxpaddingtop10px : 2 ],  [ 언니들 : 1 ],  [ width13pxmargin6px : 1 ],  [ icoprev : 2 ],  [ 조선인이었다 : 1 ],  [ color00a0b6 : 2 ],  [ 내용을 : 22 ],  [ color4689df : 1 ],  [ displayblockoverflowhiddenpositionrelativewidth387pxheight103px : 1 ],  [ 142px : 1 ],  [ overflowhiddenborderright1px : 1 ],  [ displayinlinewidth236pxheight52pxmargin25px : 1 ],  [ linkfind : 2 ],  [ titdaumspe : 1 ],  [ color5f6876 : 1 ],  [ 만들기 : 1 ],  [ 215px : 4 ],  [ loadingmy : 1 ],  [ numtime4backgroundposition50px : 1 ],  [ positionabsolutetop5pxright9pxwidth21pxheight21pxbackgroundposition175px : 1 ],  [ 1540px : 2 ],  [ displayinlineblockoverflowhiddenheight100backgroundfffverticalalignmiddle : 1 ],  [ floatleftwidth90pxfontsize11pxlineheight14pxletterspacing1pxtextaligncenter : 1 ],  [ 지식공간 : 1 ],  [ fontsize11pxcolor2156c0letterspacing1px : 1 ],  [ b8bbbfborderbottom0 : 1 ],  [ floatleftwidth15pxheight18pxbackgroundposition0 : 1 ],  [ titstoryfunding : 4 ],  [ txtexactoverflowhiddenfloatleftheight44pxmargintop0 : 1 ],  [ mykeyword : 1 ],  [ backgroundposition320px : 1 ],  [ overflowhiddenwidth376pxheight35pxpadding20px : 1 ],  [ 재후 : 1 ],  [ positionrelativewidth113pxheight103pxmargintop13pxpadding0lineheight14pxtextaligncenterclearbothwhitespacenormal : 1 ],  [ linktrend : 1 ],  [ titmiznet : 4 ],  [ num30 : 1 ],  [ 1129px : 1 ],  [ servicetop : 4 ],  [ 13pxfontsize11pxlineheight14pxcolor262626 : 1 ],  [ 85px : 1 ],  [ 되겠다 : 1 ],  [ left170pxbackgroundposition171px : 1 ],  [ displayblockwidth280pxmargin0 : 1 ],  [ 7pxborder1px : 1 ],  [ 트렌드샵 : 1 ],  [ wrapedu : 2 ],  [ 1210px : 4 ],  [ left253px : 1 ],  [ 150px : 5 ],  [ 사전 : 2 ],  [ 도움말보기 : 1 ],  [ 확인하시려면 : 22 ],  [ color3770bf : 1 ],  [ linktit : 56 ],  [ setagain : 1 ],  [ 콘센트 : 1 ],  [ ㅅㅇ : 1 ],  [ 기획전홈 : 2 ],  [ 39120 : 1 ],  [ bottom96px : 1 ],  [ icow05backgroundposition0 : 2 ],  [ 스페셜 : 3 ],  [ positionabsolutetop18pxright11pxpaddingright7pxfontsize11pxlineheight14pxbackgroundposition100 : 2 ],  [ 권하는 : 2 ],  [ overflowhiddenpositionabsolutetop22pxright20pxwidth110pxheight15pxfontsize15pxlineheight16pxtextalignrighttextindent93pxbackgroundcolortransparentbackgroundposition95px : 1 ],  [ 꽤나 : 1 ],  [ 0color5e646f : 1 ],  [ wraprealestate : 1 ],  [ icoupbackgroundposition0 : 1 ],  [ overflowhiddentop0textdecorationnone : 1 ],  [ 여에스더 : 2 ],  [ 없어 : 1 ],  [ color61646e : 1 ],  [ 롯데i몰 : 1 ],  [ icogive : 3 ],  [ 4위 : 2 ],  [ 619px : 1 ],  [ transparentfontweightboldfontsize16pxlineheight18pxfontfamily돋움dotumsansserifbackgroundcolortransparentoutlinenoneimemodeactivewebkitappearancenone : 1 ],  [ tvpoton : 2 ],  [ overflowhiddenwidth188pxpaddingtop15pxbordertop1px : 1 ],  [ color36a0e4 : 1 ],  [ 50 : 1 ],  [ linkevent : 13 ],  [ floatleftwidth68pxheight25pxbackgroundposition50px : 1 ],  [ ㅁㅂ : 1 ],  [ timecontoverflowhiddenwidth21pxtextalignright : 1 ],  [ weathertoday : 1 ],  [ overflowhiddenwidth608px : 1 ],  [ contvs : 2 ],  [ fontsize16pxlineheight26px : 1 ],  [ 통과한 : 1 ],  [ width6pxmarginleft1pxbackgroundposition170px : 1 ],  [ 30px : 8 ],  [ 971px : 1 ],  [ 찾기 : 2 ],  [ stockup : 2 ],  [ width188pxheight103px : 1 ],  [ overflowhiddenfloatleftwidth71pxmargintop4pxwhitespacenowraptextoverflowellipsis : 1 ],  [ 470px : 1 ],  [ width31pxbackgroundposition32px : 1 ],  [ displayinlineblockpositionrelativezindex0width940pxheight112pxmargintop34pxverticalaligntop : 1 ],  [ positionabsolutetop9pxright43pxpaddingleft7pxlineheight15pxbackgroundposition0 : 1 ],  [ 최대40세일 : 1 ],  [ 5px : 12 ],  [ labpw : 1 ],  [ ratecontoverflowhiddenwidth42pxmargin8px : 1 ],  [ floatleftwidth163pxheight25pxpaddingleft9pxborder1px : 1 ],  [ 녹기 : 1 ],  [ overflowhiddenwidth278pxheight32pxlineheight35pxbordertop1px : 1 ],  [ icohot : 2 ],  [ floatnonemargin0padding0 : 1 ],  [ width179pxheight233px : 1 ],  [ 14pxlineheight15pxcolor477ae4letterspacing1px : 1 ],  [ 90px : 3 ],  [ innerevent : 1 ],  [ contbnrdisplayblock : 1 ],  [ 서울 : 1 ],  [ overflowhiddenwidth515pxbordertop1px : 1 ],  [ colorf73a40 : 1 ],  [ padding15px : 1 ],  [ bnrtype2width58pxheight27pxpadding12px : 1 ],  [ ecececfontsize0lineheight0 : 2 ],  [ 수 : 1 ],  [ 이분들 : 1 ],  [ infocont : 4 ],  [ floatleftwidth228pxheight159pxbordertop1px : 1 ],  [ 세련된미시룩 : 1 ],  [ 환율 : 1 ],  [ 46475bclearboth : 1 ],  [ btnvdorelay : 1 ],  [ 않는다 : 1 ],  [ 775pxcolorf25334cursorpointer : 1 ],  [ wrapmy : 1 ],  [ width64pxbackgroundposition340px : 1 ],  [ 전체 : 1 ],  [ sectionmulti : 47 ],  [ 깜짝 : 1 ],  [ icosteadybackgroundposition0 : 1 ],  [ overflowhiddenpositionabsolutetop7pxright7pxwidth54pxheight25pxtextindent9999px : 1 ],  [ 개인 : 1 ],  [ btndaum : 1 ],  [ 510px : 1 ],  [ floatleftmarginright10px : 1 ],  [ positionrelativezindex0width181pxheight118pxmargin15px : 1 ],  [ overflowhiddenpositionabsolutetop0left0zindex1width15pxheight15pxtextindent9999px : 1 ],  [ wrapmovie : 1 ],  [ bestlikeon : 2 ],  [ txtexchange : 1 ],  [ 4499 : 1 ],  [ width144pxmarginright0padding12px : 1 ],  [ 백화점특가중 : 1 ],  [ w08 : 2 ],  [ w09 : 2 ],  [ txtweather : 2 ],  [ w04 : 2 ],  [ w05 : 2 ],  [ w06 : 2 ],  [ w07 : 2 ],  [ w01 : 2 ],  [ w02 : 2 ],  [ w03 : 2 ],  [ utiltop : 3 ],  [ 벽에 : 1 ],  [ 350px : 1 ],  [ 807px : 1 ],  [ left179px : 1 ],  [ 26pxcolor5f6876verticalaligntop : 1 ],  [ admid : 3 ],  [ wraptiercont : 1 ],  [ 감격스러워 : 1 ],  [ 일제부터 : 1 ],  [ 430px : 1 ],  [ 미술관 : 1 ],  [ linknum : 1 ],  [ plategtop85pxheight20pxwidth166pxpadding0 : 1 ],  [ titappimport : 1 ],  [ letterspacing1px : 2 ],  [ 939px : 1 ],  [ 9pxbackgroundurlhttpi1daumcdnnetdecocomicstopdeco2014v2imgdaumvertv9pngv1664 : 1 ],  [ width111pxheight66px : 2 ],  [ 2위 : 3 ],  [ floatleftpositionrelativewidth446pxmargintop28px : 1 ],  [ numdday8backgroundposition0 : 1 ],  [ numtime0backgroundposition50px : 1 ],  [ width94px : 1 ],  [ txtinfomarginright9px : 1 ],  [ e5e5e5 : 1 ],  [ width258pxmarginright5px : 1 ],  [ icow03backgroundposition0 : 2 ],  [ 0lineheight15pxverticalalignmiddletextalignleft : 1 ],  [ titbestreader : 1 ],  [ floatleftwidth31pxlineheight17px : 1 ],  [ 홈런 : 1 ],  [ overflowhiddenfloatleftheight40pxmargintop0backgroundposition0 : 1 ],  [ 설정 : 3 ],  [ width80pxheight14pxlineheight14pxbackgroundcolortransparentbackgroundposition185px : 1 ],  [ 22pxfontsize11pxlineheight14pxletterspacing1px : 1 ],  [ newson : 2 ],  [ 위험해요 : 1 ],  [ 4275 : 1 ],  [ infonotice : 1 ],  [ norepeattextindent9999pxverticalaligntop : 2 ],  [ backgroundposition0 : 53 ],  [ 96pxbackgroundurlhttpi1daumcdnnetdecocomicstopdeco2014v2electionbgelection2016top2gif : 1 ],  [ 전에 : 1 ],  [ paddingleft53pxbackgroundposition0 : 1 ],  [ 청주 : 1 ],  [ 10pxbackgroundposition100 : 1 ],  [ iconormal : 1 ],  [ layoutverticalt4 : 9 ],  [ 로드뷰 : 1 ],  [ splitg : 1 ],  [ 455px : 1 ],  [ overflowhiddenwidth383pxheight14pxpaddingtop8pxlineheight15pxtextaligncenter : 1 ],  [ 이용약관 : 1 ],  [ fontweightboldcolorfff : 5 ],  [ marginbottom5px : 3 ],  [ overflowhiddenwidth200pxheight221pxmargintop11px : 1 ],  [ zindex1backgroundcolor4e82eebackgroundposition225px : 1 ],  [ 탈환전 : 1 ],  [ 170pxverticalaligntoptextaligncenter : 1 ],  [ 클릭상품 : 1 ],  [ padding12px : 2 ],  [ 4pxcolor444verticalaligntop : 1 ],  [ width42pxbackgroundposition90px : 2 ],  [ icobnrfloatleftfontsize0lineheight0backgroundnorepeat : 1 ],  [ nonebackgroundcolorfff : 1 ],  [ 서비스 : 7 ],  [ overflowvisibleoverflowxhiddenwidth399pxheight160pxhorizontalimg : 1 ],  [ width83px : 1 ],  [ num40 : 1 ],  [ top7pxright10px : 1 ],  [ colorfff : 2 ],  [ contentcontentnone : 1 ],  [ 바로 : 22 ],  [ blockquotebefore : 1 ],  [ 17도 : 1 ],  [ 480px : 1 ],  [ positionrelativezindex103 : 1 ],  [ contmenuoverflowhiddenheight40pxpaddingleft24pxbackgroundcolor078dff : 1 ],  [ positionrelative : 6 ],  [ linkkids : 1 ],  [ linkcontvisited : 2 ],  [ ececec : 3 ],  [ btnprev : 2 ],  [ 431px : 1 ],  [ 중국까지 : 1 ],  [ overflowhiddenfloatleftwidth113pxmarginright24pxlineheight14pxtextaligncenter : 1 ],  [ floatleftpadding4px : 1 ],  [ colord40400 : 1 ],  [ 440px : 1 ],  [ myblogon : 3 ],  [ stockdown : 2 ],  [ 43 : 2 ],  [ displayinlineblockheight14pxmargin19px : 1 ],  [ 동영상 : 1 ],  [ backgroundposition90px : 8 ],  [ loadingon : 1 ],  [ paddingleft10pxcolor383b42backgroundcolortransparent : 1 ],  [ floatleftmargintop7pxpaddingright2pxcolor3a5fb9letterspacing1px : 1 ],  [ numtime8backgroundposition50px : 1 ],  [ 297px : 1 ],  [ 3pxlineheight55pxbackgroundcolortransparentbackgroundposition0 : 1 ],  [ 좋을듯한 : 1 ],  [ tittv : 4 ],  [ 표창원 : 2 ],  [ 건우네가 : 1 ],  [ ageguisortablehelper : 1 ],  [ overflowhiddenpositionabsolutebottom10pxleft11pxwidth167pxcursorpointerwhitespacenowraptextoverflowellipsis : 1 ],  [ linkapp : 1 ],  [ 일하는가 : 1 ],  [ overflowhiddenfloatleftwidth100pxheight22pxpadding4px : 1 ],  [ topautobottom63pxleft169px : 1 ],  [ icotag : 3 ],  [ 351pxcolor196adb : 1 ],  [ margintop1px : 1 ],  [ 300px : 1 ],  [ floatleftmarginright14pxlineheight15px : 1 ],  [ 약관 : 1 ],  [ width10pxmargintop1pxbackgroundposition218px : 1 ],  [ 400주년다양한 : 1 ],  [ bnrtype1width58pxheight27pxpadding12px : 1 ],  [ layermycont : 14 ],  [ overflowhiddenpositionabsoluteright3pxbottom3pxwidth20pxheight20pxtextindent9999px : 1 ],  [ top20px : 1 ],  [ overflowhiddenheight1pxmargin7px : 1 ],  [ 활용해봐 : 1 ],  [ 31pxborder1px : 1 ],  [ 396px : 1 ],  [ displayinlinepaddingleft18pxbackgroundposition9px : 1 ],  [ numelection2016displayinlineblockoverflowhiddenfontsize0lineheight0backgroundurlhttpi1daumcdnnetdecocomicstopdeco2014v2electionnumelection2016gif : 1 ],  [ 230px : 4 ],  [ 김영란법 : 1 ],  [ 11px : 2 ],  [ 할 : 1 ],  [ 532pxwhitespacenowrap : 1 ],  [ paddingtop13px : 1 ],  [ 우울해지는 : 1 ],  [ 270px : 1 ],  [ icolivewidth33pxheight16pxmarginright8px : 1 ],  [ 여성스러워 : 1 ],  [ height60px : 1 ],  [ linkprogram : 1 ],  [ color005dde : 1 ],  [ top21pxright0 : 1 ],  [ 4pxborder1px : 1 ],  [ positionrelativewidth940pxzindex100 : 1 ],  [ 119 : 2 ],  [ displayblockcolor959595 : 1 ],  [ 1198px : 1 ],  [ width158pxheight50pxcursorpointer : 1 ],  [ colorde207b : 1 ],  [ width54pxbackgroundposition492px : 1 ],  [ titcont : 2 ],  [ 10위 : 2 ],  [ 링크를 : 22 ],  [ iconewright5px : 1 ],  [ linkpolicy : 2 ],  [ displayblockpadding8px : 1 ],  [ overflowhiddenwidth427px : 2 ],  [ transparentcolor222lineheight25pxbackgroundcolortransparentimemodedisabled : 1 ],  [ 같이가치 : 3 ],  [ titbrandspe : 1 ],  [ 540px : 1 ],  [ btnsearchhover : 1 ],  [ 347px : 1 ],  [ wrapgame : 3 ],  [ width235pxpaddingright23px : 1 ],  [ backgroundposition477px : 2 ],  [ txtinfo : 2 ],  [ displayblockwidth66pxheight18pxbackgroundcolortransparentbackgroundposition69px : 1 ],  [ 190px : 8 ],  [ positionrelativewidth200pxheight245pxpadding24px : 1 ],  [ icosuggestpaddingleft51pxbackgroundurlhttpsearch1daumcdnnetsearchstaticscommonpiicoweatherm160616gif : 1 ],  [ 1275px : 1 ],  [ f2f2f4 : 1 ],  [ 매콤 : 1 ],  [ height63pxmargintop12px : 1 ],  [ 225px : 3 ],  [ margintop5pxlineheight15px : 1 ],  [ 50textindent9999px : 1 ],  [ tiertopalpha : 1 ],  [ numrate3backgroundposition25px : 1 ],  [ paddingleft11pxbackgroundposition0 : 2 ],  [ 483 : 2 ],  [ 알고 : 2 ],  [ displayblockheight54pxpaddingtop7px : 1 ],  [ 0backgroundposition100 : 1 ],  [ w17 : 2 ],  [ e1e1e1borderbottom1px : 2 ],  [ listinventory : 13 ],  [ linkmysvchover : 1 ],  [ 달라진 : 1 ],  [ 가볼만한 : 1 ],  [ mobileweblink : 3 ],  [ iconewarr : 1 ],  [ infothesong : 3 ],  [ icow06backgroundposition0 : 2 ],  [ contcopy : 6 ],  [ backgroundurlhttpi1daumcdnnetdecotop2012startcafenone20121023png : 1 ],  [ top16px : 1 ],  [ color262626textdecorationnone : 1 ],  [ w31 : 2 ],  [ w30 : 2 ],  [ w33 : 2 ],  [ w32 : 2 ],  [ left387px : 1 ],  [ w34 : 2 ],  [ w37 : 2 ],  [ w36 : 2 ],  [ w39 : 2 ],  [ w38 : 2 ],  [ 스타워즈를 : 1 ],  [ fontsize11pxcolor477ae4letterspacing1px : 1 ],  [ btnreset : 1 ],  [ 0textindent9999px : 3 ],  [ marginbottom : 1 ],  [ 보러가기 : 1 ],  [ floatleftmarginright16pxlineheight15px : 1 ],  [ tittabcont : 7 ],  [ 인터파크 : 1 ],  [ width34pxbackgroundposition90px : 1 ],  [ 측간 : 1 ],  [ height16pxpaddingtop7pxlineheight16px : 1 ],  [ overflowhiddenwidth446pxbackgroundcolortransparentbackgroundposition0 : 1 ],  [ rank9 : 1 ],  [ rank8 : 1 ],  [ 이라크 : 1 ],  [ rank3 : 1 ],  [ rank2 : 1 ],  [ 240px : 8 ],  [ rank7 : 1 ],  [ rank6 : 1 ],  [ rank5 : 1 ],  [ rank4 : 1 ],  [ displayblockwidth181pxfontsize16pxlineheight25pxclearboth : 1 ],  [ 美국방 : 1 ],  [ CJmall : 1 ],  [ floatleftwidth655pxmarginright5pxbordertop1px : 1 ],  [ floatleftfontsize11pxmargin3px : 1 ],  [ txttime : 3 ],  [ 휘발유 : 1 ],  [ linkrel : 1 ],  [ linknewapp : 1 ],  [ recomlink : 1 ],  [ shop5on : 3 ],  [ backgroundposition330px : 1 ],  [ numdday3backgroundposition0 : 1 ],  [ eon : 1 ],  [ icotheme : 1 ],  [ overflowhiddenwidth272pxheight30pxpadding9px : 1 ],  [ displayblockoverflowhiddenclearboth : 1 ],  [ 로그인 : 5 ],  [ blogg : 5 ], \n"
     ]
    }
   ],
   "source": [
    "getTextFromUrl(\"http://www.daum.net\")"
   ]
  },
  {
   "cell_type": "code",
   "execution_count": 108,
   "metadata": {
    "collapsed": false
   },
   "outputs": [
    {
     "name": "stdout",
     "output_type": "stream",
     "text": [
      "[ 6px : 9 ],  [ NYT : 1 ],  [ Does : 2 ],  [ NYC : 3 ],  [ Appeal : 1 ],  [ containersetAttributeclasssignedin : 1 ],  [ voter : 1 ],  [ 31px : 1 ],  [ pageManagertrackingFireEventQueue : 2 ],  [ Nytimescom : 1 ],  [ h4sectionHeaderHome : 2 ],  [ Encounter : 1 ],  [ h3containsThe : 1 ],  [ updated : 1 ],  [ void : 1 ],  [ Became : 1 ],  [ Old : 1 ],  [ contentCollection : 1 ],  [ cnew : 1 ],  [ Campaign : 2 ],  [ skills : 1 ],  [ 9px : 1 ],  [ abovebannerregion : 4 ],  [ fontweight : 27 ],  [ Go : 4 ],  [ Paul : 1 ],  [ Doorman : 1 ],  [ Christie : 1 ],  [ Version : 1 ],  [ Tape : 2 ],  [ END : 1 ],  [ Troubled : 1 ],  [ functionSubscriber : 1 ],  [ gcandtoplineestfontsize23pxgmodelpromo : 1 ],  [ windowlocationsearchmatchrePreviewTime : 1 ],  [ preferences : 1 ],  [ 16px18px : 1 ],  [ new : 12 ],  [ Presidential : 2 ],  [ widget : 1 ],  [ wrapping : 1 ],  [ nythpSmarterLivingEmailLink : 1 ],  [ reported : 1 ],  [ Jamaican : 1 ],  [ NumberparseIntmatches1 : 2 ],  [ Faces : 1 ],  [ Ohio : 1 ],  [ 100 : 2 ],  [ Page : 1 ],  [ 135rem : 1 ],  [ Pieces : 2 ],  [ credit : 2 ],  [ Home : 3 ],  [ punishment : 1 ],  [ PENNINGTON : 1 ],  [ sansserif : 14 ],  [ Privacy : 1 ],  [ Studying : 1 ],  [ htmlshowAllGeoAb : 5 ],  [ Behind : 1 ],  [ Book : 2 ],  [ Health : 4 ],  [ notifyaddEventListenerkeyupfunction : 1 ],  [ Samosas : 1 ],  [ VSED : 1 ],  [ acolumn : 5 ],  [ Minority : 1 ],  [ would : 1 ],  [ Stay : 1 ],  [ emailaddress : 1 ],  [ Foundations : 1 ],  [ romantimesserif : 7 ],  [ supporters : 2 ],  [ Rule : 1 ],  [ effectSpeed : 1 ],  [ V : 1 ],  [ 93 : 1 ],  [ requirevoiceboxjquerynyt : 1 ],  [ pursue : 1 ],  [ work : 1 ],  [ avisited : 3 ],  [ geoipresolver : 1 ],  [ movies : 1 ],  [ Advertisers : 1 ],  [ A81817 : 2 ],  [ registeredWelcome : 1 ],  [ Le : 1 ],  [ 0bareplacezonezonebreakcase : 1 ],  [ give : 1 ],  [ gbargclintonbackground3989cbgmodelpromohppromoccol : 1 ],  [ Presses : 2 ],  [ Heds : 1 ],  [ alinknythpBriefingNewsletterSignup : 1 ],  [ Bruni : 1 ],  [ Digital : 1 ],  [ reFormat : 1 ],  [ absolute : 1 ],  [ Women : 1 ],  [ Editorials : 1 ],  [ 8pximportant : 1 ],  [ travel : 1 ],  [ htmlgeodma501 : 1 ],  [ nytfranklinArialsansserif : 1 ],  [ Gretchen : 1 ],  [ ordinary : 1 ],  [ Weekend : 2 ],  [ A : 13 ],  [ earlier : 1 ],  [ Will : 1 ],  [ modest : 1 ],  [ Wild : 1 ],  [ texttransform : 11 ],  [ All : 2 ],  [ Hoping : 1 ],  [ Another : 1 ],  [ enter : 1 ],  [ Toll : 1 ],  [ registeredButton : 1 ],  [ His : 3 ],  [ SAM : 1 ],  [ JODI : 1 ],  [ Smarter : 1 ],  [ fix : 1 ],  [ fade : 1 ],  [ 400 : 8 ],  [ videoFactory : 1 ],  [ hidden : 2 ],  [ JON : 2 ],  [ them : 1 ],  [ Kids : 3 ],  [ ‘Wilderness’ : 2 ],  [ ij0idjjifvoid : 1 ],  [ Mobile : 3 ],  [ ucfslhtdocumentcookiematch : 3 ],  [ Ignoring : 2 ],  [ therapy : 1 ],  [ Cards : 1 ],  [ Chugs : 1 ],  [ dirtyform : 1 ],  [ Unsteady : 1 ],  [ victory : 1 ],  [ fitness : 1 ],  [ jquerynyt : 1 ],  [ Fantasy’ : 1 ],  [ 13px : 12 ],  [ notifyemail : 1 ],  [ containerTemplate : 1 ],  [ Styles : 2 ],  [ BEGIN : 1 ],  [ emailPreferencesLinkText : 1 ],  [ Promo : 1 ],  [ cameras : 1 ],  [ crucial : 1 ],  [ Hurt : 3 ],  [ content : 3 ],  [ authgrowl : 1 ],  [ Authentic : 1 ],  [ notifyaddEventListenermouseoutfunction : 1 ],  [ foundation : 1 ],  [ Word : 1 ],  [ nythpElection2016Header : 22 ],  [ Work : 1 ],  [ standard : 1 ],  [ 0dcountrycodereturn : 1 ],  [ pumpkins : 1 ],  [ Nixon : 1 ],  [ Shootings : 2 ],  [ slideTemplate : 1 ],  [ Contributors : 2 ],  [ Magazines’ : 1 ],  [ Photo : 2 ],  [ Calculator : 1 ],  [ KATHERINE : 1 ],  [ tdocumentcreateElementscripttasync0ttypetextjavascriptvar : 1 ],  [ textdecorationunderline : 1 ],  [ unregisteredButton : 1 ],  [ windowmagnumwriteLogosmall : 1 ],  [ Voter : 1 ],  [ suspension : 1 ],  [ hideAbTest : 1 ],  [ Please : 2 ],  [ storythemefeaturepromo : 3 ],  [ Handler : 2 ],  [ requirenytintgeoip : 4 ],  [ googletaggoogletaggoogletagcmdgoogletagcmdfunctionvar : 1 ],  [ service : 1 ],  [ top : 4 ],  [ Notebook : 2 ],  [ Sleeping : 1 ],  [ Search : 5 ],  [ B : 2 ],  [ lateterm : 1 ],  [ TRIP : 1 ],  [ Code : 1 ],  [ See : 2 ],  [ Gang : 1 ],  [ messagebed : 1 ],  [ Dying : 1 ],  [ E2E2E2 : 1 ],  [ breturn : 4 ],  [ nyta2ifathrow : 3 ],  [ Then : 2 ],  [ Them : 1 ],  [ Rate : 1 ],  [ Frank : 1 ],  [ They : 2 ],  [ Trump’ : 2 ],  [ Meat : 1 ],  [ NYTDAbrainitHOMEComingUp2147483648control12147483648comingup1HOMENewsEvent23865470567full1429496729control1wwwhomepagesample429496730null112884901891a14294967291b117179869192a1429496732b1386547056null0HOMEElectionPrediction3865470567on1429496729control1ECSampleTest2147483648variantA02147483648variantB0 : 1 ],  [ nythpGeoCanada : 1 ],  [ notifygetAttributeplaceholder : 1 ],  [ Went : 3 ],  [ I’m : 1 ],  [ requirehttpsa1nytcomanalyticstagxsimpleminjs : 2 ],  [ TARA : 1 ],  [ Voices : 1 ],  [ 1125rem : 1 ],  [ Single : 1 ],  [ Election : 5 ],  [ Provoking : 1 ],  [ Sea’ : 1 ],  [ Its : 1 ],  [ Helvetica : 7 ],  [ 0bareplacecodereturn : 1 ],  [ Anne : 1 ],  [ Bordeaux : 1 ],  [ Spoke : 2 ],  [ layout : 1 ],  [ nythpHideKickers : 1 ],  [ headline : 1 ],  [ Photography : 1 ],  [ KANTOR : 1 ],  [ Game : 1 ],  [ Bad : 1 ],  [ ntvar : 1 ],  [ Tigre’s : 1 ],  [ wearing : 1 ],  [ Account : 1 ],  [ SwingState : 1 ],  [ minlimit4maxlimit11 : 1 ],  [ Quick : 1 ],  [ Husband : 2 ],  [ Over : 3 ],  [ Dispatch : 1 ],  [ textdecoration : 9 ],  [ Recommended : 1 ],  [ best : 3 ],  [ said : 1 ],  [ Ahead : 1 ],  [ Time” : 1 ],  [ away : 1 ],  [ actionlink : 1 ],  [ Took : 3 ],  [ Choice : 1 ],  [ Water : 2 ],  [ nythpSplitCode : 3 ],  [ aactive : 6 ],  [ defineamd : 1 ],  [ Rist : 1 ],  [ Happy : 1 ],  [ 360 : 2 ],  [ Settings : 1 ],  [ European : 1 ],  [ ‘Nasty : 1 ],  [ paddingtop : 5 ],  [ outages : 1 ],  [ OpEd : 5 ],  [ debt : 2 ],  [ Appetite : 1 ],  [ Bunnell : 1 ],  [ Peter : 1 ],  [ Dance : 2 ],  [ country : 3 ],  [ Focus : 1 ],  [ geocoded : 1 ],  [ players : 2 ],  [ bet : 1 ],  [ Classifieds : 1 ],  [ Syrian : 1 ],  [ kicker : 6 ],  [ SORKIN : 1 ],  [ Indicted : 1 ],  [ 6187a6important : 2 ],  [ Information : 2 ],  [ accountname : 2 ],  [ 7900 : 1 ],  [ matte : 1 ],  [ 0ecforvar : 1 ],  [ Borders : 1 ],  [ Textures : 1 ],  [ Blocks : 1 ],  [ interactiveleadin : 1 ],  [ gsubtitledisplayblocktexttransformnonegmodelpromohppromobcol : 1 ],  [ wideB : 2 ],  [ wideA : 2 ],  [ been : 1 ],  [ Wall : 1 ],  [ Hillary : 4 ],  [ gdbdcatchhconloadfunctionareturn : 1 ],  [ expected : 1 ],  [ rePreviewTime : 1 ],  [ 900 : 1 ],  [ Night : 1 ],  [ Secretary : 1 ],  [ Debt : 2 ],  [ timedBriefingHidei : 1 ],  [ Into : 1 ],  [ Manage : 1 ],  [ Law : 3 ],  [ 6288a5 : 1 ],  [ Spacecraft : 1 ],  [ Writers : 1 ],  [ typeof : 1 ],  [ Follow : 1 ],  [ Constellation : 1 ],  [ 2roasf3sf8sf14sf16forf5flflfnf0return : 3 ],  [ Both : 1 ],  [ is : 4 ],  [ it : 2 ],  [ Rubin : 1 ],  [ Here’s : 1 ],  [ Ageless : 1 ],  [ in : 37 ],  [ Last : 1 ],  [ id : 1 ],  [ if : 8 ],  [ make : 1 ],  [ Stop : 2 ],  [ Vanishing : 1 ],  [ Volcker : 1 ],  [ President : 1 ],  [ several : 1 ],  [ Room : 1 ],  [ h6active : 4 ],  [ “Lazarus” : 1 ],  [ functionmain : 1 ],  [ nytintvbcontainer : 2 ],  [ Mind : 1 ],  [ spanablayout : 2 ],  [ mother : 1 ],  [ the : 51 ],  [ left : 8 ],  [ PARKER : 1 ],  [ Thank : 2 ],  [ pocketRegion : 4 ],  [ ffeehfunctionavar : 1 ],  [ fragrances : 1 ],  [ Disrupt : 2 ],  [ h3gcharttitlefontsize10pxtexttransformuppercasemargin0 : 1 ],  [ previous : 1 ],  [ buyers : 1 ],  [ Subscribersetup : 1 ],  [ News : 5 ],  [ ffffff : 1 ],  [ has : 3 ],  [ Newt : 2 ],  [ 3px : 9 ],  [ D : 1 ],  [ Taking : 1 ],  [ Morning : 3 ],  [ Try : 1 ],  [ background : 6 ],  [ mediaphotomediumthumb : 1 ],  [ Art : 4 ],  [ Trump : 19 ],  [ windowNYTINTTESTINGee : 4 ],  [ sixgame : 1 ],  [ Mackerel : 1 ],  [ Newsletters : 1 ],  [ “Putin” : 1 ],  [ Heard : 2 ],  [ 21px : 3 ],  [ Are : 3 ],  [ anythpBriefingNewsletterSignup : 1 ],  [ sectionopinion : 2 ],  [ Saudi : 1 ],  [ Again : 2 ],  [ right : 3 ],  [ deal : 1 ],  [ Weapons : 3 ],  [ Than : 1 ],  [ Much : 2 ],  [ You’d : 1 ],  [ Life : 2 ],  [ Relationship : 1 ],  [ bottom : 1 ],  [ Siege : 1 ],  [ h3containsHoliday : 1 ],  [ backgroundposition : 2 ],  [ aaaaaa : 2 ],  [ h3gcharttitlehovertextdecorationunderlinegmodelpromo : 1 ],  [ strictvar : 1 ],  [ Let : 3 ],  [ He : 1 ],  [ Gray : 1 ],  [ who : 1 ],  [ bold : 2 ],  [ nythpSmarterLivingHeader : 38 ],  [ Daily : 1 ],  [ notifyemailerror : 1 ],  [ Place : 2 ],  [ post : 1 ],  [ 0px : 23 ],  [ Think : 1 ],  [ First : 1 ],  [ widgetgetElementsByTagNamediv0 : 1 ],  [ Fair : 1 ],  [ ltie10 : 9 ],  [ attacks : 1 ],  [ choke : 2 ],  [ surround : 1 ],  [ Powder : 1 ],  [ Collins : 2 ],  [ Best : 1 ],  [ Therapist : 1 ],  [ What’s : 1 ],  [ float : 6 ],  [ etnytimescom : 1 ],  [ attrClass : 3 ],  [ son : 1 ],  [ Insider : 5 ],  [ rely : 1 ],  [ width : 8 ],  [ Awful : 1 ],  [ was : 3 ],  [ Hamburger’s : 1 ],  [ form : 1 ],  [ Column : 3 ],  [ some : 1 ],  [ becoming : 1 ],  [ widgetsetAttributeclassclearfix : 1 ],  [ true : 1 ],  [ Domestic : 2 ],  [ devices : 1 ],  [ Relaxes : 2 ],  [ County : 1 ],  [ documentonclickelemIdfunctione : 1 ],  [ submitting : 1 ],  [ 20px : 2 ],  [ referheading : 1 ],  [ 153 : 2 ],  [ PARELES : 1 ],  [ Josh : 1 ],  [ libefore : 3 ],  [ face : 1 ],  [ no : 1 ],  [ 14px : 11 ],  [ timedBriefingslength : 1 ],  [ Pages : 1 ],  [ 2500 : 1 ],  [ football : 1 ],  [ Malibu : 1 ],  [ bordertoprightradius : 2 ],  [ Websites : 2 ],  [ backgroundsize : 1 ],  [ Madness : 1 ],  [ for : 18 ],  [ Estate : 5 ],  [ Pipilotti : 1 ],  [ Mission : 1 ],  [ Nonfiction : 1 ],  [ ‘Big : 2 ],  [ notification : 2 ],  [ Empire : 2 ],  [ 9202016 : 1 ],  [ manages : 1 ],  [ Republic : 1 ],  [ Found : 1 ],  [ 0 : 27 ],  [ charge : 1 ],  [ Day : 2 ],  [ paychecks : 1 ],  [ LELA : 1 ],  [ Plum : 1 ],  [ containertemplatenytintvb1444762651012 : 1 ],  [ Don’t : 5 ],  [ Tech : 4 ],  [ Where : 1 ],  [ divnotificationwidget : 1 ],  [ Jersey : 1 ],  [ Tap : 1 ],  [ Just : 4 ],  [ ahover : 8 ],  [ 1999 : 1 ],  [ div : 10 ],  [ Debate : 2 ],  [ Tables : 1 ],  [ Merger : 1 ],  [ ‘Moonlight’ : 1 ],  [ Children’s : 1 ],  [ timedBriefingsisetAttributeclass : 2 ],  [ Rich : 1 ],  [ a81817 : 1 ],  [ Rice : 1 ],  [ bordertopleftradius : 3 ],  [ gnewsletterlinkfont500 : 1 ],  [ Head : 1 ],  [ smarterliving : 1 ],  [ inlineblock : 8 ],  [ Header : 1 ],  [ nytintvbtimestamp : 1 ],  [ “I’m : 1 ],  [ debate : 1 ],  [ Delight : 1 ],  [ Hear : 1 ],  [ shared : 1 ],  [ Along : 1 ],  [ MegaDonors : 1 ],  [ Me : 2 ],  [ Age : 1 ],  [ Changed : 1 ],  [ Page’ : 3 ],  [ Woman : 1 ],  [ English : 1 ],  [ newtext : 1 ],  [ margintop : 17 ],  [ David : 1 ],  [ My : 1 ],  [ topnews : 5 ],  [ Sees : 1 ],  [ Founder : 2 ],  [ Frugal : 1 ],  [ MM : 1 ],  [ BAB8B3 : 1 ],  [ Dead : 1 ],  [ Your : 9 ],  [ navigation : 2 ],  [ Punish : 1 ],  [ When : 3 ],  [ touchdown : 1 ],  [ Milder : 1 ],  [ working : 1 ],  [ Dies : 4 ],  [ helvetica : 7 ],  [ Whistle : 1 ],  [ Worst : 1 ],  [ prosecutor : 1 ],  [ October : 1 ],  [ Public : 2 ],  [ SIEGEL : 1 ],  [ Services : 1 ],  [ Time : 2 ],  [ FD8249 : 2 ],  [ Errorcant : 3 ],  [ Celebrations : 1 ],  [ Family : 1 ],  [ car : 1 ],  [ abortion : 1 ],  [ nowgetHours : 1 ],  [ can : 2 ],  [ Our : 3 ],  [ address : 1 ],  [ Out : 2 ],  [ 7px : 1 ],  [ Homes : 1 ],  [ Championed : 1 ],  [ Deserve : 1 ],  [ Her” : 1 ],  [ contentType : 1 ],  [ Shows : 2 ],  [ editiondomestic : 1 ],  [ 0eivar : 1 ],  [ Terms : 2 ],  [ Who : 4 ],  [ 1 : 5 ],  [ vital : 1 ],  [ Gail : 1 ],  [ baswitch0case : 1 ],  [ Spin : 1 ],  [ Why : 1 ],  [ aeachfunction : 1 ],  [ productCode : 1 ],  [ 83 : 1 ],  [ windowNYTDdisplayBriefingspreviewTime : 2 ],  [ ANDREW : 1 ],  [ Emailed : 1 ],  [ alerticon : 1 ],  [ floatright : 1 ],  [ CHINEN : 1 ],  [ data : 1 ],  [ View : 4 ],  [ timedBriefingHide : 3 ],  [ outline : 1 ],  [ urlhttpsstatic01nytcompackagesimageshomepagebriefingsdogearsmpng : 1 ],  [ documentgetElementByIdmorningbriefingwidget : 1 ],  [ Breaking : 2 ],  [ atargetefatargetundefinedtypeof : 1 ],  [ alreadySubscribedMessage : 1 ],  [ group : 1 ],  [ thumb : 1 ],  [ Treatments : 1 ],  [ Santa : 1 ],  [ mail : 1 ],  [ Hiding : 1 ],  [ CARAMANICA : 1 ],  [ Stereo : 1 ],  [ matches : 2 ],  [ origtext : 1 ],  [ Choices : 2 ],  [ vbwrappernytintvb1444761941001 : 1 ],  [ odocumentgetElementsByTagNamescript0oparentNodeinsertBeforeto : 1 ],  [ She : 5 ],  [ half : 1 ],  [ Libeled : 3 ],  [ now : 1 ],  [ cursorpointer : 2 ],  [ term : 4 ],  [ 0bareplacezoneabbrustimezonebreakcase : 1 ],  [ Everything : 2 ],  [ config : 3 ],  [ You’re : 2 ],  [ 215p : 2 ],  [ siteindexbrandinglink : 1 ],  [ em : 1 ],  [ morningbriefingwidget : 1 ],  [ ‘Bias’ : 1 ],  [ paddingleft : 8 ],  [ OneBedrooms : 1 ],  [ Gingrich’s : 2 ],  [ Split : 1 ],  [ distributor : 1 ],  [ avoided : 1 ],  [ Carolina : 1 ],  [ container : 1 ],  [ pocketregion : 10 ],  [ ‘Hamilton’ : 1 ],  [ h3gcharttitlemargintop2pxgmodelpromo : 1 ],  [ Welcome : 1 ],  [ Job : 1 ],  [ internet : 1 ],  [ avisitednythpBriefingNewsletterSignup : 1 ],  [ Handmaiden’ : 1 ],  [ 50px : 2 ],  [ Theater : 6 ],  [ G : 3 ],  [ Sometimes : 1 ],  [ BELSON : 1 ],  [ Doesn’t : 2 ],  [ Walking : 2 ],  [ programming : 1 ],  [ Sign : 2 ],  [ 2pximportant : 1 ],  [ swing : 1 ],  [ ulrefer : 2 ],  [ 10pxmargintop5pxmarginbottom10pxgmodelpromohppromoccoldisplayblockfont500 : 1 ],  [ one : 1 ],  [ ATT : 1 ],  [ WikiLeaks : 2 ],  [ Probably : 1 ],  [ size : 1 ],  [ articlestorythemesummary : 1 ],  [ unregisteredPlaceholder : 1 ],  [ Monday : 1 ],  [ Dims : 1 ],  [ nytintvbquote : 3 ],  [ nythpGiftguide : 8 ],  [ Date : 3 ],  [ white : 1 ],  [ Data : 2 ],  [ Response : 1 ],  [ Fraud : 1 ],  [ that : 8 ],  [ season : 1 ],  [ padding : 15 ],  [ bColumn : 2 ],  [ PETERSON : 1 ],  [ copy : 1 ],  [ twiceforioau0u : 3 ],  [ 10 : 1 ],  [ Amenity : 2 ],  [ 12 : 3 ],  [ 17 : 1 ],  [ foundationhelpersutils : 1 ],  [ require : 2 ],  [ urlhttpsstatic01nytcomimagesiconsbullet4x4gif : 1 ],  [ spanabledepackageregion : 3 ],  [ apples : 1 ],  [ Peterson : 1 ],  [ browser : 1 ],  [ and : 37 ],  [ 20s : 1 ],  [ Court : 3 ],  [ Rankings : 1 ],  [ voices : 1 ],  [ taster : 1 ],  [ any : 1 ],  [ classnytintvbauthorname : 1 ],  [ 15px : 2 ],  [ nytintvbquoterefer : 1 ],  [ 200 : 1 ],  [ normal : 4 ],  [ Drop : 2 ],  [ TIMES : 1 ],  [ Loading : 2 ],  [ Good : 2 ],  [ aindexOfzoneabbr0bareplacezoneabbrustimezonebreakcase : 1 ],  [ He’ll : 1 ],  [ raquo : 34 ],  [ spanABTopRegion : 2 ],  [ Trending : 1 ],  [ CATRIN : 1 ],  [ Political : 1 ],  [ Comments : 1 ],  [ hack : 1 ],  [ forecast : 1 ],  [ Across : 2 ],  [ 40px : 1 ],  [ We : 1 ],  [ upgrade : 1 ],  [ BFFs : 1 ],  [ title : 1 ],  [ 05625rem : 1 ],  [ 075rem : 1 ],  [ going : 2 ],  [ black : 2 ],  [ Plea : 2 ],  [ nythpSmarterLiving : 19 ],  [ get : 1 ],  [ Violence : 2 ],  [ Turn : 1 ],  [ Magazine : 8 ],  [ geo : 1 ],  [ htmldatanytabHOMEElectionPredictioncontrolabTest : 1 ],  [ nytcheltenhamshgeorgiatimes : 4 ],  [ nytintvbtitle : 1 ],  [ homepage20161012091952jsshared : 1 ],  [ summary : 4 ],  [ predicted : 1 ],  [ Lesson : 2 ],  [ Education : 4 ],  [ ‘Separation’ : 2 ],  [ relative : 3 ],  [ college : 1 ],  [ arialhelveticasansserif : 1 ],  [ nytkarnakdisplay130124 : 1 ],  [ WILLIAM : 1 ],  [ maxwidth : 1 ],  [ That : 2 ],  [ federal : 1 ],  [ functionVoicebox : 1 ],  [ mediumthumb : 1 ],  [ sites : 1 ],  [ its : 2 ],  [ 3 : 1 ],  [ letterspacing : 3 ],  [ across : 1 ],  [ editioninternational : 1 ],  [ infrastructure : 1 ],  [ abcolumn : 5 ],  [ BERNARD : 1 ],  [ setTimeoutfunction : 1 ],  [ Were : 4 ],  [ arial : 7 ],  [ nythpSmarterLivingbefore : 1 ],  [ h5font300 : 1 ],  [ bordernone : 1 ],  [ Give : 2 ],  [ many : 1 ],  [ demdebateone : 1 ],  [ nytcheltenhamgeorgiatimes : 1 ],  [ color : 29 ],  [ Travel : 3 ],  [ Note : 1 ],  [ nythpBriefings : 2 ],  [ article : 13 ],  [ Parent’s : 2 ],  [ 69 : 2 ],  [ storyheading : 10 ],  [ Events : 3 ],  [ 177px : 1 ],  [ Buy : 1 ],  [ subscribed : 2 ],  [ nythpCAToday : 1 ],  [ But : 3 ],  [ Promos : 1 ],  [ VOLCKER : 1 ],  [ 500 : 2 ],  [ Together : 1 ],  [ elementToHideOnSubscribe : 1 ],  [ Learn : 1 ],  [ Mangano : 1 ],  [ case : 1 ],  [ Divide : 1 ],  [ cast : 1 ],  [ margin : 7 ],  [ feedUrl : 1 ],  [ Sound : 1 ],  [ utils : 1 ],  [ Better : 1 ],  [ 28px : 1 ],  [ Fashion : 2 ],  [ Hidden : 2 ],  [ Complete : 1 ],  [ NSA : 2 ],  [ notificationsignup : 6 ],  [ Mailed : 1 ],  [ Nassau : 1 ],  [ NYTDNYTD : 1 ],  [ Unlikely : 1 ],  [ status : 2 ],  [ nythpNYRegionPromo : 4 ],  [ safe : 1 ],  [ I : 2 ],  [ Clear : 1 ],  [ gchartdisplaywebkitboxdisplaymsflexboxdisplayflexgmodelpromohppromoccol : 1 ],  [ Modules : 1 ],  [ Own : 1 ],  [ renters : 1 ],  [ undefined : 2 ],  [ windowNYTDdisplayBriefings : 1 ],  [ Is : 9 ],  [ nythpBreakingnythpNoRule : 1 ],  [ It : 9 ],  [ Aide : 1 ],  [ Rent : 1 ],  [ In : 5 ],  [ Steps : 1 ],  [ ccc : 3 ],  [ charged : 1 ],  [ United : 1 ],  [ natreturn : 1 ],  [ Service : 1 ],  [ displaynone : 3 ],  [ glabelfloatrighttextalignrightwhitespacenowrapgmodelpromohppromoccol : 1 ],  [ httpsa1nytcomassetshomepage20161012091952imagesfoundationlogos : 1 ],  [ imagefirstchild : 1 ],  [ underline : 1 ],  [ Log : 1 ],  [ Jobs : 1 ],  [ Her : 4 ],  [ Paid : 1 ],  [ Spot : 2 ],  [ param : 2 ],  [ it’s : 1 ],  [ Applications : 1 ],  [ ccolumn : 6 ],  [ careers : 1 ],  [ real : 1 ],  [ Potato : 1 ],  [ Starts : 1 ],  [ Regulating : 3 ],  [ nytfranklin : 14 ],  [ world : 1 ],  [ Fiction : 1 ],  [ Came : 1 ],  [ httpsstatic01nytcomjsmtr : 1 ],  [ Show : 1 ],  [ Dr : 1 ],  [ Hacks : 1 ],  [ containergetElementsByTagNamebutton0 : 1 ],  [ Hack : 1 ],  [ Sharp : 1 ],  [ 中文 : 1 ],  [ Before : 1 ],  [ windowlocationsearchindexOfdisabletagx : 1 ],  [ Fe’s : 1 ],  [ uppercase : 8 ],  [ NYTDFlexTypespushtargetFT100000004724595typeFadingSlideShowdataoptionswidth177height177jsonphttpsstatic01nytcomslideshow20161023worldcanadawhenmillionsareinneedwhatdoesitmeantohelponefamilyslideshowjsonplinkhttpwwwnytimescominteractive20161022worldamericascanadarefugeessyriahtmlphotosphotourlcreditadvanceddelay3limitjsonp0renditionmediumFlexible177targetoverrideabbreviatecreditstrue : 1 ],  [ nytkarnakdisplaynytkarnakdisplay130124georgiatimes : 1 ],  [ Clinton’s : 1 ],  [ Mars : 1 ],  [ New : 23 ],  [ Men : 1 ],  [ 2f : 2 ],  [ timetimestamp : 1 ],  [ provider : 1 ],  [ marginright8px : 1 ],  [ refer : 4 ],  [ Earn : 1 ],  [ Later : 1 ],  [ containerId : 1 ],  [ AM : 3 ],  [ Cash : 1 ],  [ a6a6a6 : 1 ],  [ comparison : 1 ],  [ matcheslength : 1 ],  [ of : 41 ],  [ violence : 1 ],  [ documentgetElementsByClassNametimedBriefing : 1 ],  [ Trade : 1 ],  [ Crocodile : 1 ],  [ Erotic : 1 ],  [ Paper : 2 ],  [ or : 5 ],  [ notifysetAttributeplaceholdernewtext : 1 ],  [ urlhttpsstatic01nytcomnewsgraphics20150225electionnavigationassetsimageselection2016logopng : 1 ],  [ image : 1 ],  [ inbox : 1 ],  [ your : 5 ],  [ Store : 1 ],  [ NYTDAbrareportExposureHOMEElectionPrediction : 1 ],  [ Week : 1 ],  [ her : 1 ],  [ Bowen : 1 ],  [ opacity0 : 1 ],  [ hed : 1 ],  [ NY : 2 ],  [ low : 1 ],  [ italic : 1 ],  [ Obama : 1 ],  [ TERESA : 1 ],  [ 30px : 2 ],  [ signedin : 2 ],  [ Error : 1 ],  [ Small : 1 ],  [ articlenthoftype2 : 1 ],  [ with : 5 ],  [ Guide : 4 ],  [ longer : 1 ],  [ Greats : 1 ],  [ ‘The : 7 ],  [ fraud : 1 ],  [ default : 1 ],  [ thanksMessage : 1 ],  [ vhs : 1 ],  [ Close : 1 ],  [ “Killing : 1 ],  [ Crisis : 1 ],  [ Delivered : 1 ],  [ 600 : 1 ],  [ videos : 1 ],  [ Wordplay : 1 ],  [ an : 5 ],  [ How : 7 ],  [ as : 8 ],  [ at : 10 ],  [ politics : 2 ],  [ utilsappendQueryParamshref : 1 ],  [ Migrant : 1 ],  [ reHide : 1 ],  [ Real : 6 ],  [ again : 1 ],  [ Hyundai : 1 ],  [ Dark : 1 ],  [ Lax : 1 ],  [ attrEnd : 1 ],  [ you : 1 ],  [ nytintemailsubscriber : 1 ],  [ Lady : 2 ],  [ bordercolorrgba971361661 : 1 ],  [ symbol : 1 ],  [ time : 7 ],  [ important : 11 ],  [ windowlocationhrefhttpwwwnytimescom20161022nytnowtop10commentshealthepainfuldivideinourcountryhtml : 1 ],  [ included : 1 ],  [ Rentals : 3 ],  [ 311518500249en1rn2eon3uaero341275144aereoro882459459u15356943890f20te : 3 ],  [ wfloading : 2 ],  [ Major : 2 ],  [ wife : 1 ],  [ nbspComments : 5 ],  [ gcandidatewidth50gmodelpromo : 1 ],  [ storythemefeaturepromofirstchildbordertopnone : 1 ],  [ Magazines : 1 ],  [ Pitch : 2 ],  [ gcandidatesdisplaywebkitboxdisplaymsflexboxdisplayflexgmodelpromo : 1 ],  [ all : 2 ],  [ Fix : 2 ],  [ Take : 3 ],  [ strictfunction : 1 ],  [ Brown : 1 ],  [ icons : 1 ],  [ Closings : 1 ],  [ to : 34 ],  [ init : 3 ],  [ homepage : 1 ],  [ 4em : 1 ],  [ Listings : 1 ],  [ Sale : 2 ],  [ Headers : 1 ],  [ 1px : 17 ],  [ Zadie : 2 ],  [ VoiceboxvoxelemId : 1 ],  [ Juice : 1 ],  [ borderbottomleftradius : 3 ],  [ messengersuggestions : 5 ],  [ Español : 1 ],  [ Should : 2 ],  [ lawyer : 1 ],  [ ribbon : 1 ],  [ Giants : 1 ],  [ Korea : 1 ],  [ urlhttpsstatic01nytcomimagesiconsiconalert12x12a81817png : 1 ],  [ Harmful : 1 ],  [ Abuse : 1 ],  [ glabelcolorfffpadding8pxgmodelpromohppromoccol : 1 ],  [ paddingbottom : 1 ],  [ Gift : 3 ],  [ K : 1 ],  [ NFL : 4 ],  [ Contact : 1 ],  [ Clinton : 10 ],  [ Briefing : 4 ],  [ 903 : 1 ],  [ search : 1 ],  [ experience : 1 ],  [ glinktextdecorationunderlinegmodelpromohppromoccolbeforeboxsizingcontentboxcontentdisplayblockbordertop2px : 1 ],  [ themecomments : 1 ],  [ Style : 5 ],  [ httpsstatic01nytcomjs2buildvideoplayersextended20appRequire : 1 ],  [ nythpDeveloping : 1 ],  [ Top : 3 ],  [ href : 3 ],  [ notificationstitle : 1 ],  [ Too : 1 ],  [ ET : 3 ],  [ Explores : 2 ],  [ Explorer : 1 ],  [ Teacher’s : 1 ],  [ two : 1 ],  [ Automobiles : 2 ],  [ Russian : 1 ],  [ textalign : 10 ],  [ company : 1 ],  [ foundations : 1 ],  [ Spotlight : 1 ],  [ none : 33 ],  [ httpwwwnytimescom20161022nytnowtop10commentshealthepainfuldivideinourcountryhtml : 1 ],  [ bordertop : 6 ],  [ 326891 : 2 ],  [ Different : 1 ],  [ Retirement : 1 ],  [ states : 1 ],  [ numbers : 1 ],  [ Chira : 1 ],  [ spanabcregion : 9 ],  [ Dead’ : 1 ],  [ previewTimed : 1 ],  [ Television : 2 ],  [ plans : 1 ],  [ Foreign : 1 ],  [ paddingtop11px : 1 ],  [ Matter : 2 ],  [ startTime : 5 ],  [ Syria : 1 ],  [ Residents : 1 ],  [ pageManager : 3 ],  [ capitalize : 2 ],  [ a : 55 ],  [ short : 2 ],  [ o0i0c0raiife : 1 ],  [ Sweep : 1 ],  [ Player : 1 ],  [ AntiAmerican : 1 ],  [ 175rem : 1 ],  [ What : 6 ],  [ Arial : 1 ],  [ help : 1 ],  [ SignUp : 1 ],  [ already : 2 ],  [ through : 1 ],  [ bordertopcolor : 1 ],  [ divdatastatusworking : 2 ],  [ Oct : 1 ],  [ ccolumncolumn : 2 ],  [ style : 1 ],  [ 20 : 2 ],  [ 22 : 4 ],  [ Talents : 1 ],  [ floatleft : 1 ],  [ Enduring : 1 ],  [ Losing : 1 ],  [ Sues : 3 ],  [ NYTDNYTDNYTDAbrafunctiontuse : 1 ],  [ waitSeconds : 1 ],  [ return : 4 ],  [ food : 1 ],  [ timestamp : 2 ],  [ demographics : 1 ],  [ effect” : 1 ],  [ georgiatimes : 1 ],  [ h3gmodelpromo : 1 ],  [ glinkcolor326891gmodelpromohppromoccol : 1 ],  [ eron0an1i0c0if1alength4294967296a0foreut : 1 ],  [ spanABLedePackage : 2 ],  [ Accusation : 1 ],  [ Reads : 1 ],  [ Asking : 1 ],  [ Sounds : 1 ],  [ Ray : 1 ],  [ e2e2e2paddingleft8pxgmodelpromodisplayblockgmodelpromohppromobcolpadding7px : 1 ],  [ Sports : 7 ],  [ Criminal : 1 ],  [ 5pxgmodelpromo : 1 ],  [ More : 4 ],  [ Talking : 1 ],  [ 7 : 2 ],  [ firstcolumnregion : 2 ],  [ Cook : 2 ],  [ Ride : 1 ],  [ 4px : 5 ],  [ Observation : 1 ],  [ collectionfirstchild : 4 ],  [ story : 4 ],  [ timedBriefings : 1 ],  [ Opinion : 9 ],  [ gmodelpromocontainerpositionrelativemarginbottom10pxgmodelpromocontainer : 1 ],  [ LEARN : 1 ],  [ positioning : 2 ],  [ Years : 1 ],  [ columnfirstchild : 1 ],  [ Expect : 1 ],  [ feedType : 1 ],  [ notify : 1 ],  [ fees : 1 ],  [ Corruption : 2 ],  [ differ : 1 ],  [ gcandtoplinelabelfontsize11pxgmodelpromosolidrepgmodelpromolikelyrepgmodelpromoleaningrepbackgroundcolord75c5ccolorfffgmodelpromotossupbackgroundcolorf5f5bdgmodelpromoleaningdemgmodelpromolikelydemgmodelpromosoliddembackgroundcolor3989cbcolorfff : 1 ],  [ Becomes : 2 ],  [ Aircraft : 1 ],  [ aindexOfzone0bareplacezonezonebreakcase : 2 ],  [ Abroad : 1 ],  [ Bullet : 1 ],  [ You’ve : 1 ],  [ Companies : 1 ],  [ Problem : 2 ],  [ Todayrsquos : 2 ],  [ KEN : 1 ],  [ Puzzle : 2 ],  [ recording : 1 ],  [ Layouts : 1 ],  [ adatareactid002 : 1 ],  [ etniftvar : 1 ],  [ uniforms : 1 ],  [ nythpBriefingNewsletterSignup : 1 ],  [ lilastchild : 2 ],  [ 27n4sff : 3 ],  [ Father : 1 ],  [ null : 2 ],  [ paths : 2 ],  [ Users : 1 ],  [ Power : 1 ],  [ Food : 5 ],  [ borderbottom : 13 ],  [ Graduates : 1 ],  [ With : 8 ],  [ Kid : 1 ],  [ added : 1 ],  [ quote : 1 ],  [ reach : 1 ],  [ Hawaii : 1 ],  [ most : 1 ],  [ borderbottomwidth : 1 ],  [ Common : 1 ],  [ The : 39 ],  [ NYTDFlexTypes : 2 ],  [ Bridge : 1 ],  [ Hackers : 4 ],  [ NYTFranklinMediumRegular : 3 ],  [ clear : 5 ],  [ Subscriptions : 5 ],  [ Subscribe : 4 ],  [ Fishing : 1 ],  [ diverror : 1 ],  [ If : 1 ],  [ Speed : 1 ],  [ Viewed : 1 ],  [ PICKER : 1 ],  [ 666 : 4 ],  [ 0backgroundcolorfffgmodelpromohppromoccol : 1 ],  [ XMLHttpRequestdnullenulltryifdJSONparsesessionStoragegetItemadvoid : 1 ],  [ norepeat : 5 ],  [ marginleft : 5 ],  [ boxshadow : 1 ],  [ font : 1 ],  [ Poor : 1 ],  [ giant : 1 ],  [ 22px : 1 ],  [ Premiere : 1 ],  [ writer : 1 ],  [ documentreadyfunction : 4 ],  [ Traffic : 1 ],  [ Mandate : 1 ],  [ buttonhover : 2 ],  [ Michelle : 1 ],  [ nythpSplitCodelayout : 1 ],  [ Trump’s : 1 ],  [ banner : 1 ],  [ America : 3 ],  [ divdatastatusinitial : 5 ],  [ 4pximportant : 1 ],  [ Powerful : 1 ],  [ For : 1 ],  [ Russia’s : 1 ],  [ e2e2e2borderbottom1px : 1 ],  [ NICOLE : 1 ],  [ Critics : 1 ],  [ please : 1 ],  [ thisattrhref : 2 ],  [ watchingbetaoptincontainer : 3 ],  [ Part : 1 ],  [ 312px : 1 ],  [ conditions : 2 ],  [ spanabtopregion : 10 ],  [ King : 1 ],  [ Could : 3 ],  [ Today’s : 1 ],  [ Against : 1 ],  [ lineheight : 20 ],  [ Refugees : 1 ],  [ both : 2 ],  [ restaurant : 1 ],  [ connection : 1 ],  [ Mosul : 1 ],  [ 20160630 : 1 ],  [ whole : 1 ],  [ Mr : 3 ],  [ sweep : 1 ],  [ regulated : 1 ],  [ Way : 1 ],  [ Educator : 1 ],  [ Was : 2 ],  [ htmldatanytabHOMEElectionPredictioncontrol : 1 ],  [ Updated : 1 ],  [ Sinosphere : 1 ],  [ Students : 1 ],  [ documentaddEventListenerDOMContentLoaded : 1 ],  [ Most : 2 ],  [ Plan : 1 ],  [ Movie : 1 ],  [ Warner : 2 ],  [ Gingrich : 2 ],  [ Princeton : 1 ],  [ slideshow : 1 ],  [ else : 3 ],  [ h3kicker : 5 ],  [ YORK : 1 ],  [ GuideparentaddClassnythpGiftguide : 1 ],  [ 16px : 2 ],  [ politician : 2 ],  [ Journeys : 1 ],  [ solid : 18 ],  [ College : 1 ],  [ nn1nullfunction : 1 ],  [ Issues : 1 ],  [ ‘I’ll : 1 ],  [ City : 2 ],  [ nytfranklinhelveticaarialsansserif : 2 ],  [ Strategy : 1 ],  [ e2e2e2 : 3 ],  [ Luke : 1 ],  [ Scrutiny : 2 ],  [ ‘Fire : 1 ],  [ articlelastchild : 1 ],  [ widely : 1 ],  [ Island : 1 ],  [ 9 : 1 ],  [ Cop : 1 ],  [ About : 8 ],  [ used : 1 ],  [ Charges : 1 ],  [ Immigrants : 1 ],  [ Nathan : 1 ],  [ Podcasts : 2 ],  [ Movies : 2 ],  [ 000 : 11 ],  [ backgroundimage : 2 ],  [ purpose : 1 ],  [ 0important : 1 ],  [ 1625rem : 1 ],  [ Technology : 1 ],  [ l0var : 3 ],  [ spent : 1 ],  [ Son : 1 ],  [ containersetAttributeclassnotsignedin : 1 ],  [ Economic : 1 ],  [ Talks : 2 ],  [ Tools : 1 ],  [ Living : 2 ],  [ Porsche : 1 ],  [ previewTime : 3 ],  [ FF9859 : 2 ],  [ questions : 1 ],  [ Internet : 3 ],  [ PERLROTH : 1 ],  [ retirement : 1 ],  [ Front : 3 ],  [ input : 2 ],  [ On : 5 ],  [ padding13px : 1 ],  [ errorMessage : 1 ],  [ windowNYTD : 2 ],  [ game : 1 ],  [ nythpHideBylines : 1 ],  [ nythpSmarterLivingafter : 2 ],  [ Or : 1 ],  [ modifications : 1 ],  [ Cohen : 1 ],  [ entice : 1 ],  [ Columnists : 1 ],  [ Find : 2 ],  [ Little : 1 ],  [ often : 1 ],  [ gbaroverflowvisiblegmodelpromohppromoccol : 1 ],  [ storythemesummaryheadlinemediumsummary : 5 ],  [ anytgeoipbdocumentgetElementsByTagNamehtmlc1dcontinentcodecountrycoderegiondmacodepostalcodetimezonezoneabbrefunctionbvar : 1 ],  [ consoledebugclickelemId : 1 ],  [ Email : 1 ],  [ Daypart : 1 ],  [ Familiar : 1 ],  [ nythpBreaking : 3 ],  [ be : 1 ],  [ Look : 1 ],  [ 300 : 1 ],  [ Times : 15 ],  [ Prejudice : 1 ],  [ by : 3 ],  [ Jade : 1 ],  [ Aroma : 2 ],  [ 8px : 5 ],  [ Looks : 1 ],  [ PATEL : 1 ],  [ block : 9 ],  [ NewsDeveloping : 1 ],  [ Their : 1 ],  [ Gaga : 2 ],  [ controversies : 1 ],  [ World’ : 1 ],  [ NEW : 1 ],  [ themenewsheadlines : 4 ],  [ Driven : 1 ],  [ Used : 3 ],  [ span : 1 ],  [ borderbottomcolor : 1 ],  [ placing : 1 ],  [ long : 2 ],  [ aledepackageregion : 2 ],  [ Newman’s : 1 ],  [ User : 1 ],  [ forward : 2 ],  [ Come : 1 ],  [ Fly : 1 ],  [ widgetgetElementsByClassNamenotifyemail0 : 1 ],  [ himself : 2 ],  [ 96px : 1 ],  [ Opinionator : 1 ],  [ Twitter : 2 ],  [ gtrump : 1 ],  [ up : 3 ],  [ us : 1 ],  [ Doormen : 1 ],  [ viewportmedium10 : 2 ],  [ ul : 8 ],  [ Books : 2 ],  [ Those : 1 ],  [ Sense : 1 ],  [ ifform : 1 ],  [ Innate : 1 ],  [ nytmmFadingSlideShow : 2 ],  [ Attack : 1 ],  [ Edward : 1 ],  [ Upshot : 1 ],  [ Kesha : 1 ],  [ 959 : 1 ],  [ Map : 1 ],  [ charitable : 1 ],  [ TV : 2 ],  [ Advertise : 1 ],  [ application : 1 ],  [ bcolumn : 20 ],  [ Teach : 1 ],  [ Man : 2 ],  [ Case : 1 ],  [ Netflix : 1 ],  [ Gender : 1 ],  [ Refugee : 1 ],  [ rgb153 : 1 ],  [ httpsa1nytcomassets : 1 ],  [ Thought : 1 ],  [ Carrier : 1 ],  [ Documentary : 1 ],  [ Ad : 1 ],  [ Blown : 1 ],  [ Weddings : 2 ],  [ Turned : 1 ],  [ nytfranklinHelveticaArialsansserifpositionabsolutezindex10bottom0left109pxcolor326891borderleft1px : 1 ],  [ 2000 : 1 ],  [ nowgetMinutes : 1 ],  [ Newsletter : 3 ],  [ scroll : 1 ],  [ notificationwidget : 20 ],  [ Sell : 1 ],  [ go : 1 ],  [ centers : 1 ],  [ Painful : 1 ],  [ nytfranklinHelveticaArialsansserifgmodelpromo : 1 ],  [ Business : 4 ],  [ notifyemailhover : 1 ],  [ loadercontainer : 1 ],  [ literary : 1 ],  [ getFlexData : 1 ],  [ Words : 1 ],  [ 25px : 1 ],  [ Not : 5 ],  [ Now : 2 ],  [ EINHORN : 1 ],  [ Region : 1 ],  [ P : 1 ],  [ Wheels : 1 ],  [ Risky : 1 ],  [ button : 4 ],  [ displayinlineblock : 2 ],  [ Feelings : 3 ],  [ try : 1 ],  [ 17px : 1 ],  [ Defense : 2 ],  [ Baryshnikov : 1 ],  [ mobilize : 2 ],  [ Index : 2 ],  [ Lone : 1 ],  [ Long : 2 ],  [ Insult : 1 ],  [ video : 1 ],  [ Sections : 4 ],  [ Has : 3 ],  [ multimedia : 1 ],  [ AntiHelicopter : 2 ],  [ Coveted : 1 ],  [ datavault : 1 ],  [ exchange : 1 ],  [ Up : 4 ],  [ gupdatedcoloraaafontsize11pxgmodelpromohppromoacoltextaligncentermargintop3pxmarginbottom10pxpadding7px : 1 ],  [ explore : 1 ],  [ LESLIE : 1 ],  [ others : 1 ],  [ requirehomepagemain : 1 ],  [ Chinese : 1 ],  [ minheight38px : 1 ],  [ Back : 1 ],  [ 35 : 1 ],  [ 18px : 10 ],  [ suggests : 1 ],  [ Ground : 1 ],  [ dataoptionswidth177height177jsonphttpsstatic01nytcomslideshow20161023worldcanadawhenmillionsareinneedwhatdoesitmeantohelponefamilyslideshowjsonplinkhttpwwwnytimescominteractive20161022worldamericascanadarefugeessyriahtmlphotosphotourlcreditadvanceddelay3limitjsonp0renditionmediumFlexible177targetoverrideabbreviatecreditstrue : 1 ],  [ Readers : 1 ],  [ Multimedia : 2 ],  [ Contributing : 1 ],  [ Genius : 1 ],  [ Exit : 1 ],  [ Treatment : 3 ],  [ Abrons : 1 ],  [ from : 1 ],  [ nythpmorningbriefingemailpromo : 1 ],  [ e2e2e2height1pxmargin12px : 1 ],  [ Drives : 1 ],  [ next : 1 ],  [ Lens : 1 ],  [ Confinement : 1 ],  [ Suspected : 1 ],  [ nythpElectionPredictionCCol : 5 ],  [ NATE : 1 ],  [ Lane : 2 ],  [ Novel : 1 ],  [ bnullswitch0casejsonaresponseTypebaresponsedatabreakcase : 1 ],  [ on : 14 ],  [ notificationtext : 2 ],  [ STYLING : 2 ],  [ visibility : 2 ],  [ divdatastatussubscribed : 2 ],  [ Editorial : 5 ],  [ subscription : 1 ],  [ Feedback : 1 ],  [ this : 2 ],  [ Video : 7 ],  [ Traveler : 1 ],  [ Police : 1 ],  [ Feature : 4 ],  [ high : 1 ],  [ Anxiety : 1 ],  [ ninitfunctionnovar : 3 ],  [ containergetAttributedatastatus : 1 ],  [ photospotregion : 3 ],  [ Building : 3 ],  [ buildings : 1 ],  [ iconbefore : 1 ],  [ collection : 11 ],  [ Mrs : 2 ],  [ PAUL : 1 ],  [ introduced : 1 ],  [ Letters : 1 ],  [ generation’s : 1 ],  [ homepage20161012091952jsfoundation : 1 ],  [ One : 1 ],  [ reHidetestattrClass : 2 ],  [ notifyaddEventListenerfocusfunction : 1 ],  [ elemId : 1 ],  [ Politics : 4 ],  [ marginbottom10px : 1 ],  [ producer : 1 ],  [ Smith : 2 ],  [ Airbnb : 3 ],  [ 130 : 2 ],  [ nullaresponseTextbJSONparsearesponseTextmessagereturn : 1 ],  [ Body : 1 ],  [ write : 1 ],  [ byline : 3 ],  [ color000 : 1 ],  [ storythemefeature : 3 ],  [ li : 7 ],  [ watchingbetaoptin : 3 ],  [ fontfamily : 27 ],  [ Dyn : 1 ],  [ 2016 : 5 ],  [ 2012 : 1 ],  [ auto : 2 ],  [ DebateWatching : 1 ],  [ 68635d : 1 ],  [ Philippines : 2 ],  [ messagecontainer : 1 ],  [ Out’ : 1 ],  [ transparent : 1 ],  [ Help : 1 ],  [ Diverting : 2 ],  [ Pro : 1 ],  [ ccolumnmiddlespanregion : 4 ],  [ Say : 3 ],  [ Replica : 1 ],  [ 10px : 9 ],  [ economy : 2 ],  [ Sat : 1 ],  [ Arts : 7 ],  [ lobbies : 1 ],  [ From : 4 ],  [ d2d2 : 1 ],  [ It’s : 2 ],  [ meta : 1 ],  [ aColumn : 6 ],  [ 80 : 1 ],  [ Permission : 1 ],  [ Season : 1 ],  [ China : 1 ],  [ e1gebe1conreadystatechangefunction4creadyState200cstatusconsoleerrorcstatuscopenGEThttpsgeoipnewsdevnytimescom0trycresponseTypejsoncatchhcsendffunctionavar : 1 ],  [ supports : 1 ],  [ This : 3 ],  [ Canadians : 1 ],  [ Corrections : 1 ],  [ effectPause : 1 ],  [ storythemefeaturevideopromosmallupdatedvideopromosmall : 1 ],  [ httpsstatic01nytcompackagesjsnewsgraphics20160310readercommentsjs : 1 ],  [ Topics : 1 ],  [ times : 1 ],  [ length : 1 ],  [ ehttpsdocumentlocationprotocoltsrcehttpshttpwwwgoogletagservicescomtagjsgptjsvar : 1 ],  [ Street : 1 ],  [ STEEL : 1 ],  [ Review : 11 ],  [ ATampT : 1 ],  [ Forecast : 2 ],  [ Guns : 2 ],  [ North : 1 ],  [ homepage20161012091952jshomepage : 2 ],  [ Corporate : 1 ],  [ requirefoundationmain : 5 ],  [ their : 1 ],  [ h6hover : 4 ],  [ Adult : 1 ],  [ Iraq : 1 ],  [ 97px : 1 ],  [ notifysetAttributeplaceholder : 1 ],  [ fontsize : 34 ],  [ foundationviewspagemanager : 3 ],  [ aindexOfcode0bareplacecodereturn : 3 ],  [ requireconfig : 1 ],  [ Country’ : 1 ],  [ agritainment : 1 ],  [ Edition : 1 ],  [ requirejquerynyt : 2 ],  [ 8pxgmodelpromohovertextdecorationnonegmodelpromo : 1 ],  [ ITT : 1 ],  [ Macworld : 2 ],  [ mediaslideshow : 1 ],  [ Woman’ : 1 ],  [ lightly : 1 ],  [ Other : 1 ],  [ have : 3 ],  [ border : 4 ],  [ RONDA : 1 ],  [ notifysetAttributeplaceholderorigtext : 1 ],  [ videopromosmallcontainer : 1 ],  [ After : 2 ],  [ able : 2 ],  [ authmtr : 1 ],  [ which : 2 ],  [ Science : 3 ],  [ Teneo : 1 ],  [ Ticket : 1 ],  [ Flee : 1 ],  [ Piles : 1 ],  [ Blogs : 1 ],  [ Trove : 2 ],  [ Without : 2 ],  [ masthead : 1 ],  [ Year’s : 1 ],  [ NYTDNYTINTVoiceboxvoxelemId : 1 ],  [ gather : 1 ],  [ Some : 2 ],  [ rgba971361665 : 1 ],  [ High : 1 ],  [ Donald : 5 ],  [ functionafunctiontypeof : 1 ],  [ nythpHideTimestamps : 1 ],  [ Saturday : 1 ],  [ httpsstatic01nytcomvideovhsbuildvhs2xmin : 1 ],  [ text : 2 ],  [ Randy : 1 ],  [ Under : 1 ],  [ h3gcharttitle : 1 ],  [ Digit : 1 ],  [ based : 1 ],  [ httpsintnytcomapplicationsemailsubscriberclient : 1 ],  [ definedefineamddefinenytintgeoipawindownytintgeoipafunctionuse : 1 ],  [ Update : 1 ],  [ Undo : 1 ],  [ nytintvbcommenttext : 2 ],  [ Tracks : 1 ],  [ gbargtrumpbackgroundd75c5cgmodelpromohppromoccol : 1 ],  [ York : 10 ],  [ 5px : 6 ],  [ commentspanel : 1 ],  [ SONA : 1 ],  [ NN : 1 ],  [ handle : 2 ],  [ 999 : 7 ],  [ slidetemplatenytintvb1444762651013 : 1 ],  [ nytintvbauthor : 1 ],  [ THE : 1 ],  [ 08125rem : 1 ],  [ Because : 3 ],  [ referUrl : 1 ],  [ whether : 1 ],  [ including : 1 ],  [ endTime : 4 ],  [ httpsstatic01nytcomjsauthgrowldefault : 1 ],  [ exists : 1 ],  [ nullaresponsebJSONparsearesponsedatabreakcase : 1 ],  [ Alterations : 1 ],  [ 165rem : 1 ],  [ storythemesummary : 4 ],  [ nythpSLLighter : 1 ],  [ Arrives : 1 ],  [ 0i0c0raiife : 3 ],  [ borderwidth2px : 1 ],  [ PC : 2 ],  [ gtoplinemarginbottom5pxcolor333gmodelpromohppromoccol : 1 ],  [ 21rem : 1 ],  [ Vastly : 1 ],  [ neither : 1 ],  [ email : 4 ],  [ Kitchen : 2 ],  [ 2px : 18 ],  [ Study : 1 ],  [ fontstyle : 3 ],  [ job : 1 ],  [ Race : 1 ],  [ gpromofooterdisplaywebkitboxdisplaymsflexboxdisplayflexwebkitboxpackjustifymsflexpackjustifyjustifycontentspacebetweenwebkitboxalignbaselinemsflexalignbaselinealignitemsbaselinefontsize13pxmargintop5pxgmodelpromohppromoccol : 1 ],  [ Partying : 1 ],  [ MOORE : 1 ],  [ borderbottomrightradius : 2 ],  [ Influencers : 1 ],  [ Design : 2 ],  [ Result : 1 ],  [ Lawyer : 3 ],  [ ‘Heal : 1 ],  [ backgroundcolor : 3 ],  [ widgetgetElementsByTagNameform0 : 1 ],  [ nytfranklinHelveticaArialsansserifgmodelpromohppromoccolhovertextdecorationnonegmodelpromohppromoccolhover : 1 ],  [ subscribe : 1 ],  [ Music : 1 ],  [ Schoolteachers : 1 ],  [ table : 1 ],  [ winning : 1 ],  [ promotronOpts : 1 ],  [ Get : 3 ],  [ Makes : 2 ],  [ Collapsed : 1 ],  [ Salmon : 1 ],  [ baseUrl : 1 ],  [ KINZLER : 1 ],  [ Obituaries : 2 ],  [ define : 1 ],  [ f8e9d2 : 1 ],  [ Magnate : 1 ],  [ Center : 1 ],  [ backgroundrepeat : 2 ],  [ Delectable : 1 ],  [ runaroundRight : 2 ],  [ kickers : 1 ],  [ World : 6 ],  [ 375px : 1 ],  [ Wreckage : 1 ],  [ Navigation : 7 ],  [ Testifies : 1 ],  [ “Trump : 1 ],  [ BILL : 1 ],  [ configUrl : 1 ],  [ will : 3 ],  [ Album : 2 ],  [ nytfranklinarialhelveticasansserif : 3 ],  [ requirenytintemailsubscriber : 1 ],  [ MORE : 1 ],  [ You : 4 ],  [ Beach : 1 ],  [ Briton : 1 ],  [ borderradius : 1 ],  [ h2gsentencefontsize13pxgmodelpromo : 1 ],  [ kgeohieijoinb0classListaddkc0returnfunctiontypeof : 1 ],  [ parts : 1 ],  [ NYTimescom : 2 ],  [ Paints : 1 ],  [ Swim : 1 ],  [ attrStart : 1 ],  [ GABRIEL : 1 ],  [ appearances : 1 ],  [ effect : 1 ],  [ Aims : 2 ],  [ center : 6 ],  [ i : 2 ],  [ States : 1 ],  [ Arrests : 1 ],  [ relativeimportant : 1 ],  [ Have : 2 ],  [ position : 5 ],  [ autoplay : 1 ],  [ excessive : 1 ],  [ bananas : 1 ],  [ aicfsreturn : 3 ],  [ executive : 1 ],  [ domestic : 1 ],  [ KAYSEN : 1 ],  [ Care : 2 ],  [ Sunday : 4 ],  [ webconnected : 1 ],  [ Tower : 2 ],  [ Be : 3 ],  [ nytintvbauthorname : 2 ],  [ residential : 1 ],  [ Company : 1 ],  [ Friday : 2 ],  [ day : 1 ],  [ Jilts : 2 ],  [ By : 17 ],  [ bordercolor : 3 ],  [ urlhttpsstatic01nytcompackagesimageshomepagenewslettericonpng : 1 ],  [ 26px : 1 ],  [ Dinner : 2 ],  [ T : 4 ],  [ height : 8 ],  [ name : 1 ],  [ PETER : 1 ],  [ like : 1 ],  [ TRITCH : 1 ],  [ Warning : 2 ],  [ Skip : 2 ],  [ become : 1 ],  [ refugees : 1 ],  [ 11px : 9 ],  [ 12px : 13 ],  [ infusing : 1 ],  [ Crossword : 4 ],  [ Rwanda : 1 ],  [ documentgetElementsByClassNamenythpElectionPredictionCCol0 : 1 ],  [ Editor : 2 ],  [ windowmagnumprocessFlagslimitFabrikSavemoreFollowSuggestionsunfollowCommentsallTheEmphasesvideoVHSCovervideoVHSHomepageCovervideoVHSHomepageNewControlsvideoVHSNewControlsvideoVHSEmbeddedOnlyadditionalOpinionRegionshpViewabilityfreeTrialhpPrototypeuseCollectionApiForWellenableFlexFrameAdsweatherLocationfabrikWebsocketsOnlyNYTExperimenthpRealEstateAdjitterbugupdatedVideoPromoSmallvideoEmbed360globalBriefingsremoveInternationalEditionclientSideABRA : 1 ],  [ Curtain : 1 ],  [ home : 14 ],  [ ASHLEY : 1 ],  [ hallways : 1 ],  [ HPHEADER : 2 ],  [ pthemecomments : 1 ],  [ AheadparentaddClassnythpBriefings : 1 ],  [ videoPlaylist : 1 ],  [ Inside : 1 ],  [ Play : 4 ],  [ Us : 3 ],  [ Toward : 1 ],  [ slug : 1 ],  [ after : 1 ],  [ stage : 1 ],  [ hpHeader : 25 ],  [ column : 1 ],  [ US : 11 ],  [ Questions : 1 ],  [ ROSS : 1 ],  [ nythpDaypartRegion : 6 ],  [ Really : 1 ],  [ celebrations : 1 ],  [ Psychology : 1 ],  [ wilderness : 1 ],  [ Alerts : 1 ],  [ h6 : 52 ],  [ h4 : 2 ],  [ h5 : 2 ],  [ female : 1 ],  [ agonizing : 1 ],  [ SIFTON : 1 ],  [ Therapy : 2 ],  [ var : 25 ],  [ httpsstatic01nytcomjs2buildvideo20videofactoryrequire : 1 ],  [ Updates : 1 ],  [ function : 18 ],  [ Talent : 1 ],  [ splitlayout : 7 ],  [ 700 : 12 ],  [ but : 3 ],  [ zoom1 : 1 ],  [ internet’s : 1 ],  [ Chelsea : 2 ],  [ bug : 1 ],  [ portalheader : 1 ],  [ places : 1 ],  [ h2gmodelpromo : 1 ],  [ Todays : 3 ],  [ signed : 2 ],  [ limit : 1 ],  [ piece : 1 ],  [ display : 27 ],  [ » : 3 ],  [ Kigeli : 1 ],  [ notifyaddEventListenermouseoverfunction : 1 ],  [ marginbottom : 20 ],  [ Bottled : 1 ],  [ our : 2 ],  [ 0bbnullgfunctionefifbreturn1trysessionStoragesetItemaJSONstringifyecatchgifvoid : 1 ],  [ ifnotify : 1 ],  [ Save : 1 ],  [ Families : 1 ],  [ Wines : 1 ],  [ Centered : 2 ],  [ Never : 2 ],  [ Delivery : 1 ],  [ other : 2 ],  [ William : 1 ],  [ Like : 1 ],  [ pendnotes : 3 ],  [ Remove : 1 ],  [ April : 1 ],  [ chance : 1 ],  [ Praise : 1 ],  [ Lose : 1 ],  [ RASHBAUM : 1 ],  [ Musical : 1 ],  [ South : 1 ],  [ — : 1 ],  [ Site : 10 ],  [ formsetAttributeclassdirtyform : 1 ],  [ Trilobites : 1 ],  [ EMILY : 1 ], \n"
     ]
    }
   ],
   "source": [
    "getTextFromUrl(\"http://www.nytimes.com\")"
   ]
  },
  {
   "cell_type": "markdown",
   "metadata": {},
   "source": [
    "> 과제 2의 코드를 조금 더 확장하여 작성하였다. 우선 text.split()으로 공백을 기준으로 한 단어 리스트를 구한 다음, 각각의 단어마다 string.punctuation에 포함된 모든 단어를 제거(replace)하였다. 그리고 그 결과의 길이가 0보다 크다면(즉, 공백이 아니라면) wordList라는 사전에 저장하여 단어 개수를 기록하였다."
   ]
  },
  {
   "cell_type": "markdown",
   "metadata": {},
   "source": [
    "## 소감"
   ]
  },
  {
   "cell_type": "markdown",
   "metadata": {},
   "source": [
    "> 리스트 치환, 내포와 shallow copy, 사전에 관련된 과제였다. 수업 내용을 바탕으로 어렵지 않게 풀 수 있는 난이도였다. 마지막 과제의 경우 과제2의 소스 코드에 for in, replace, 사전형 자료형만을 사용해 손쉽게 기능을 추가할 수 있었다. 리스트 내포의 경우 처음에는 익숙하지 않았지만 문법을 이해하자 간단하게 리스트를 구성할 수 있었다. 스크립트 프로그래밍은 이번 학기에 수강중인 다른 프로그래밍 과제와는 다르게 보고서와 코드를 한번에 작성하고, 이를 git으로 형상관리도 할 수 있는 것이 매우 마음에 든다."
   ]
  }
 ],
 "metadata": {
  "anaconda-cloud": {},
  "kernelspec": {
   "display_name": "Python [Root]",
   "language": "python",
   "name": "Python [Root]"
  },
  "language_info": {
   "codemirror_mode": {
    "name": "ipython",
    "version": 2
   },
   "file_extension": ".py",
   "mimetype": "text/x-python",
   "name": "python",
   "nbconvert_exporter": "python",
   "pygments_lexer": "ipython2",
   "version": "2.7.12"
  }
 },
 "nbformat": 4,
 "nbformat_minor": 0
}
